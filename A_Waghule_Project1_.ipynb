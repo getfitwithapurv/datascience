{
 "cells": [
  {
   "cell_type": "code",
   "execution_count": 1,
   "id": "bbbba48c",
   "metadata": {},
   "outputs": [
    {
     "data": {
      "text/html": [
       "<div>\n",
       "<style scoped>\n",
       "    .dataframe tbody tr th:only-of-type {\n",
       "        vertical-align: middle;\n",
       "    }\n",
       "\n",
       "    .dataframe tbody tr th {\n",
       "        vertical-align: top;\n",
       "    }\n",
       "\n",
       "    .dataframe thead th {\n",
       "        text-align: right;\n",
       "    }\n",
       "</style>\n",
       "<table border=\"1\" class=\"dataframe\">\n",
       "  <thead>\n",
       "    <tr style=\"text-align: right;\">\n",
       "      <th></th>\n",
       "      <th>report_school_year</th>\n",
       "      <th>aggregation_index</th>\n",
       "      <th>aggregation_type</th>\n",
       "      <th>aggregation_name</th>\n",
       "      <th>nrc_code</th>\n",
       "      <th>nrc_desc</th>\n",
       "      <th>county_code</th>\n",
       "      <th>county_name</th>\n",
       "      <th>nyc_ind</th>\n",
       "      <th>membership_desc</th>\n",
       "      <th>...</th>\n",
       "      <th>reg_adv_cnt</th>\n",
       "      <th>reg_adv_pct</th>\n",
       "      <th>non_diploma_credential_cnt</th>\n",
       "      <th>non_diploma_credential_pct</th>\n",
       "      <th>still_enr_cnt</th>\n",
       "      <th>still_enr_pct</th>\n",
       "      <th>ged_cnt</th>\n",
       "      <th>ged_pct</th>\n",
       "      <th>dropout_cnt</th>\n",
       "      <th>dropout_pct</th>\n",
       "    </tr>\n",
       "  </thead>\n",
       "  <tbody>\n",
       "    <tr>\n",
       "      <th>0</th>\n",
       "      <td>2018-19</td>\n",
       "      <td>3</td>\n",
       "      <td>District</td>\n",
       "      <td>ALBANY CITY SCHOOL DISTRICT</td>\n",
       "      <td>3</td>\n",
       "      <td>Urban-Suburban High Needs</td>\n",
       "      <td>1</td>\n",
       "      <td>ALBANY</td>\n",
       "      <td>0</td>\n",
       "      <td>2013 Total Cohort - 6 Year Outcome</td>\n",
       "      <td>...</td>\n",
       "      <td>91</td>\n",
       "      <td>14%</td>\n",
       "      <td>16</td>\n",
       "      <td>2%</td>\n",
       "      <td>30</td>\n",
       "      <td>5%</td>\n",
       "      <td>0</td>\n",
       "      <td>0%</td>\n",
       "      <td>148</td>\n",
       "      <td>22%</td>\n",
       "    </tr>\n",
       "    <tr>\n",
       "      <th>1</th>\n",
       "      <td>2018-19</td>\n",
       "      <td>3</td>\n",
       "      <td>District</td>\n",
       "      <td>ALBANY CITY SCHOOL DISTRICT</td>\n",
       "      <td>3</td>\n",
       "      <td>Urban-Suburban High Needs</td>\n",
       "      <td>1</td>\n",
       "      <td>ALBANY</td>\n",
       "      <td>0</td>\n",
       "      <td>2013 Total Cohort - 6 Year Outcome</td>\n",
       "      <td>...</td>\n",
       "      <td>47</td>\n",
       "      <td>15%</td>\n",
       "      <td>2</td>\n",
       "      <td>1%</td>\n",
       "      <td>11</td>\n",
       "      <td>3%</td>\n",
       "      <td>0</td>\n",
       "      <td>0%</td>\n",
       "      <td>65</td>\n",
       "      <td>20%</td>\n",
       "    </tr>\n",
       "    <tr>\n",
       "      <th>2</th>\n",
       "      <td>2018-19</td>\n",
       "      <td>3</td>\n",
       "      <td>District</td>\n",
       "      <td>ALBANY CITY SCHOOL DISTRICT</td>\n",
       "      <td>3</td>\n",
       "      <td>Urban-Suburban High Needs</td>\n",
       "      <td>1</td>\n",
       "      <td>ALBANY</td>\n",
       "      <td>0</td>\n",
       "      <td>2013 Total Cohort - 6 Year Outcome</td>\n",
       "      <td>...</td>\n",
       "      <td>44</td>\n",
       "      <td>13%</td>\n",
       "      <td>14</td>\n",
       "      <td>4%</td>\n",
       "      <td>19</td>\n",
       "      <td>6%</td>\n",
       "      <td>0</td>\n",
       "      <td>0%</td>\n",
       "      <td>83</td>\n",
       "      <td>25%</td>\n",
       "    </tr>\n",
       "    <tr>\n",
       "      <th>3</th>\n",
       "      <td>2018-19</td>\n",
       "      <td>3</td>\n",
       "      <td>District</td>\n",
       "      <td>ALBANY CITY SCHOOL DISTRICT</td>\n",
       "      <td>3</td>\n",
       "      <td>Urban-Suburban High Needs</td>\n",
       "      <td>1</td>\n",
       "      <td>ALBANY</td>\n",
       "      <td>0</td>\n",
       "      <td>2013 Total Cohort - 6 Year Outcome</td>\n",
       "      <td>...</td>\n",
       "      <td>-</td>\n",
       "      <td>-</td>\n",
       "      <td>-</td>\n",
       "      <td>-</td>\n",
       "      <td>-</td>\n",
       "      <td>-</td>\n",
       "      <td>-</td>\n",
       "      <td>-</td>\n",
       "      <td>-</td>\n",
       "      <td>-</td>\n",
       "    </tr>\n",
       "    <tr>\n",
       "      <th>4</th>\n",
       "      <td>2018-19</td>\n",
       "      <td>3</td>\n",
       "      <td>District</td>\n",
       "      <td>ALBANY CITY SCHOOL DISTRICT</td>\n",
       "      <td>3</td>\n",
       "      <td>Urban-Suburban High Needs</td>\n",
       "      <td>1</td>\n",
       "      <td>ALBANY</td>\n",
       "      <td>0</td>\n",
       "      <td>2013 Total Cohort - 6 Year Outcome</td>\n",
       "      <td>...</td>\n",
       "      <td>23</td>\n",
       "      <td>6%</td>\n",
       "      <td>10</td>\n",
       "      <td>3%</td>\n",
       "      <td>18</td>\n",
       "      <td>5%</td>\n",
       "      <td>0</td>\n",
       "      <td>0%</td>\n",
       "      <td>91</td>\n",
       "      <td>25%</td>\n",
       "    </tr>\n",
       "  </tbody>\n",
       "</table>\n",
       "<p>5 rows × 29 columns</p>\n",
       "</div>"
      ],
      "text/plain": [
       "  report_school_year  aggregation_index aggregation_type  \\\n",
       "0            2018-19                  3         District   \n",
       "1            2018-19                  3         District   \n",
       "2            2018-19                  3         District   \n",
       "3            2018-19                  3         District   \n",
       "4            2018-19                  3         District   \n",
       "\n",
       "              aggregation_name  nrc_code                   nrc_desc  \\\n",
       "0  ALBANY CITY SCHOOL DISTRICT         3  Urban-Suburban High Needs   \n",
       "1  ALBANY CITY SCHOOL DISTRICT         3  Urban-Suburban High Needs   \n",
       "2  ALBANY CITY SCHOOL DISTRICT         3  Urban-Suburban High Needs   \n",
       "3  ALBANY CITY SCHOOL DISTRICT         3  Urban-Suburban High Needs   \n",
       "4  ALBANY CITY SCHOOL DISTRICT         3  Urban-Suburban High Needs   \n",
       "\n",
       "   county_code county_name  nyc_ind                     membership_desc  ...  \\\n",
       "0            1      ALBANY        0  2013 Total Cohort - 6 Year Outcome  ...   \n",
       "1            1      ALBANY        0  2013 Total Cohort - 6 Year Outcome  ...   \n",
       "2            1      ALBANY        0  2013 Total Cohort - 6 Year Outcome  ...   \n",
       "3            1      ALBANY        0  2013 Total Cohort - 6 Year Outcome  ...   \n",
       "4            1      ALBANY        0  2013 Total Cohort - 6 Year Outcome  ...   \n",
       "\n",
       "   reg_adv_cnt reg_adv_pct non_diploma_credential_cnt  \\\n",
       "0           91         14%                         16   \n",
       "1           47         15%                          2   \n",
       "2           44         13%                         14   \n",
       "3            -           -                          -   \n",
       "4           23          6%                         10   \n",
       "\n",
       "  non_diploma_credential_pct still_enr_cnt still_enr_pct ged_cnt ged_pct  \\\n",
       "0                         2%            30            5%       0      0%   \n",
       "1                         1%            11            3%       0      0%   \n",
       "2                         4%            19            6%       0      0%   \n",
       "3                          -             -             -       -       -   \n",
       "4                         3%            18            5%       0      0%   \n",
       "\n",
       "  dropout_cnt dropout_pct  \n",
       "0         148         22%  \n",
       "1          65         20%  \n",
       "2          83         25%  \n",
       "3           -           -  \n",
       "4          91         25%  \n",
       "\n",
       "[5 rows x 29 columns]"
      ]
     },
     "execution_count": 1,
     "metadata": {},
     "output_type": "execute_result"
    }
   ],
   "source": [
    "# load the pandas library\n",
    "import pandas as pd\n",
    "import numpy as np\n",
    "# importing dataset from github. \n",
    "# This data set contains information information pertaining to NY State High School graduation metrics for the 2018-2019 school year\n",
    "filename = \"https://raw.githubusercontent.com/getfitwithapurv/datascience/main/Project1_Data.csv\"\n",
    "df = pd.read_csv(filename)\n",
    "df.head()"
   ]
  },
  {
   "cell_type": "code",
   "execution_count": 2,
   "id": "8bbaeb07",
   "metadata": {},
   "outputs": [
    {
     "data": {
      "text/html": [
       "<div>\n",
       "<style scoped>\n",
       "    .dataframe tbody tr th:only-of-type {\n",
       "        vertical-align: middle;\n",
       "    }\n",
       "\n",
       "    .dataframe tbody tr th {\n",
       "        vertical-align: top;\n",
       "    }\n",
       "\n",
       "    .dataframe thead th {\n",
       "        text-align: right;\n",
       "    }\n",
       "</style>\n",
       "<table border=\"1\" class=\"dataframe\">\n",
       "  <thead>\n",
       "    <tr style=\"text-align: right;\">\n",
       "      <th></th>\n",
       "      <th>report_school_year</th>\n",
       "      <th>aggregation_index</th>\n",
       "      <th>aggregation_type</th>\n",
       "      <th>aggregation_name</th>\n",
       "      <th>nrc_code</th>\n",
       "      <th>nrc_desc</th>\n",
       "      <th>county_code</th>\n",
       "      <th>county_name</th>\n",
       "      <th>nyc_ind</th>\n",
       "      <th>membership_desc</th>\n",
       "      <th>...</th>\n",
       "      <th>reg_adv_cnt</th>\n",
       "      <th>reg_adv_pct</th>\n",
       "      <th>non_diploma_credential_cnt</th>\n",
       "      <th>non_diploma_credential_pct</th>\n",
       "      <th>still_enr_cnt</th>\n",
       "      <th>still_enr_pct</th>\n",
       "      <th>ged_cnt</th>\n",
       "      <th>ged_pct</th>\n",
       "      <th>dropout_cnt</th>\n",
       "      <th>dropout_pct</th>\n",
       "    </tr>\n",
       "  </thead>\n",
       "  <tbody>\n",
       "    <tr>\n",
       "      <th>0</th>\n",
       "      <td>2018-19</td>\n",
       "      <td>3</td>\n",
       "      <td>District</td>\n",
       "      <td>ALBANY CITY SCHOOL DISTRICT</td>\n",
       "      <td>3</td>\n",
       "      <td>Urban-Suburban High Needs</td>\n",
       "      <td>1</td>\n",
       "      <td>ALBANY</td>\n",
       "      <td>0</td>\n",
       "      <td>2013 Total Cohort - 6 Year Outcome</td>\n",
       "      <td>...</td>\n",
       "      <td>91</td>\n",
       "      <td>14%</td>\n",
       "      <td>16</td>\n",
       "      <td>2%</td>\n",
       "      <td>30</td>\n",
       "      <td>5%</td>\n",
       "      <td>0</td>\n",
       "      <td>0%</td>\n",
       "      <td>148</td>\n",
       "      <td>22%</td>\n",
       "    </tr>\n",
       "    <tr>\n",
       "      <th>1</th>\n",
       "      <td>2018-19</td>\n",
       "      <td>3</td>\n",
       "      <td>District</td>\n",
       "      <td>ALBANY CITY SCHOOL DISTRICT</td>\n",
       "      <td>3</td>\n",
       "      <td>Urban-Suburban High Needs</td>\n",
       "      <td>1</td>\n",
       "      <td>ALBANY</td>\n",
       "      <td>0</td>\n",
       "      <td>2013 Total Cohort - 6 Year Outcome</td>\n",
       "      <td>...</td>\n",
       "      <td>47</td>\n",
       "      <td>15%</td>\n",
       "      <td>2</td>\n",
       "      <td>1%</td>\n",
       "      <td>11</td>\n",
       "      <td>3%</td>\n",
       "      <td>0</td>\n",
       "      <td>0%</td>\n",
       "      <td>65</td>\n",
       "      <td>20%</td>\n",
       "    </tr>\n",
       "    <tr>\n",
       "      <th>2</th>\n",
       "      <td>2018-19</td>\n",
       "      <td>3</td>\n",
       "      <td>District</td>\n",
       "      <td>ALBANY CITY SCHOOL DISTRICT</td>\n",
       "      <td>3</td>\n",
       "      <td>Urban-Suburban High Needs</td>\n",
       "      <td>1</td>\n",
       "      <td>ALBANY</td>\n",
       "      <td>0</td>\n",
       "      <td>2013 Total Cohort - 6 Year Outcome</td>\n",
       "      <td>...</td>\n",
       "      <td>44</td>\n",
       "      <td>13%</td>\n",
       "      <td>14</td>\n",
       "      <td>4%</td>\n",
       "      <td>19</td>\n",
       "      <td>6%</td>\n",
       "      <td>0</td>\n",
       "      <td>0%</td>\n",
       "      <td>83</td>\n",
       "      <td>25%</td>\n",
       "    </tr>\n",
       "    <tr>\n",
       "      <th>3</th>\n",
       "      <td>2018-19</td>\n",
       "      <td>3</td>\n",
       "      <td>District</td>\n",
       "      <td>ALBANY CITY SCHOOL DISTRICT</td>\n",
       "      <td>3</td>\n",
       "      <td>Urban-Suburban High Needs</td>\n",
       "      <td>1</td>\n",
       "      <td>ALBANY</td>\n",
       "      <td>0</td>\n",
       "      <td>2013 Total Cohort - 6 Year Outcome</td>\n",
       "      <td>...</td>\n",
       "      <td>-</td>\n",
       "      <td>-</td>\n",
       "      <td>-</td>\n",
       "      <td>-</td>\n",
       "      <td>-</td>\n",
       "      <td>-</td>\n",
       "      <td>-</td>\n",
       "      <td>-</td>\n",
       "      <td>-</td>\n",
       "      <td>-</td>\n",
       "    </tr>\n",
       "    <tr>\n",
       "      <th>4</th>\n",
       "      <td>2018-19</td>\n",
       "      <td>3</td>\n",
       "      <td>District</td>\n",
       "      <td>ALBANY CITY SCHOOL DISTRICT</td>\n",
       "      <td>3</td>\n",
       "      <td>Urban-Suburban High Needs</td>\n",
       "      <td>1</td>\n",
       "      <td>ALBANY</td>\n",
       "      <td>0</td>\n",
       "      <td>2013 Total Cohort - 6 Year Outcome</td>\n",
       "      <td>...</td>\n",
       "      <td>23</td>\n",
       "      <td>6%</td>\n",
       "      <td>10</td>\n",
       "      <td>3%</td>\n",
       "      <td>18</td>\n",
       "      <td>5%</td>\n",
       "      <td>0</td>\n",
       "      <td>0%</td>\n",
       "      <td>91</td>\n",
       "      <td>25%</td>\n",
       "    </tr>\n",
       "    <tr>\n",
       "      <th>...</th>\n",
       "      <td>...</td>\n",
       "      <td>...</td>\n",
       "      <td>...</td>\n",
       "      <td>...</td>\n",
       "      <td>...</td>\n",
       "      <td>...</td>\n",
       "      <td>...</td>\n",
       "      <td>...</td>\n",
       "      <td>...</td>\n",
       "      <td>...</td>\n",
       "      <td>...</td>\n",
       "      <td>...</td>\n",
       "      <td>...</td>\n",
       "      <td>...</td>\n",
       "      <td>...</td>\n",
       "      <td>...</td>\n",
       "      <td>...</td>\n",
       "      <td>...</td>\n",
       "      <td>...</td>\n",
       "      <td>...</td>\n",
       "      <td>...</td>\n",
       "    </tr>\n",
       "    <tr>\n",
       "      <th>73147</th>\n",
       "      <td>2018-19</td>\n",
       "      <td>3</td>\n",
       "      <td>District</td>\n",
       "      <td>DUNDEE CENTRAL SCHOOL DISTRICT</td>\n",
       "      <td>4</td>\n",
       "      <td>Rural High Needs</td>\n",
       "      <td>68</td>\n",
       "      <td>YATES</td>\n",
       "      <td>0</td>\n",
       "      <td>2013 Total Cohort - 6 Year Outcome - August 2019</td>\n",
       "      <td>...</td>\n",
       "      <td>-</td>\n",
       "      <td>-</td>\n",
       "      <td>-</td>\n",
       "      <td>-</td>\n",
       "      <td>-</td>\n",
       "      <td>-</td>\n",
       "      <td>-</td>\n",
       "      <td>-</td>\n",
       "      <td>-</td>\n",
       "      <td>-</td>\n",
       "    </tr>\n",
       "    <tr>\n",
       "      <th>73148</th>\n",
       "      <td>2018-19</td>\n",
       "      <td>3</td>\n",
       "      <td>District</td>\n",
       "      <td>DUNDEE CENTRAL SCHOOL DISTRICT</td>\n",
       "      <td>4</td>\n",
       "      <td>Rural High Needs</td>\n",
       "      <td>68</td>\n",
       "      <td>YATES</td>\n",
       "      <td>0</td>\n",
       "      <td>2013 Total Cohort - 6 Year Outcome - August 2019</td>\n",
       "      <td>...</td>\n",
       "      <td>-</td>\n",
       "      <td>-</td>\n",
       "      <td>-</td>\n",
       "      <td>-</td>\n",
       "      <td>-</td>\n",
       "      <td>-</td>\n",
       "      <td>-</td>\n",
       "      <td>-</td>\n",
       "      <td>-</td>\n",
       "      <td>-</td>\n",
       "    </tr>\n",
       "    <tr>\n",
       "      <th>73149</th>\n",
       "      <td>2018-19</td>\n",
       "      <td>3</td>\n",
       "      <td>District</td>\n",
       "      <td>DUNDEE CENTRAL SCHOOL DISTRICT</td>\n",
       "      <td>4</td>\n",
       "      <td>Rural High Needs</td>\n",
       "      <td>68</td>\n",
       "      <td>YATES</td>\n",
       "      <td>0</td>\n",
       "      <td>2013 Total Cohort - 6 Year Outcome - August 2019</td>\n",
       "      <td>...</td>\n",
       "      <td>-</td>\n",
       "      <td>-</td>\n",
       "      <td>-</td>\n",
       "      <td>-</td>\n",
       "      <td>-</td>\n",
       "      <td>-</td>\n",
       "      <td>-</td>\n",
       "      <td>-</td>\n",
       "      <td>-</td>\n",
       "      <td>-</td>\n",
       "    </tr>\n",
       "    <tr>\n",
       "      <th>73150</th>\n",
       "      <td>2018-19</td>\n",
       "      <td>3</td>\n",
       "      <td>District</td>\n",
       "      <td>DUNDEE CENTRAL SCHOOL DISTRICT</td>\n",
       "      <td>4</td>\n",
       "      <td>Rural High Needs</td>\n",
       "      <td>68</td>\n",
       "      <td>YATES</td>\n",
       "      <td>0</td>\n",
       "      <td>2013 Total Cohort - 6 Year Outcome - August 2019</td>\n",
       "      <td>...</td>\n",
       "      <td>-</td>\n",
       "      <td>-</td>\n",
       "      <td>-</td>\n",
       "      <td>-</td>\n",
       "      <td>-</td>\n",
       "      <td>-</td>\n",
       "      <td>-</td>\n",
       "      <td>-</td>\n",
       "      <td>-</td>\n",
       "      <td>-</td>\n",
       "    </tr>\n",
       "    <tr>\n",
       "      <th>73151</th>\n",
       "      <td>2018-19</td>\n",
       "      <td>3</td>\n",
       "      <td>District</td>\n",
       "      <td>DUNDEE CENTRAL SCHOOL DISTRICT</td>\n",
       "      <td>4</td>\n",
       "      <td>Rural High Needs</td>\n",
       "      <td>68</td>\n",
       "      <td>YATES</td>\n",
       "      <td>0</td>\n",
       "      <td>2013 Total Cohort - 6 Year Outcome - August 2019</td>\n",
       "      <td>...</td>\n",
       "      <td>-</td>\n",
       "      <td>-</td>\n",
       "      <td>-</td>\n",
       "      <td>-</td>\n",
       "      <td>-</td>\n",
       "      <td>-</td>\n",
       "      <td>-</td>\n",
       "      <td>-</td>\n",
       "      <td>-</td>\n",
       "      <td>-</td>\n",
       "    </tr>\n",
       "  </tbody>\n",
       "</table>\n",
       "<p>73152 rows × 29 columns</p>\n",
       "</div>"
      ],
      "text/plain": [
       "      report_school_year  aggregation_index aggregation_type  \\\n",
       "0                2018-19                  3         District   \n",
       "1                2018-19                  3         District   \n",
       "2                2018-19                  3         District   \n",
       "3                2018-19                  3         District   \n",
       "4                2018-19                  3         District   \n",
       "...                  ...                ...              ...   \n",
       "73147            2018-19                  3         District   \n",
       "73148            2018-19                  3         District   \n",
       "73149            2018-19                  3         District   \n",
       "73150            2018-19                  3         District   \n",
       "73151            2018-19                  3         District   \n",
       "\n",
       "                     aggregation_name  nrc_code                   nrc_desc  \\\n",
       "0         ALBANY CITY SCHOOL DISTRICT         3  Urban-Suburban High Needs   \n",
       "1         ALBANY CITY SCHOOL DISTRICT         3  Urban-Suburban High Needs   \n",
       "2         ALBANY CITY SCHOOL DISTRICT         3  Urban-Suburban High Needs   \n",
       "3         ALBANY CITY SCHOOL DISTRICT         3  Urban-Suburban High Needs   \n",
       "4         ALBANY CITY SCHOOL DISTRICT         3  Urban-Suburban High Needs   \n",
       "...                               ...       ...                        ...   \n",
       "73147  DUNDEE CENTRAL SCHOOL DISTRICT         4           Rural High Needs   \n",
       "73148  DUNDEE CENTRAL SCHOOL DISTRICT         4           Rural High Needs   \n",
       "73149  DUNDEE CENTRAL SCHOOL DISTRICT         4           Rural High Needs   \n",
       "73150  DUNDEE CENTRAL SCHOOL DISTRICT         4           Rural High Needs   \n",
       "73151  DUNDEE CENTRAL SCHOOL DISTRICT         4           Rural High Needs   \n",
       "\n",
       "       county_code county_name  nyc_ind  \\\n",
       "0                1      ALBANY        0   \n",
       "1                1      ALBANY        0   \n",
       "2                1      ALBANY        0   \n",
       "3                1      ALBANY        0   \n",
       "4                1      ALBANY        0   \n",
       "...            ...         ...      ...   \n",
       "73147           68       YATES        0   \n",
       "73148           68       YATES        0   \n",
       "73149           68       YATES        0   \n",
       "73150           68       YATES        0   \n",
       "73151           68       YATES        0   \n",
       "\n",
       "                                        membership_desc  ...  reg_adv_cnt  \\\n",
       "0                    2013 Total Cohort - 6 Year Outcome  ...           91   \n",
       "1                    2013 Total Cohort - 6 Year Outcome  ...           47   \n",
       "2                    2013 Total Cohort - 6 Year Outcome  ...           44   \n",
       "3                    2013 Total Cohort - 6 Year Outcome  ...            -   \n",
       "4                    2013 Total Cohort - 6 Year Outcome  ...           23   \n",
       "...                                                 ...  ...          ...   \n",
       "73147  2013 Total Cohort - 6 Year Outcome - August 2019  ...            -   \n",
       "73148  2013 Total Cohort - 6 Year Outcome - August 2019  ...            -   \n",
       "73149  2013 Total Cohort - 6 Year Outcome - August 2019  ...            -   \n",
       "73150  2013 Total Cohort - 6 Year Outcome - August 2019  ...            -   \n",
       "73151  2013 Total Cohort - 6 Year Outcome - August 2019  ...            -   \n",
       "\n",
       "      reg_adv_pct non_diploma_credential_cnt non_diploma_credential_pct  \\\n",
       "0             14%                         16                         2%   \n",
       "1             15%                          2                         1%   \n",
       "2             13%                         14                         4%   \n",
       "3               -                          -                          -   \n",
       "4              6%                         10                         3%   \n",
       "...           ...                        ...                        ...   \n",
       "73147           -                          -                          -   \n",
       "73148           -                          -                          -   \n",
       "73149           -                          -                          -   \n",
       "73150           -                          -                          -   \n",
       "73151           -                          -                          -   \n",
       "\n",
       "      still_enr_cnt still_enr_pct ged_cnt ged_pct dropout_cnt dropout_pct  \n",
       "0                30            5%       0      0%         148         22%  \n",
       "1                11            3%       0      0%          65         20%  \n",
       "2                19            6%       0      0%          83         25%  \n",
       "3                 -             -       -       -           -           -  \n",
       "4                18            5%       0      0%          91         25%  \n",
       "...             ...           ...     ...     ...         ...         ...  \n",
       "73147             -             -       -       -           -           -  \n",
       "73148             -             -       -       -           -           -  \n",
       "73149             -             -       -       -           -           -  \n",
       "73150             -             -       -       -           -           -  \n",
       "73151             -             -       -       -           -           -  \n",
       "\n",
       "[73152 rows x 29 columns]"
      ]
     },
     "execution_count": 2,
     "metadata": {},
     "output_type": "execute_result"
    }
   ],
   "source": [
    "df #sanity check"
   ]
  },
  {
   "cell_type": "markdown",
   "id": "2bc9eb3d",
   "metadata": {},
   "source": [
    "some numerical columns has value \"-\" need to remove those rows since enroll_cnt is \"-\" which can be infered as no student enrollement was done"
   ]
  },
  {
   "cell_type": "code",
   "execution_count": 3,
   "id": "2eb843db",
   "metadata": {},
   "outputs": [],
   "source": [
    "df= df[df[\"enroll_cnt\"].str.contains(\"-\")==False] #removed rows containing \"-\". Rows reduced from 73152 to 39674"
   ]
  },
  {
   "cell_type": "code",
   "execution_count": 4,
   "id": "0ab5d4c7",
   "metadata": {},
   "outputs": [
    {
     "data": {
      "text/plain": [
       "(39674, 29)"
      ]
     },
     "execution_count": 4,
     "metadata": {},
     "output_type": "execute_result"
    }
   ],
   "source": [
    "df.shape # 39674 rows and 29 columns (45% rows are removed)"
   ]
  },
  {
   "cell_type": "code",
   "execution_count": 5,
   "id": "0a99d017",
   "metadata": {},
   "outputs": [
    {
     "name": "stdout",
     "output_type": "stream",
     "text": [
      "<class 'pandas.core.frame.DataFrame'>\n",
      "Int64Index: 39674 entries, 0 to 73146\n",
      "Data columns (total 29 columns):\n",
      " #   Column                      Non-Null Count  Dtype \n",
      "---  ------                      --------------  ----- \n",
      " 0   report_school_year          39674 non-null  object\n",
      " 1   aggregation_index           39674 non-null  int64 \n",
      " 2   aggregation_type            39674 non-null  object\n",
      " 3   aggregation_name            39674 non-null  object\n",
      " 4   nrc_code                    39674 non-null  int64 \n",
      " 5   nrc_desc                    39674 non-null  object\n",
      " 6   county_code                 39674 non-null  int64 \n",
      " 7   county_name                 39674 non-null  object\n",
      " 8   nyc_ind                     39674 non-null  int64 \n",
      " 9   membership_desc             39674 non-null  object\n",
      " 10  subgroup_code               39674 non-null  int64 \n",
      " 11  subgroup_name               39674 non-null  object\n",
      " 12  enroll_cnt                  39674 non-null  object\n",
      " 13  grad_cnt                    39674 non-null  object\n",
      " 14  grad_pct                    39674 non-null  object\n",
      " 15  local_cnt                   39674 non-null  object\n",
      " 16  local_pct                   39674 non-null  object\n",
      " 17  reg_cnt                     39674 non-null  object\n",
      " 18  reg_pct                     39674 non-null  object\n",
      " 19  reg_adv_cnt                 39674 non-null  object\n",
      " 20  reg_adv_pct                 39674 non-null  object\n",
      " 21  non_diploma_credential_cnt  39674 non-null  object\n",
      " 22  non_diploma_credential_pct  39674 non-null  object\n",
      " 23  still_enr_cnt               39674 non-null  object\n",
      " 24  still_enr_pct               39674 non-null  object\n",
      " 25  ged_cnt                     39674 non-null  object\n",
      " 26  ged_pct                     39674 non-null  object\n",
      " 27  dropout_cnt                 39674 non-null  object\n",
      " 28  dropout_pct                 39674 non-null  object\n",
      "dtypes: int64(5), object(24)\n",
      "memory usage: 9.1+ MB\n"
     ]
    }
   ],
   "source": [
    "# checking datatype and null values of data set\n",
    "df.info()"
   ]
  },
  {
   "cell_type": "code",
   "execution_count": 6,
   "id": "7f6485b0",
   "metadata": {},
   "outputs": [
    {
     "data": {
      "text/plain": [
       "report_school_year            0\n",
       "aggregation_index             0\n",
       "aggregation_type              0\n",
       "aggregation_name              0\n",
       "nrc_code                      0\n",
       "nrc_desc                      0\n",
       "county_code                   0\n",
       "county_name                   0\n",
       "nyc_ind                       0\n",
       "membership_desc               0\n",
       "subgroup_code                 0\n",
       "subgroup_name                 0\n",
       "enroll_cnt                    0\n",
       "grad_cnt                      0\n",
       "grad_pct                      0\n",
       "local_cnt                     0\n",
       "local_pct                     0\n",
       "reg_cnt                       0\n",
       "reg_pct                       0\n",
       "reg_adv_cnt                   0\n",
       "reg_adv_pct                   0\n",
       "non_diploma_credential_cnt    0\n",
       "non_diploma_credential_pct    0\n",
       "still_enr_cnt                 0\n",
       "still_enr_pct                 0\n",
       "ged_cnt                       0\n",
       "ged_pct                       0\n",
       "dropout_cnt                   0\n",
       "dropout_pct                   0\n",
       "dtype: int64"
      ]
     },
     "execution_count": 6,
     "metadata": {},
     "output_type": "execute_result"
    }
   ],
   "source": [
    "# check for missing values\n",
    "df.isnull().sum()"
   ]
  },
  {
   "cell_type": "markdown",
   "id": "7785b28b",
   "metadata": {},
   "source": [
    "There are no null values in the dataset "
   ]
  },
  {
   "cell_type": "code",
   "execution_count": 7,
   "id": "80ef9025",
   "metadata": {},
   "outputs": [
    {
     "data": {
      "text/html": [
       "<div>\n",
       "<style scoped>\n",
       "    .dataframe tbody tr th:only-of-type {\n",
       "        vertical-align: middle;\n",
       "    }\n",
       "\n",
       "    .dataframe tbody tr th {\n",
       "        vertical-align: top;\n",
       "    }\n",
       "\n",
       "    .dataframe thead th {\n",
       "        text-align: right;\n",
       "    }\n",
       "</style>\n",
       "<table border=\"1\" class=\"dataframe\">\n",
       "  <thead>\n",
       "    <tr style=\"text-align: right;\">\n",
       "      <th></th>\n",
       "      <th>aggregation_index</th>\n",
       "      <th>nrc_code</th>\n",
       "      <th>county_code</th>\n",
       "      <th>nyc_ind</th>\n",
       "      <th>subgroup_code</th>\n",
       "    </tr>\n",
       "  </thead>\n",
       "  <tbody>\n",
       "    <tr>\n",
       "      <th>count</th>\n",
       "      <td>39674.0</td>\n",
       "      <td>39674.000000</td>\n",
       "      <td>39674.000000</td>\n",
       "      <td>39674.000000</td>\n",
       "      <td>39674.000000</td>\n",
       "    </tr>\n",
       "    <tr>\n",
       "      <th>mean</th>\n",
       "      <td>3.0</td>\n",
       "      <td>4.456269</td>\n",
       "      <td>36.774613</td>\n",
       "      <td>0.085245</td>\n",
       "      <td>8.833795</td>\n",
       "    </tr>\n",
       "    <tr>\n",
       "      <th>std</th>\n",
       "      <td>0.0</td>\n",
       "      <td>1.367020</td>\n",
       "      <td>20.063556</td>\n",
       "      <td>0.279249</td>\n",
       "      <td>5.768892</td>\n",
       "    </tr>\n",
       "    <tr>\n",
       "      <th>min</th>\n",
       "      <td>3.0</td>\n",
       "      <td>1.000000</td>\n",
       "      <td>1.000000</td>\n",
       "      <td>0.000000</td>\n",
       "      <td>1.000000</td>\n",
       "    </tr>\n",
       "    <tr>\n",
       "      <th>25%</th>\n",
       "      <td>3.0</td>\n",
       "      <td>4.000000</td>\n",
       "      <td>21.000000</td>\n",
       "      <td>0.000000</td>\n",
       "      <td>3.000000</td>\n",
       "    </tr>\n",
       "    <tr>\n",
       "      <th>50%</th>\n",
       "      <td>3.0</td>\n",
       "      <td>5.000000</td>\n",
       "      <td>35.000000</td>\n",
       "      <td>0.000000</td>\n",
       "      <td>9.000000</td>\n",
       "    </tr>\n",
       "    <tr>\n",
       "      <th>75%</th>\n",
       "      <td>3.0</td>\n",
       "      <td>5.000000</td>\n",
       "      <td>58.000000</td>\n",
       "      <td>0.000000</td>\n",
       "      <td>15.000000</td>\n",
       "    </tr>\n",
       "    <tr>\n",
       "      <th>max</th>\n",
       "      <td>3.0</td>\n",
       "      <td>6.000000</td>\n",
       "      <td>68.000000</td>\n",
       "      <td>1.000000</td>\n",
       "      <td>25.000000</td>\n",
       "    </tr>\n",
       "  </tbody>\n",
       "</table>\n",
       "</div>"
      ],
      "text/plain": [
       "       aggregation_index      nrc_code   county_code       nyc_ind  \\\n",
       "count            39674.0  39674.000000  39674.000000  39674.000000   \n",
       "mean                 3.0      4.456269     36.774613      0.085245   \n",
       "std                  0.0      1.367020     20.063556      0.279249   \n",
       "min                  3.0      1.000000      1.000000      0.000000   \n",
       "25%                  3.0      4.000000     21.000000      0.000000   \n",
       "50%                  3.0      5.000000     35.000000      0.000000   \n",
       "75%                  3.0      5.000000     58.000000      0.000000   \n",
       "max                  3.0      6.000000     68.000000      1.000000   \n",
       "\n",
       "       subgroup_code  \n",
       "count   39674.000000  \n",
       "mean        8.833795  \n",
       "std         5.768892  \n",
       "min         1.000000  \n",
       "25%         3.000000  \n",
       "50%         9.000000  \n",
       "75%        15.000000  \n",
       "max        25.000000  "
      ]
     },
     "execution_count": 7,
     "metadata": {},
     "output_type": "execute_result"
    }
   ],
   "source": [
    "# Check the statistical information for the dataset\n",
    "df.describe()"
   ]
  },
  {
   "cell_type": "markdown",
   "id": "5e87b2ea",
   "metadata": {},
   "source": [
    "we can see that some of the columns which are numerical are having object datatype. Need to convert them to integer"
   ]
  },
  {
   "cell_type": "code",
   "execution_count": 8,
   "id": "3f7e20f7",
   "metadata": {},
   "outputs": [
    {
     "data": {
      "text/plain": [
       "Index(['report_school_year', 'aggregation_index', 'aggregation_type',\n",
       "       'aggregation_name', 'nrc_code', 'nrc_desc', 'county_code',\n",
       "       'county_name', 'nyc_ind', 'membership_desc', 'subgroup_code',\n",
       "       'subgroup_name', 'enroll_cnt', 'grad_cnt', 'grad_pct', 'local_cnt',\n",
       "       'local_pct', 'reg_cnt', 'reg_pct', 'reg_adv_cnt', 'reg_adv_pct',\n",
       "       'non_diploma_credential_cnt', 'non_diploma_credential_pct',\n",
       "       'still_enr_cnt', 'still_enr_pct', 'ged_cnt', 'ged_pct', 'dropout_cnt',\n",
       "       'dropout_pct'],\n",
       "      dtype='object')"
      ]
     },
     "execution_count": 8,
     "metadata": {},
     "output_type": "execute_result"
    }
   ],
   "source": [
    "df.columns"
   ]
  },
  {
   "cell_type": "code",
   "execution_count": 9,
   "id": "dd5d5a66",
   "metadata": {},
   "outputs": [
    {
     "name": "stderr",
     "output_type": "stream",
     "text": [
      "/opt/anaconda3/lib/python3.8/site-packages/pandas/core/frame.py:3191: SettingWithCopyWarning: \n",
      "A value is trying to be set on a copy of a slice from a DataFrame.\n",
      "Try using .loc[row_indexer,col_indexer] = value instead\n",
      "\n",
      "See the caveats in the documentation: https://pandas.pydata.org/pandas-docs/stable/user_guide/indexing.html#returning-a-view-versus-a-copy\n",
      "  self[k1] = value[k2]\n"
     ]
    }
   ],
   "source": [
    "#Convert Multiple Columns to Integer\n",
    "df[['enroll_cnt', 'grad_cnt','local_cnt','reg_cnt', 'reg_adv_cnt', 'non_diploma_credential_cnt','still_enr_cnt' , 'ged_cnt', 'dropout_cnt']]= df[['enroll_cnt', 'grad_cnt','local_cnt','reg_cnt', 'reg_adv_cnt', 'non_diploma_credential_cnt','still_enr_cnt' , 'ged_cnt', 'dropout_cnt']].astype(int)"
   ]
  },
  {
   "cell_type": "code",
   "execution_count": 10,
   "id": "ad422592",
   "metadata": {},
   "outputs": [
    {
     "name": "stdout",
     "output_type": "stream",
     "text": [
      "<class 'pandas.core.frame.DataFrame'>\n",
      "Int64Index: 39674 entries, 0 to 73146\n",
      "Data columns (total 29 columns):\n",
      " #   Column                      Non-Null Count  Dtype \n",
      "---  ------                      --------------  ----- \n",
      " 0   report_school_year          39674 non-null  object\n",
      " 1   aggregation_index           39674 non-null  int64 \n",
      " 2   aggregation_type            39674 non-null  object\n",
      " 3   aggregation_name            39674 non-null  object\n",
      " 4   nrc_code                    39674 non-null  int64 \n",
      " 5   nrc_desc                    39674 non-null  object\n",
      " 6   county_code                 39674 non-null  int64 \n",
      " 7   county_name                 39674 non-null  object\n",
      " 8   nyc_ind                     39674 non-null  int64 \n",
      " 9   membership_desc             39674 non-null  object\n",
      " 10  subgroup_code               39674 non-null  int64 \n",
      " 11  subgroup_name               39674 non-null  object\n",
      " 12  enroll_cnt                  39674 non-null  int64 \n",
      " 13  grad_cnt                    39674 non-null  int64 \n",
      " 14  grad_pct                    39674 non-null  object\n",
      " 15  local_cnt                   39674 non-null  int64 \n",
      " 16  local_pct                   39674 non-null  object\n",
      " 17  reg_cnt                     39674 non-null  int64 \n",
      " 18  reg_pct                     39674 non-null  object\n",
      " 19  reg_adv_cnt                 39674 non-null  int64 \n",
      " 20  reg_adv_pct                 39674 non-null  object\n",
      " 21  non_diploma_credential_cnt  39674 non-null  int64 \n",
      " 22  non_diploma_credential_pct  39674 non-null  object\n",
      " 23  still_enr_cnt               39674 non-null  int64 \n",
      " 24  still_enr_pct               39674 non-null  object\n",
      " 25  ged_cnt                     39674 non-null  int64 \n",
      " 26  ged_pct                     39674 non-null  object\n",
      " 27  dropout_cnt                 39674 non-null  int64 \n",
      " 28  dropout_pct                 39674 non-null  object\n",
      "dtypes: int64(14), object(15)\n",
      "memory usage: 9.1+ MB\n"
     ]
    }
   ],
   "source": [
    "df.info() #sanity check "
   ]
  },
  {
   "cell_type": "markdown",
   "id": "e13d3534",
   "metadata": {},
   "source": [
    "converted required columns to integer"
   ]
  },
  {
   "cell_type": "code",
   "execution_count": 11,
   "id": "587c64fa",
   "metadata": {
    "scrolled": true
   },
   "outputs": [
    {
     "data": {
      "text/html": [
       "<div>\n",
       "<style scoped>\n",
       "    .dataframe tbody tr th:only-of-type {\n",
       "        vertical-align: middle;\n",
       "    }\n",
       "\n",
       "    .dataframe tbody tr th {\n",
       "        vertical-align: top;\n",
       "    }\n",
       "\n",
       "    .dataframe thead th {\n",
       "        text-align: right;\n",
       "    }\n",
       "</style>\n",
       "<table border=\"1\" class=\"dataframe\">\n",
       "  <thead>\n",
       "    <tr style=\"text-align: right;\">\n",
       "      <th></th>\n",
       "      <th>index</th>\n",
       "      <th>report_school_year</th>\n",
       "      <th>aggregation_index</th>\n",
       "      <th>aggregation_type</th>\n",
       "      <th>aggregation_name</th>\n",
       "      <th>nrc_code</th>\n",
       "      <th>nrc_desc</th>\n",
       "      <th>county_code</th>\n",
       "      <th>county_name</th>\n",
       "      <th>nyc_ind</th>\n",
       "      <th>...</th>\n",
       "      <th>reg_adv_cnt</th>\n",
       "      <th>reg_adv_pct</th>\n",
       "      <th>non_diploma_credential_cnt</th>\n",
       "      <th>non_diploma_credential_pct</th>\n",
       "      <th>still_enr_cnt</th>\n",
       "      <th>still_enr_pct</th>\n",
       "      <th>ged_cnt</th>\n",
       "      <th>ged_pct</th>\n",
       "      <th>dropout_cnt</th>\n",
       "      <th>dropout_pct</th>\n",
       "    </tr>\n",
       "  </thead>\n",
       "  <tbody>\n",
       "    <tr>\n",
       "      <th>0</th>\n",
       "      <td>0</td>\n",
       "      <td>2018-19</td>\n",
       "      <td>3</td>\n",
       "      <td>District</td>\n",
       "      <td>ALBANY CITY SCHOOL DISTRICT</td>\n",
       "      <td>3</td>\n",
       "      <td>Urban-Suburban High Needs</td>\n",
       "      <td>1</td>\n",
       "      <td>ALBANY</td>\n",
       "      <td>0</td>\n",
       "      <td>...</td>\n",
       "      <td>91</td>\n",
       "      <td>14%</td>\n",
       "      <td>16</td>\n",
       "      <td>2%</td>\n",
       "      <td>30</td>\n",
       "      <td>5%</td>\n",
       "      <td>0</td>\n",
       "      <td>0%</td>\n",
       "      <td>148</td>\n",
       "      <td>22%</td>\n",
       "    </tr>\n",
       "    <tr>\n",
       "      <th>1</th>\n",
       "      <td>1</td>\n",
       "      <td>2018-19</td>\n",
       "      <td>3</td>\n",
       "      <td>District</td>\n",
       "      <td>ALBANY CITY SCHOOL DISTRICT</td>\n",
       "      <td>3</td>\n",
       "      <td>Urban-Suburban High Needs</td>\n",
       "      <td>1</td>\n",
       "      <td>ALBANY</td>\n",
       "      <td>0</td>\n",
       "      <td>...</td>\n",
       "      <td>47</td>\n",
       "      <td>15%</td>\n",
       "      <td>2</td>\n",
       "      <td>1%</td>\n",
       "      <td>11</td>\n",
       "      <td>3%</td>\n",
       "      <td>0</td>\n",
       "      <td>0%</td>\n",
       "      <td>65</td>\n",
       "      <td>20%</td>\n",
       "    </tr>\n",
       "    <tr>\n",
       "      <th>2</th>\n",
       "      <td>2</td>\n",
       "      <td>2018-19</td>\n",
       "      <td>3</td>\n",
       "      <td>District</td>\n",
       "      <td>ALBANY CITY SCHOOL DISTRICT</td>\n",
       "      <td>3</td>\n",
       "      <td>Urban-Suburban High Needs</td>\n",
       "      <td>1</td>\n",
       "      <td>ALBANY</td>\n",
       "      <td>0</td>\n",
       "      <td>...</td>\n",
       "      <td>44</td>\n",
       "      <td>13%</td>\n",
       "      <td>14</td>\n",
       "      <td>4%</td>\n",
       "      <td>19</td>\n",
       "      <td>6%</td>\n",
       "      <td>0</td>\n",
       "      <td>0%</td>\n",
       "      <td>83</td>\n",
       "      <td>25%</td>\n",
       "    </tr>\n",
       "    <tr>\n",
       "      <th>3</th>\n",
       "      <td>4</td>\n",
       "      <td>2018-19</td>\n",
       "      <td>3</td>\n",
       "      <td>District</td>\n",
       "      <td>ALBANY CITY SCHOOL DISTRICT</td>\n",
       "      <td>3</td>\n",
       "      <td>Urban-Suburban High Needs</td>\n",
       "      <td>1</td>\n",
       "      <td>ALBANY</td>\n",
       "      <td>0</td>\n",
       "      <td>...</td>\n",
       "      <td>23</td>\n",
       "      <td>6%</td>\n",
       "      <td>10</td>\n",
       "      <td>3%</td>\n",
       "      <td>18</td>\n",
       "      <td>5%</td>\n",
       "      <td>0</td>\n",
       "      <td>0%</td>\n",
       "      <td>91</td>\n",
       "      <td>25%</td>\n",
       "    </tr>\n",
       "    <tr>\n",
       "      <th>4</th>\n",
       "      <td>5</td>\n",
       "      <td>2018-19</td>\n",
       "      <td>3</td>\n",
       "      <td>District</td>\n",
       "      <td>ALBANY CITY SCHOOL DISTRICT</td>\n",
       "      <td>3</td>\n",
       "      <td>Urban-Suburban High Needs</td>\n",
       "      <td>1</td>\n",
       "      <td>ALBANY</td>\n",
       "      <td>0</td>\n",
       "      <td>...</td>\n",
       "      <td>5</td>\n",
       "      <td>5%</td>\n",
       "      <td>4</td>\n",
       "      <td>4%</td>\n",
       "      <td>8</td>\n",
       "      <td>8%</td>\n",
       "      <td>0</td>\n",
       "      <td>0%</td>\n",
       "      <td>28</td>\n",
       "      <td>29%</td>\n",
       "    </tr>\n",
       "    <tr>\n",
       "      <th>...</th>\n",
       "      <td>...</td>\n",
       "      <td>...</td>\n",
       "      <td>...</td>\n",
       "      <td>...</td>\n",
       "      <td>...</td>\n",
       "      <td>...</td>\n",
       "      <td>...</td>\n",
       "      <td>...</td>\n",
       "      <td>...</td>\n",
       "      <td>...</td>\n",
       "      <td>...</td>\n",
       "      <td>...</td>\n",
       "      <td>...</td>\n",
       "      <td>...</td>\n",
       "      <td>...</td>\n",
       "      <td>...</td>\n",
       "      <td>...</td>\n",
       "      <td>...</td>\n",
       "      <td>...</td>\n",
       "      <td>...</td>\n",
       "      <td>...</td>\n",
       "    </tr>\n",
       "    <tr>\n",
       "      <th>39669</th>\n",
       "      <td>73138</td>\n",
       "      <td>2018-19</td>\n",
       "      <td>3</td>\n",
       "      <td>District</td>\n",
       "      <td>DUNDEE CENTRAL SCHOOL DISTRICT</td>\n",
       "      <td>4</td>\n",
       "      <td>Rural High Needs</td>\n",
       "      <td>68</td>\n",
       "      <td>YATES</td>\n",
       "      <td>0</td>\n",
       "      <td>...</td>\n",
       "      <td>3</td>\n",
       "      <td>8%</td>\n",
       "      <td>1</td>\n",
       "      <td>3%</td>\n",
       "      <td>1</td>\n",
       "      <td>3%</td>\n",
       "      <td>0</td>\n",
       "      <td>0%</td>\n",
       "      <td>9</td>\n",
       "      <td>25%</td>\n",
       "    </tr>\n",
       "    <tr>\n",
       "      <th>39670</th>\n",
       "      <td>73142</td>\n",
       "      <td>2018-19</td>\n",
       "      <td>3</td>\n",
       "      <td>District</td>\n",
       "      <td>DUNDEE CENTRAL SCHOOL DISTRICT</td>\n",
       "      <td>4</td>\n",
       "      <td>Rural High Needs</td>\n",
       "      <td>68</td>\n",
       "      <td>YATES</td>\n",
       "      <td>0</td>\n",
       "      <td>...</td>\n",
       "      <td>8</td>\n",
       "      <td>17%</td>\n",
       "      <td>0</td>\n",
       "      <td>0%</td>\n",
       "      <td>0</td>\n",
       "      <td>0%</td>\n",
       "      <td>0</td>\n",
       "      <td>0%</td>\n",
       "      <td>5</td>\n",
       "      <td>10%</td>\n",
       "    </tr>\n",
       "    <tr>\n",
       "      <th>39671</th>\n",
       "      <td>73143</td>\n",
       "      <td>2018-19</td>\n",
       "      <td>3</td>\n",
       "      <td>District</td>\n",
       "      <td>DUNDEE CENTRAL SCHOOL DISTRICT</td>\n",
       "      <td>4</td>\n",
       "      <td>Rural High Needs</td>\n",
       "      <td>68</td>\n",
       "      <td>YATES</td>\n",
       "      <td>0</td>\n",
       "      <td>...</td>\n",
       "      <td>0</td>\n",
       "      <td>0%</td>\n",
       "      <td>3</td>\n",
       "      <td>23%</td>\n",
       "      <td>2</td>\n",
       "      <td>15%</td>\n",
       "      <td>0</td>\n",
       "      <td>0%</td>\n",
       "      <td>6</td>\n",
       "      <td>46%</td>\n",
       "    </tr>\n",
       "    <tr>\n",
       "      <th>39672</th>\n",
       "      <td>73145</td>\n",
       "      <td>2018-19</td>\n",
       "      <td>3</td>\n",
       "      <td>District</td>\n",
       "      <td>DUNDEE CENTRAL SCHOOL DISTRICT</td>\n",
       "      <td>4</td>\n",
       "      <td>Rural High Needs</td>\n",
       "      <td>68</td>\n",
       "      <td>YATES</td>\n",
       "      <td>0</td>\n",
       "      <td>...</td>\n",
       "      <td>3</td>\n",
       "      <td>9%</td>\n",
       "      <td>3</td>\n",
       "      <td>9%</td>\n",
       "      <td>0</td>\n",
       "      <td>0%</td>\n",
       "      <td>0</td>\n",
       "      <td>0%</td>\n",
       "      <td>7</td>\n",
       "      <td>21%</td>\n",
       "    </tr>\n",
       "    <tr>\n",
       "      <th>39673</th>\n",
       "      <td>73146</td>\n",
       "      <td>2018-19</td>\n",
       "      <td>3</td>\n",
       "      <td>District</td>\n",
       "      <td>DUNDEE CENTRAL SCHOOL DISTRICT</td>\n",
       "      <td>4</td>\n",
       "      <td>Rural High Needs</td>\n",
       "      <td>68</td>\n",
       "      <td>YATES</td>\n",
       "      <td>0</td>\n",
       "      <td>...</td>\n",
       "      <td>5</td>\n",
       "      <td>18%</td>\n",
       "      <td>0</td>\n",
       "      <td>0%</td>\n",
       "      <td>2</td>\n",
       "      <td>7%</td>\n",
       "      <td>0</td>\n",
       "      <td>0%</td>\n",
       "      <td>4</td>\n",
       "      <td>14%</td>\n",
       "    </tr>\n",
       "  </tbody>\n",
       "</table>\n",
       "<p>39674 rows × 30 columns</p>\n",
       "</div>"
      ],
      "text/plain": [
       "       index report_school_year  aggregation_index aggregation_type  \\\n",
       "0          0            2018-19                  3         District   \n",
       "1          1            2018-19                  3         District   \n",
       "2          2            2018-19                  3         District   \n",
       "3          4            2018-19                  3         District   \n",
       "4          5            2018-19                  3         District   \n",
       "...      ...                ...                ...              ...   \n",
       "39669  73138            2018-19                  3         District   \n",
       "39670  73142            2018-19                  3         District   \n",
       "39671  73143            2018-19                  3         District   \n",
       "39672  73145            2018-19                  3         District   \n",
       "39673  73146            2018-19                  3         District   \n",
       "\n",
       "                     aggregation_name  nrc_code                   nrc_desc  \\\n",
       "0         ALBANY CITY SCHOOL DISTRICT         3  Urban-Suburban High Needs   \n",
       "1         ALBANY CITY SCHOOL DISTRICT         3  Urban-Suburban High Needs   \n",
       "2         ALBANY CITY SCHOOL DISTRICT         3  Urban-Suburban High Needs   \n",
       "3         ALBANY CITY SCHOOL DISTRICT         3  Urban-Suburban High Needs   \n",
       "4         ALBANY CITY SCHOOL DISTRICT         3  Urban-Suburban High Needs   \n",
       "...                               ...       ...                        ...   \n",
       "39669  DUNDEE CENTRAL SCHOOL DISTRICT         4           Rural High Needs   \n",
       "39670  DUNDEE CENTRAL SCHOOL DISTRICT         4           Rural High Needs   \n",
       "39671  DUNDEE CENTRAL SCHOOL DISTRICT         4           Rural High Needs   \n",
       "39672  DUNDEE CENTRAL SCHOOL DISTRICT         4           Rural High Needs   \n",
       "39673  DUNDEE CENTRAL SCHOOL DISTRICT         4           Rural High Needs   \n",
       "\n",
       "       county_code county_name  nyc_ind  ... reg_adv_cnt  reg_adv_pct  \\\n",
       "0                1      ALBANY        0  ...          91          14%   \n",
       "1                1      ALBANY        0  ...          47          15%   \n",
       "2                1      ALBANY        0  ...          44          13%   \n",
       "3                1      ALBANY        0  ...          23           6%   \n",
       "4                1      ALBANY        0  ...           5           5%   \n",
       "...            ...         ...      ...  ...         ...          ...   \n",
       "39669           68       YATES        0  ...           3           8%   \n",
       "39670           68       YATES        0  ...           8          17%   \n",
       "39671           68       YATES        0  ...           0           0%   \n",
       "39672           68       YATES        0  ...           3           9%   \n",
       "39673           68       YATES        0  ...           5          18%   \n",
       "\n",
       "      non_diploma_credential_cnt  non_diploma_credential_pct  still_enr_cnt  \\\n",
       "0                             16                          2%             30   \n",
       "1                              2                          1%             11   \n",
       "2                             14                          4%             19   \n",
       "3                             10                          3%             18   \n",
       "4                              4                          4%              8   \n",
       "...                          ...                         ...            ...   \n",
       "39669                          1                          3%              1   \n",
       "39670                          0                          0%              0   \n",
       "39671                          3                         23%              2   \n",
       "39672                          3                          9%              0   \n",
       "39673                          0                          0%              2   \n",
       "\n",
       "      still_enr_pct  ged_cnt ged_pct  dropout_cnt dropout_pct  \n",
       "0                5%        0      0%          148         22%  \n",
       "1                3%        0      0%           65         20%  \n",
       "2                6%        0      0%           83         25%  \n",
       "3                5%        0      0%           91         25%  \n",
       "4                8%        0      0%           28         29%  \n",
       "...             ...      ...     ...          ...         ...  \n",
       "39669            3%        0      0%            9         25%  \n",
       "39670            0%        0      0%            5         10%  \n",
       "39671           15%        0      0%            6         46%  \n",
       "39672            0%        0      0%            7         21%  \n",
       "39673            7%        0      0%            4         14%  \n",
       "\n",
       "[39674 rows x 30 columns]"
      ]
     },
     "execution_count": 11,
     "metadata": {},
     "output_type": "execute_result"
    }
   ],
   "source": [
    "df = df.reset_index()\n",
    "df #sanity check"
   ]
  },
  {
   "cell_type": "code",
   "execution_count": 12,
   "id": "d7c2775a",
   "metadata": {},
   "outputs": [],
   "source": [
    "#removing the index column as it is not needed\n",
    "del df[\"index\"]"
   ]
  },
  {
   "cell_type": "code",
   "execution_count": 13,
   "id": "fdab16ef",
   "metadata": {
    "scrolled": false
   },
   "outputs": [
    {
     "data": {
      "text/html": [
       "<div>\n",
       "<style scoped>\n",
       "    .dataframe tbody tr th:only-of-type {\n",
       "        vertical-align: middle;\n",
       "    }\n",
       "\n",
       "    .dataframe tbody tr th {\n",
       "        vertical-align: top;\n",
       "    }\n",
       "\n",
       "    .dataframe thead th {\n",
       "        text-align: right;\n",
       "    }\n",
       "</style>\n",
       "<table border=\"1\" class=\"dataframe\">\n",
       "  <thead>\n",
       "    <tr style=\"text-align: right;\">\n",
       "      <th></th>\n",
       "      <th>aggregation_index</th>\n",
       "      <th>nrc_code</th>\n",
       "      <th>county_code</th>\n",
       "      <th>nyc_ind</th>\n",
       "      <th>subgroup_code</th>\n",
       "      <th>enroll_cnt</th>\n",
       "      <th>grad_cnt</th>\n",
       "      <th>local_cnt</th>\n",
       "      <th>reg_cnt</th>\n",
       "      <th>reg_adv_cnt</th>\n",
       "      <th>non_diploma_credential_cnt</th>\n",
       "      <th>still_enr_cnt</th>\n",
       "      <th>ged_cnt</th>\n",
       "      <th>dropout_cnt</th>\n",
       "    </tr>\n",
       "  </thead>\n",
       "  <tbody>\n",
       "    <tr>\n",
       "      <th>count</th>\n",
       "      <td>39674.0</td>\n",
       "      <td>39674.000000</td>\n",
       "      <td>39674.000000</td>\n",
       "      <td>39674.000000</td>\n",
       "      <td>39674.000000</td>\n",
       "      <td>39674.000000</td>\n",
       "      <td>39674.000000</td>\n",
       "      <td>39674.000000</td>\n",
       "      <td>39674.000000</td>\n",
       "      <td>39674.000000</td>\n",
       "      <td>39674.000000</td>\n",
       "      <td>39674.000000</td>\n",
       "      <td>39674.000000</td>\n",
       "      <td>39674.000000</td>\n",
       "    </tr>\n",
       "    <tr>\n",
       "      <th>mean</th>\n",
       "      <td>3.0</td>\n",
       "      <td>4.456269</td>\n",
       "      <td>36.774613</td>\n",
       "      <td>0.085245</td>\n",
       "      <td>8.833795</td>\n",
       "      <td>192.120079</td>\n",
       "      <td>161.178354</td>\n",
       "      <td>12.340903</td>\n",
       "      <td>86.804708</td>\n",
       "      <td>62.032742</td>\n",
       "      <td>1.924485</td>\n",
       "      <td>11.299516</td>\n",
       "      <td>1.377577</td>\n",
       "      <td>16.239225</td>\n",
       "    </tr>\n",
       "    <tr>\n",
       "      <th>std</th>\n",
       "      <td>0.0</td>\n",
       "      <td>1.367020</td>\n",
       "      <td>20.063556</td>\n",
       "      <td>0.279249</td>\n",
       "      <td>5.768892</td>\n",
       "      <td>439.972474</td>\n",
       "      <td>361.294773</td>\n",
       "      <td>32.046302</td>\n",
       "      <td>225.795826</td>\n",
       "      <td>132.777866</td>\n",
       "      <td>6.498913</td>\n",
       "      <td>40.766672</td>\n",
       "      <td>4.949389</td>\n",
       "      <td>50.129834</td>\n",
       "    </tr>\n",
       "    <tr>\n",
       "      <th>min</th>\n",
       "      <td>3.0</td>\n",
       "      <td>1.000000</td>\n",
       "      <td>1.000000</td>\n",
       "      <td>0.000000</td>\n",
       "      <td>1.000000</td>\n",
       "      <td>5.000000</td>\n",
       "      <td>0.000000</td>\n",
       "      <td>0.000000</td>\n",
       "      <td>0.000000</td>\n",
       "      <td>0.000000</td>\n",
       "      <td>0.000000</td>\n",
       "      <td>0.000000</td>\n",
       "      <td>0.000000</td>\n",
       "      <td>0.000000</td>\n",
       "    </tr>\n",
       "    <tr>\n",
       "      <th>25%</th>\n",
       "      <td>3.0</td>\n",
       "      <td>4.000000</td>\n",
       "      <td>21.000000</td>\n",
       "      <td>0.000000</td>\n",
       "      <td>3.000000</td>\n",
       "      <td>25.000000</td>\n",
       "      <td>20.000000</td>\n",
       "      <td>1.000000</td>\n",
       "      <td>10.000000</td>\n",
       "      <td>4.000000</td>\n",
       "      <td>0.000000</td>\n",
       "      <td>0.000000</td>\n",
       "      <td>0.000000</td>\n",
       "      <td>1.000000</td>\n",
       "    </tr>\n",
       "    <tr>\n",
       "      <th>50%</th>\n",
       "      <td>3.0</td>\n",
       "      <td>5.000000</td>\n",
       "      <td>35.000000</td>\n",
       "      <td>0.000000</td>\n",
       "      <td>9.000000</td>\n",
       "      <td>66.000000</td>\n",
       "      <td>57.000000</td>\n",
       "      <td>4.000000</td>\n",
       "      <td>27.000000</td>\n",
       "      <td>18.000000</td>\n",
       "      <td>0.000000</td>\n",
       "      <td>2.000000</td>\n",
       "      <td>0.000000</td>\n",
       "      <td>3.000000</td>\n",
       "    </tr>\n",
       "    <tr>\n",
       "      <th>75%</th>\n",
       "      <td>3.0</td>\n",
       "      <td>5.000000</td>\n",
       "      <td>58.000000</td>\n",
       "      <td>0.000000</td>\n",
       "      <td>15.000000</td>\n",
       "      <td>179.000000</td>\n",
       "      <td>156.000000</td>\n",
       "      <td>10.000000</td>\n",
       "      <td>69.000000</td>\n",
       "      <td>62.000000</td>\n",
       "      <td>2.000000</td>\n",
       "      <td>5.000000</td>\n",
       "      <td>1.000000</td>\n",
       "      <td>9.000000</td>\n",
       "    </tr>\n",
       "    <tr>\n",
       "      <th>max</th>\n",
       "      <td>3.0</td>\n",
       "      <td>6.000000</td>\n",
       "      <td>68.000000</td>\n",
       "      <td>1.000000</td>\n",
       "      <td>25.000000</td>\n",
       "      <td>9176.000000</td>\n",
       "      <td>7540.000000</td>\n",
       "      <td>557.000000</td>\n",
       "      <td>4752.000000</td>\n",
       "      <td>2231.000000</td>\n",
       "      <td>279.000000</td>\n",
       "      <td>1381.000000</td>\n",
       "      <td>97.000000</td>\n",
       "      <td>1091.000000</td>\n",
       "    </tr>\n",
       "  </tbody>\n",
       "</table>\n",
       "</div>"
      ],
      "text/plain": [
       "       aggregation_index      nrc_code   county_code       nyc_ind  \\\n",
       "count            39674.0  39674.000000  39674.000000  39674.000000   \n",
       "mean                 3.0      4.456269     36.774613      0.085245   \n",
       "std                  0.0      1.367020     20.063556      0.279249   \n",
       "min                  3.0      1.000000      1.000000      0.000000   \n",
       "25%                  3.0      4.000000     21.000000      0.000000   \n",
       "50%                  3.0      5.000000     35.000000      0.000000   \n",
       "75%                  3.0      5.000000     58.000000      0.000000   \n",
       "max                  3.0      6.000000     68.000000      1.000000   \n",
       "\n",
       "       subgroup_code    enroll_cnt      grad_cnt     local_cnt       reg_cnt  \\\n",
       "count   39674.000000  39674.000000  39674.000000  39674.000000  39674.000000   \n",
       "mean        8.833795    192.120079    161.178354     12.340903     86.804708   \n",
       "std         5.768892    439.972474    361.294773     32.046302    225.795826   \n",
       "min         1.000000      5.000000      0.000000      0.000000      0.000000   \n",
       "25%         3.000000     25.000000     20.000000      1.000000     10.000000   \n",
       "50%         9.000000     66.000000     57.000000      4.000000     27.000000   \n",
       "75%        15.000000    179.000000    156.000000     10.000000     69.000000   \n",
       "max        25.000000   9176.000000   7540.000000    557.000000   4752.000000   \n",
       "\n",
       "        reg_adv_cnt  non_diploma_credential_cnt  still_enr_cnt       ged_cnt  \\\n",
       "count  39674.000000                39674.000000   39674.000000  39674.000000   \n",
       "mean      62.032742                    1.924485      11.299516      1.377577   \n",
       "std      132.777866                    6.498913      40.766672      4.949389   \n",
       "min        0.000000                    0.000000       0.000000      0.000000   \n",
       "25%        4.000000                    0.000000       0.000000      0.000000   \n",
       "50%       18.000000                    0.000000       2.000000      0.000000   \n",
       "75%       62.000000                    2.000000       5.000000      1.000000   \n",
       "max     2231.000000                  279.000000    1381.000000     97.000000   \n",
       "\n",
       "        dropout_cnt  \n",
       "count  39674.000000  \n",
       "mean      16.239225  \n",
       "std       50.129834  \n",
       "min        0.000000  \n",
       "25%        1.000000  \n",
       "50%        3.000000  \n",
       "75%        9.000000  \n",
       "max     1091.000000  "
      ]
     },
     "execution_count": 13,
     "metadata": {},
     "output_type": "execute_result"
    }
   ],
   "source": [
    "df.describe()"
   ]
  },
  {
   "cell_type": "code",
   "execution_count": 14,
   "id": "e361a748",
   "metadata": {},
   "outputs": [
    {
     "data": {
      "image/png": "[encoded data removed]",
      "text/plain": [
       "<Figure size 864x720 with 2 Axes>"
      ]
     },
     "metadata": {
      "needs_background": "light"
     },
     "output_type": "display_data"
    }
   ],
   "source": [
    "# importing seaborn and matplotlib pyplot libraries \n",
    "import seaborn as sns\n",
    "import matplotlib.pyplot as plt\n",
    "\n",
    "plt.figure(figsize=(12,10))\n",
    "corr = df.corr()\n",
    "sns.heatmap(corr, cmap=\"YlGnBu\",xticklabels=corr.columns.values, yticklabels=corr.columns.values, annot=True)\n",
    "plt.show()\n",
    "# Plotting heatmap to see correlation bewteen the features."
   ]
  },
  {
   "cell_type": "markdown",
   "id": "5d2eca7a",
   "metadata": {},
   "source": [
    "enroll_cnt, local_cnt, reg_cnt, grad_cnt, geb_cnt are highly correlated to dropout_cnt which is response variable compared to other variables"
   ]
  },
  {
   "cell_type": "code",
   "execution_count": 15,
   "id": "d970bd15",
   "metadata": {},
   "outputs": [
    {
     "data": {
      "text/plain": [
       "0        148\n",
       "1         65\n",
       "2         83\n",
       "3         91\n",
       "4         28\n",
       "        ... \n",
       "39669      9\n",
       "39670      5\n",
       "39671      6\n",
       "39672      7\n",
       "39673      4\n",
       "Name: dropout_cnt, Length: 39674, dtype: int64"
      ]
     },
     "execution_count": 15,
     "metadata": {},
     "output_type": "execute_result"
    }
   ],
   "source": [
    "df[\"dropout_cnt\"] #response variable"
   ]
  },
  {
   "cell_type": "code",
   "execution_count": 16,
   "id": "fa2c85d4",
   "metadata": {},
   "outputs": [
    {
     "data": {
      "text/plain": [
       "array([ 1,  2,  3,  5,  6,  7,  8, 10, 11, 12, 13, 15, 16, 20, 21, 14,  9,\n",
       "        4, 17, 18, 22, 23, 24, 25])"
      ]
     },
     "execution_count": 16,
     "metadata": {},
     "output_type": "execute_result"
    }
   ],
   "source": [
    "df[\"subgroup_code\"].unique() #subgroup_code 19 is missing "
   ]
  },
  {
   "cell_type": "code",
   "execution_count": 17,
   "id": "561f85fc",
   "metadata": {},
   "outputs": [
    {
     "data": {
      "text/plain": [
       "array(['2018-19'], dtype=object)"
      ]
     },
     "execution_count": 17,
     "metadata": {},
     "output_type": "execute_result"
    }
   ],
   "source": [
    "df[\"report_school_year\"].unique() # data is only for the year 2018-19 "
   ]
  },
  {
   "cell_type": "markdown",
   "id": "fce28f53",
   "metadata": {},
   "source": [
    "Categorical variables "
   ]
  },
  {
   "cell_type": "code",
   "execution_count": 18,
   "id": "ae2c70cc",
   "metadata": {
    "scrolled": true
   },
   "outputs": [
    {
     "data": {
      "text/plain": [
       "array(['All Students', 'Female', 'Male', 'Black', 'Hispanic',\n",
       "       'Asian/Pacific Islander', 'White', 'General Education Students',\n",
       "       'Students with Disabilities', 'Not English Language Learner',\n",
       "       'English Language Learner', 'Economically Disadvantaged',\n",
       "       'Not Economically Disadvantaged', 'Homeless', 'Not Homeless',\n",
       "       'Formerly English Language Learner', 'Multiracial',\n",
       "       'American Indian/Alaska Native', 'Migrant', 'Not Migrant',\n",
       "       'In Foster Care', 'Not in Foster Care', 'Parent in Armed Forces',\n",
       "       'Parent Not in Armed Forces'], dtype=object)"
      ]
     },
     "execution_count": 18,
     "metadata": {},
     "output_type": "execute_result"
    }
   ],
   "source": [
    "df[\"subgroup_name\"].unique() #Text description of student subgrouping"
   ]
  },
  {
   "cell_type": "code",
   "execution_count": 19,
   "id": "e25c320c",
   "metadata": {},
   "outputs": [
    {
     "data": {
      "text/plain": [
       "24"
      ]
     },
     "execution_count": 19,
     "metadata": {},
     "output_type": "execute_result"
    }
   ],
   "source": [
    "len(pd.unique(df[\"subgroup_name\"])) #count of student subgrouping"
   ]
  },
  {
   "cell_type": "code",
   "execution_count": 20,
   "id": "4b1ecea1",
   "metadata": {},
   "outputs": [
    {
     "data": {
      "text/plain": [
       "<AxesSubplot:xlabel='count', ylabel='subgroup_name'>"
      ]
     },
     "execution_count": 20,
     "metadata": {},
     "output_type": "execute_result"
    },
    {
     "data": {
      "image/png": "[encoded data removed]",
      "text/plain": [
       "<Figure size 576x576 with 1 Axes>"
      ]
     },
     "metadata": {
      "needs_background": "light"
     },
     "output_type": "display_data"
    }
   ],
   "source": [
    "# setting the dimensions of the plot\n",
    "fig, ax = plt.subplots(figsize=(8, 8))\n",
    "sns.countplot(data=df, y='subgroup_name',ax=ax)"
   ]
  },
  {
   "cell_type": "code",
   "execution_count": 21,
   "id": "ca9a7ebe",
   "metadata": {
    "scrolled": true
   },
   "outputs": [
    {
     "data": {
      "text/plain": [
       "All Students                         4046\n",
       "Male                                 3970\n",
       "Female                               3970\n",
       "Economically Disadvantaged           3918\n",
       "Not Economically Disadvantaged       3918\n",
       "Students with Disabilities           3632\n",
       "General Education Students           3632\n",
       "White                                2790\n",
       "Hispanic                             1878\n",
       "Black                                1416\n",
       "Asian/Pacific Islander               1122\n",
       "Homeless                              962\n",
       "Not Homeless                          962\n",
       "English Language Learner              872\n",
       "Not English Language Learner          872\n",
       "Multiracial                           708\n",
       "Formerly English Language Learner     572\n",
       "American Indian/Alaska Native         270\n",
       "Not in Foster Care                     36\n",
       "In Foster Care                         36\n",
       "Parent in Armed Forces                 28\n",
       "Parent Not in Armed Forces             28\n",
       "Migrant                                18\n",
       "Not Migrant                            18\n",
       "Name: subgroup_name, dtype: int64"
      ]
     },
     "execution_count": 21,
     "metadata": {},
     "output_type": "execute_result"
    }
   ],
   "source": [
    "# pandas count distinct values in column\n",
    "subgroup_namedf = df['subgroup_name'].value_counts()\n",
    "subgroup_namedf"
   ]
  },
  {
   "cell_type": "code",
   "execution_count": 22,
   "id": "4a04ae60",
   "metadata": {},
   "outputs": [
    {
     "data": {
      "text/plain": [
       "array(['Urban-Suburban High Needs', 'Average Needs', 'Low Needs',\n",
       "       'Rural High Needs', 'Buffalo  Rochester  Yonkers  Syracuse', 'NYC'],\n",
       "      dtype=object)"
      ]
     },
     "execution_count": 22,
     "metadata": {},
     "output_type": "execute_result"
    }
   ],
   "source": [
    "df[\"nrc_desc\"].unique() #Text description of the type of school district"
   ]
  },
  {
   "cell_type": "code",
   "execution_count": 23,
   "id": "2b30c910",
   "metadata": {},
   "outputs": [
    {
     "data": {
      "text/plain": [
       "6"
      ]
     },
     "execution_count": 23,
     "metadata": {},
     "output_type": "execute_result"
    }
   ],
   "source": [
    "len(pd.unique(df[\"nrc_desc\"])) #count of  the type of school district"
   ]
  },
  {
   "cell_type": "code",
   "execution_count": 24,
   "id": "0af9b15e",
   "metadata": {},
   "outputs": [
    {
     "data": {
      "text/plain": [
       "Average Needs                            18260\n",
       "Low Needs                                 7136\n",
       "Rural High Needs                          7048\n",
       "Urban-Suburban High Needs                 3412\n",
       "NYC                                       3382\n",
       "Buffalo  Rochester  Yonkers  Syracuse      436\n",
       "Name: nrc_desc, dtype: int64"
      ]
     },
     "execution_count": 24,
     "metadata": {},
     "output_type": "execute_result"
    }
   ],
   "source": [
    "# pandas count distinct values in column\n",
    "nrc_descdf = df['nrc_desc'].value_counts()\n",
    "nrc_descdf"
   ]
  },
  {
   "cell_type": "code",
   "execution_count": 25,
   "id": "c1227a26",
   "metadata": {},
   "outputs": [
    {
     "data": {
      "text/plain": [
       "<AxesSubplot:xlabel='count', ylabel='nrc_desc'>"
      ]
     },
     "execution_count": 25,
     "metadata": {},
     "output_type": "execute_result"
    },
    {
     "data": {
      "image/png": "[encoded data removed]",
      "text/plain": [
       "<Figure size 432x288 with 1 Axes>"
      ]
     },
     "metadata": {
      "needs_background": "light"
     },
     "output_type": "display_data"
    }
   ],
   "source": [
    "sns.countplot(data=df, y='nrc_desc')"
   ]
  },
  {
   "cell_type": "markdown",
   "id": "e4fc1075",
   "metadata": {},
   "source": [
    "data has the highest number of 'average needs' type of school district"
   ]
  },
  {
   "cell_type": "code",
   "execution_count": 26,
   "id": "8ec8220a",
   "metadata": {
    "scrolled": true
   },
   "outputs": [
    {
     "data": {
      "text/plain": [
       "array(['ALBANY', 'ALLEGANY', 'BROOME', 'CATTARAUGUS', 'CAYUGA',\n",
       "       'CHAUTAUQUA', 'CHEMUNG', 'CHENANGO', 'CLINTON', 'COLUMBIA',\n",
       "       'CORTLAND', 'DELAWARE', 'DUTCHESS', 'ERIE', 'ESSEX', 'FRANKLIN',\n",
       "       'FULTON', 'GENESEE', 'GREENE', 'HAMILTON', 'HERKIMER', 'JEFFERSON',\n",
       "       'LEWIS', 'LIVINGSTON', 'MADISON', 'MONROE', 'MONTGOMERY', 'NASSAU',\n",
       "       'NEW YORK', 'BRONX', 'KINGS', 'QUEENS', 'RICHMOND', 'NIAGARA',\n",
       "       'ONEIDA', 'ONONDAGA', 'ONTARIO', 'ORANGE', 'ORLEANS', 'OSWEGO',\n",
       "       'OTSEGO', 'PUTNAM', 'RENSSELAER', 'ROCKLAND', 'SAINT LAWRENCE',\n",
       "       'SARATOGA', 'SCHENECTADY', 'SCHOHARIE', 'SCHUYLER', 'SENECA',\n",
       "       'STEUBEN', 'SUFFOLK', 'SULLIVAN', 'TIOGA', 'TOMPKINS', 'ULSTER',\n",
       "       'WARREN', 'WASHINGTON', 'WAYNE', 'WESTCHESTER', 'WYOMING', 'YATES'],\n",
       "      dtype=object)"
      ]
     },
     "execution_count": 26,
     "metadata": {},
     "output_type": "execute_result"
    }
   ],
   "source": [
    "df[\"county_name\"].unique() #Full name of applicable NY State county"
   ]
  },
  {
   "cell_type": "code",
   "execution_count": 27,
   "id": "915ed473",
   "metadata": {},
   "outputs": [
    {
     "data": {
      "text/plain": [
       "62"
      ]
     },
     "execution_count": 27,
     "metadata": {},
     "output_type": "execute_result"
    }
   ],
   "source": [
    "len(pd.unique(df[\"county_name\"])) #count of applicable NY State county"
   ]
  },
  {
   "cell_type": "code",
   "execution_count": 28,
   "id": "8bfcc18b",
   "metadata": {},
   "outputs": [
    {
     "data": {
      "text/plain": [
       "SUFFOLK        3996\n",
       "NASSAU         3152\n",
       "WESTCHESTER    2700\n",
       "ERIE           1770\n",
       "MONROE         1356\n",
       "               ... \n",
       "CHEMUNG         174\n",
       "RICHMOND        108\n",
       "YATES           100\n",
       "SCHUYLER         94\n",
       "HAMILTON         38\n",
       "Name: county_name, Length: 62, dtype: int64"
      ]
     },
     "execution_count": 28,
     "metadata": {},
     "output_type": "execute_result"
    }
   ],
   "source": [
    "# pandas count distinct values in column\n",
    "county_namedf = df['county_name'].value_counts()\n",
    "county_namedf"
   ]
  },
  {
   "cell_type": "markdown",
   "id": "6f79e1ee",
   "metadata": {},
   "source": [
    "we can observe that suffolk county has highest number of enrollments whereas Hamilton county has lowest from the dataset"
   ]
  },
  {
   "cell_type": "code",
   "execution_count": 29,
   "id": "3b21903f",
   "metadata": {},
   "outputs": [
    {
     "data": {
      "text/plain": [
       "array(['ALBANY CITY SCHOOL DISTRICT',\n",
       "       'BERNE-KNOX-WESTERLO CENTRAL SCHOOL DISTRICT',\n",
       "       'BETHLEHEM CENTRAL SCHOOL DISTRICT',\n",
       "       'RAVENA-COEYMANS-SELKIRK CENTRAL SCHOOL DISTRICT',\n",
       "       'COHOES CITY SCHOOL DISTRICT',\n",
       "       'SOUTH COLONIE CENTRAL SCHOOL DISTRICT', 'NORTH COLONIE CSD',\n",
       "       'GREEN ISLAND UNION FREE SCHOOL DISTRICT',\n",
       "       'GUILDERLAND CENTRAL SCHOOL DISTRICT',\n",
       "       'VOORHEESVILLE CENTRAL SCHOOL DISTRICT',\n",
       "       'WATERVLIET CITY SCHOOL DISTRICT',\n",
       "       'ALFRED-ALMOND CENTRAL SCHOOL DISTRICT',\n",
       "       'ANDOVER CENTRAL SCHOOL DISTRICT',\n",
       "       'GENESEE VALLEY CENTRAL SCHOOL DISTRICT',\n",
       "       'BELFAST CENTRAL SCHOOL DISTRICT',\n",
       "       'CANASERAGA CENTRAL SCHOOL DISTRICT',\n",
       "       'FRIENDSHIP CENTRAL SCHOOL DISTRICT',\n",
       "       'FILLMORE CENTRAL SCHOOL DISTRICT',\n",
       "       'WHITESVILLE CENTRAL SCHOOL DISTRICT',\n",
       "       'CUBA-RUSHFORD CENTRAL SCHOOL DISTRICT',\n",
       "       'SCIO CENTRAL SCHOOL DISTRICT',\n",
       "       'WELLSVILLE CENTRAL SCHOOL DISTRICT',\n",
       "       'BOLIVAR-RICHBURG CENTRAL SCHOOL DISTRICT',\n",
       "       'CHENANGO FORKS CENTRAL SCHOOL DISTRICT',\n",
       "       'BINGHAMTON CITY SCHOOL DISTRICT',\n",
       "       'HARPURSVILLE CENTRAL SCHOOL DISTRICT',\n",
       "       'SUSQUEHANNA VALLEY CENTRAL SCHOOL DISTRICT',\n",
       "       'CHENANGO VALLEY CENTRAL SCHOOL DISTRICT',\n",
       "       'MAINE-ENDWELL CENTRAL SCHOOL DISTRICT',\n",
       "       'DEPOSIT CENTRAL SCHOOL DISTRICT',\n",
       "       'WHITNEY POINT CENTRAL SCHOOL DISTRICT',\n",
       "       'UNION-ENDICOTT CENTRAL SCHOOL DISTRICT',\n",
       "       'JOHNSON CITY CENTRAL SCHOOL DISTRICT',\n",
       "       'VESTAL CENTRAL SCHOOL DISTRICT',\n",
       "       'WINDSOR CENTRAL SCHOOL DISTRICT',\n",
       "       'WEST VALLEY CENTRAL SCHOOL DISTRICT',\n",
       "       'ALLEGANY-LIMESTONE CENTRAL SCHOOL DISTRICT',\n",
       "       'ELLICOTTVILLE CENTRAL SCHOOL DISTRICT',\n",
       "       'FRANKLINVILLE CENTRAL SCHOOL DISTRICT',\n",
       "       'HINSDALE CENTRAL SCHOOL DISTRICT',\n",
       "       'CATTARAUGUS-LITTLE VALLEY CENTRAL SCHOOL DISTRICT',\n",
       "       'OLEAN CITY SCHOOL DISTRICT', 'GOWANDA CENTRAL SCHOOL DISTRICT',\n",
       "       'PORTVILLE CENTRAL SCHOOL DISTRICT',\n",
       "       'RANDOLPH CENTRAL SCHOOL DISTRICT',\n",
       "       'SALAMANCA CITY SCHOOL DISTRICT',\n",
       "       'YORKSHIRE-PIONEER CENTRAL SCHOOL DISTRICT',\n",
       "       'AUBURN CITY SCHOOL DISTRICT', 'WEEDSPORT CENTRAL SCHOOL DISTRICT',\n",
       "       'CATO-MERIDIAN CENTRAL SCHOOL DISTRICT',\n",
       "       'SOUTHERN CAYUGA CENTRAL SCHOOL DISTRICT',\n",
       "       'PORT BYRON CENTRAL SCHOOL DISTRICT',\n",
       "       'MORAVIA CENTRAL SCHOOL DISTRICT',\n",
       "       'UNION SPRINGS CENTRAL SCHOOL DISTRICT',\n",
       "       'SOUTHWESTERN CENTRAL SCHOOL DISTRICT AT JAMESTOWN',\n",
       "       'FREWSBURG CENTRAL SCHOOL DISTRICT',\n",
       "       'CASSADAGA VALLEY CENTRAL SCHOOL DISTRICT',\n",
       "       'CHAUTAUQUA LAKE CENTRAL SCHOOL DISTRICT',\n",
       "       'PINE VALLEY CENTRAL SCHOOL DISTRICT (SOUTH DAYTON)',\n",
       "       'CLYMER CENTRAL SCHOOL DISTRICT', 'DUNKIRK CITY SCHOOL DISTRICT',\n",
       "       'BEMUS POINT CENTRAL SCHOOL DISTRICT',\n",
       "       'FALCONER CENTRAL SCHOOL DISTRICT',\n",
       "       'SILVER CREEK CENTRAL SCHOOL DISTRICT',\n",
       "       'FORESTVILLE CENTRAL SCHOOL DISTRICT',\n",
       "       'PANAMA CENTRAL SCHOOL DISTRICT', 'JAMESTOWN CITY SCHOOL DISTRICT',\n",
       "       'FREDONIA CENTRAL SCHOOL DISTRICT',\n",
       "       'BROCTON CENTRAL SCHOOL DISTRICT',\n",
       "       'SHERMAN CENTRAL SCHOOL DISTRICT',\n",
       "       'WESTFIELD CENTRAL SCHOOL DISTRICT', 'ELMIRA CITY SCHOOL DISTRICT',\n",
       "       'HORSEHEADS CENTRAL SCHOOL DISTRICT',\n",
       "       'ELMIRA HEIGHTS CENTRAL SCHOOL DISTRICT',\n",
       "       'AFTON CENTRAL SCHOOL DISTRICT',\n",
       "       'BAINBRIDGE-GUILFORD CENTRAL SCHOOL DISTRICT',\n",
       "       'GREENE CENTRAL SCHOOL DISTRICT',\n",
       "       'UNADILLA VALLEY CENTRAL SCHOOL DISTRICT',\n",
       "       'NORWICH CITY SCHOOL DISTRICT',\n",
       "       'GEORGETOWN-SOUTH OTSELIC CENTRAL SCHOOL DISTRICT',\n",
       "       'OXFORD ACADEMY AND CENTRAL SCHOOL DISTRICT',\n",
       "       'SHERBURNE-EARLVILLE CENTRAL SCHOOL DISTRICT',\n",
       "       'AUSABLE VALLEY CENTRAL SCHOOL DISTRICT',\n",
       "       'BEEKMANTOWN CENTRAL SCHOOL DISTRICT',\n",
       "       'NORTHEASTERN CLINTON CENTRAL SCHOOL DISTRICT',\n",
       "       'CHAZY UNION FREE SCHOOL DISTRICT',\n",
       "       'NORTHERN ADIRONDACK CENTRAL SCHOOL DISTRICT',\n",
       "       'PERU CENTRAL SCHOOL DISTRICT', 'PLATTSBURGH CITY SCHOOL DISTRICT',\n",
       "       'SARANAC CENTRAL SCHOOL DISTRICT',\n",
       "       'BERKSHIRE UNION FREE SCHOOL DISTRICT',\n",
       "       'TACONIC HILLS CENTRAL SCHOOL DISTRICT',\n",
       "       'GERMANTOWN CENTRAL SCHOOL DISTRICT',\n",
       "       'CHATHAM CENTRAL SCHOOL DISTRICT', 'HUDSON CITY SCHOOL DISTRICT',\n",
       "       'KINDERHOOK CENTRAL SCHOOL DISTRICT',\n",
       "       'NEW LEBANON CENTRAL SCHOOL DISTRICT',\n",
       "       'CINCINNATUS CENTRAL SCHOOL DISTRICT',\n",
       "       'CORTLAND CITY SCHOOL DISTRICT', 'MCGRAW CENTRAL SCHOOL DISTRICT',\n",
       "       'HOMER CENTRAL SCHOOL DISTRICT',\n",
       "       'MARATHON CENTRAL SCHOOL DISTRICT',\n",
       "       'ANDES CENTRAL SCHOOL DISTRICT',\n",
       "       'DOWNSVILLE CENTRAL SCHOOL DISTRICT',\n",
       "       'CHARLOTTE VALLEY CENTRAL SCHOOL DISTRICT',\n",
       "       'DELAWARE ACADEMY CENTRAL SCHOOL DISTRICT AT DELHI',\n",
       "       'FRANKLIN CENTRAL SCHOOL DISTRICT',\n",
       "       'HANCOCK CENTRAL SCHOOL DISTRICT',\n",
       "       'MARGARETVILLE CENTRAL SCHOOL DISTRICT',\n",
       "       'ROXBURY CENTRAL SCHOOL DISTRICT',\n",
       "       'SIDNEY CENTRAL SCHOOL DISTRICT',\n",
       "       'STAMFORD CENTRAL SCHOOL DISTRICT',\n",
       "       'SOUTH KORTRIGHT CENTRAL SCHOOL DISTRICT',\n",
       "       'WALTON CENTRAL SCHOOL DISTRICT', 'BEACON CITY SCHOOL DISTRICT',\n",
       "       'DOVER UNION FREE SCHOOL DISTRICT',\n",
       "       'HYDE PARK CENTRAL SCHOOL DISTRICT',\n",
       "       'NORTHEAST CENTRAL SCHOOL DISTRICT',\n",
       "       'PAWLING CENTRAL SCHOOL DISTRICT',\n",
       "       'PINE PLAINS CENTRAL SCHOOL DISTRICT',\n",
       "       'POUGHKEEPSIE CITY SCHOOL DISTRICT',\n",
       "       'ARLINGTON CENTRAL SCHOOL DISTRICT',\n",
       "       'SPACKENKILL UNION FREE SCHOOL DISTRICT',\n",
       "       'RED HOOK CENTRAL SCHOOL DISTRICT',\n",
       "       'RHINEBECK CENTRAL SCHOOL DISTRICT',\n",
       "       'WAPPINGERS CENTRAL SCHOOL DISTRICT',\n",
       "       'MILLBROOK CENTRAL SCHOOL DISTRICT',\n",
       "       'ALDEN CENTRAL SCHOOL DISTRICT', 'AMHERST CENTRAL SCHOOL DISTRICT',\n",
       "       'WILLIAMSVILLE CENTRAL SCHOOL DISTRICT',\n",
       "       'SWEET HOME CENTRAL SCHOOL DISTRICT',\n",
       "       'EAST AURORA UNION FREE SCHOOL DISTRICT',\n",
       "       'BUFFALO CITY SCHOOL DISTRICT',\n",
       "       'CHEEKTOWAGA CENTRAL SCHOOL DISTRICT',\n",
       "       'CHEEKTOWAGA-MARYVALE UNION FREE SCHOOL DISTRICT',\n",
       "       'CLEVELAND HILL UNION FREE SCHOOL DISTRICT',\n",
       "       'DEPEW UNION FREE SCHOOL DISTRICT',\n",
       "       'CHEEKTOWAGA-SLOAN UNION FREE SCHOOL DISTRICT',\n",
       "       'CLARENCE CENTRAL SCHOOL DISTRICT',\n",
       "       'SPRINGVILLE-GRIFFITH INSTITUTE CENTRAL SCHOOL DISTRICT',\n",
       "       'EDEN CENTRAL SCHOOL DISTRICT', 'IROQUOIS CENTRAL SCHOOL DISTRICT',\n",
       "       'EVANS-BRANT CENTRAL SCHOOL DISTRICT (LAKE SHORE)',\n",
       "       'GRAND ISLAND CENTRAL SCHOOL DISTRICT',\n",
       "       'HAMBURG CENTRAL SCHOOL DISTRICT',\n",
       "       'FRONTIER CENTRAL SCHOOL DISTRICT',\n",
       "       'HOLLAND CENTRAL SCHOOL DISTRICT',\n",
       "       'LACKAWANNA CITY SCHOOL DISTRICT',\n",
       "       'LANCASTER CENTRAL SCHOOL DISTRICT',\n",
       "       'AKRON CENTRAL SCHOOL DISTRICT',\n",
       "       'NORTH COLLINS CENTRAL SCHOOL DISTRICT',\n",
       "       'ORCHARD PARK CENTRAL SCHOOL DISTRICT',\n",
       "       'TONAWANDA CITY SCHOOL DISTRICT',\n",
       "       'KENMORE-TONAWANDA UNION FREE SCHOOL DISTRICT',\n",
       "       'WEST SENECA CENTRAL SCHOOL DISTRICT',\n",
       "       'CROWN POINT CENTRAL SCHOOL DISTRICT',\n",
       "       'ELIZABETHTOWN-LEWIS CENTRAL SCHOOL DISTRICT',\n",
       "       'KEENE CENTRAL SCHOOL DISTRICT', 'MINERVA CENTRAL SCHOOL DISTRICT',\n",
       "       'MORIAH CENTRAL SCHOOL DISTRICT',\n",
       "       'NEWCOMB CENTRAL SCHOOL DISTRICT',\n",
       "       'LAKE PLACID CENTRAL SCHOOL DISTRICT',\n",
       "       'SCHROON LAKE CENTRAL SCHOOL DISTRICT',\n",
       "       'TICONDEROGA CENTRAL SCHOOL DISTRICT',\n",
       "       'WESTPORT CENTRAL SCHOOL DISTRICT',\n",
       "       'WILLSBORO CENTRAL SCHOOL DISTRICT',\n",
       "       'TUPPER LAKE CENTRAL SCHOOL DISTRICT',\n",
       "       'CHATEAUGAY CENTRAL SCHOOL DISTRICT',\n",
       "       'SALMON RIVER CENTRAL SCHOOL DISTRICT',\n",
       "       'SARANAC LAKE CENTRAL SCHOOL DISTRICT',\n",
       "       'MALONE CENTRAL SCHOOL DISTRICT',\n",
       "       'BRUSHTON-MOIRA CENTRAL SCHOOL DISTRICT',\n",
       "       'SAINT REGIS FALLS CENTRAL SCHOOL DISTRICT',\n",
       "       'GLOVERSVILLE CITY SCHOOL DISTRICT',\n",
       "       'JOHNSTOWN CITY SCHOOL DISTRICT',\n",
       "       'MAYFIELD CENTRAL SCHOOL DISTRICT',\n",
       "       'NORTHVILLE CENTRAL SCHOOL DISTRICT',\n",
       "       'BROADALBIN-PERTH CENTRAL SCHOOL DISTRICT',\n",
       "       'ALEXANDER CENTRAL SCHOOL DISTRICT',\n",
       "       'BATAVIA CITY SCHOOL DISTRICT',\n",
       "       'BYRON-BERGEN CENTRAL SCHOOL DISTRICT',\n",
       "       'ELBA CENTRAL SCHOOL DISTRICT', 'LE ROY CENTRAL SCHOOL DISTRICT',\n",
       "       'OAKFIELD-ALABAMA CENTRAL SCHOOL DISTRICT',\n",
       "       'PAVILION CENTRAL SCHOOL DISTRICT',\n",
       "       'PEMBROKE CENTRAL SCHOOL DISTRICT',\n",
       "       'CAIRO-DURHAM CENTRAL SCHOOL DISTRICT',\n",
       "       'CATSKILL CENTRAL SCHOOL DISTRICT',\n",
       "       'COXSACKIE-ATHENS CENTRAL SCHOOL DISTRICT',\n",
       "       'GREENVILLE CENTRAL SCHOOL DISTRICT',\n",
       "       'HUNTER-TANNERSVILLE CENTRAL SCHOOL DISTRICT',\n",
       "       'WINDHAM-ASHLAND-JEWETT CENTRAL SCHOOL DISTRICT',\n",
       "       'INDIAN LAKE CENTRAL SCHOOL DISTRICT',\n",
       "       'LONG LAKE CENTRAL SCHOOL DISTRICT',\n",
       "       'WELLS CENTRAL SCHOOL DISTRICT',\n",
       "       'WEST CANADA VALLEY CENTRAL SCHOOL DISTRICT',\n",
       "       'FRANKFORT-SCHUYLER CENTRAL SCHOOL DISTRICT',\n",
       "       'HERKIMER CENTRAL SCHOOL DISTRICT',\n",
       "       'LITTLE FALLS CITY SCHOOL DISTRICT',\n",
       "       'DOLGEVILLE CENTRAL SCHOOL DISTRICT',\n",
       "       'POLAND CENTRAL SCHOOL DISTRICT',\n",
       "       'VAN HORNESVILLE-OWEN D YOUNG CENTRAL SCHOOL DISTRICT',\n",
       "       'TOWN OF WEBB UNION FREE SCHOOL DISTRICT',\n",
       "       'MOUNT MARKHAM CENTRAL SCHOOL DISTRICT',\n",
       "       'CENTRAL VALLEY CSD AT ILION-MOHAWK',\n",
       "       'SOUTH JEFFERSON CENTRAL SCHOOL DISTRICT',\n",
       "       'ALEXANDRIA CENTRAL SCHOOL DISTRICT',\n",
       "       'INDIAN RIVER CENTRAL SCHOOL DISTRICT',\n",
       "       'GENERAL BROWN CENTRAL SCHOOL DISTRICT',\n",
       "       'THOUSAND ISLANDS CENTRAL SCHOOL DISTRICT',\n",
       "       'BELLEVILLE-HENDERSON CENTRAL SCHOOL DISTRICT',\n",
       "       'SACKETS HARBOR CENTRAL SCHOOL DISTRICT',\n",
       "       'LYME CENTRAL SCHOOL DISTRICT',\n",
       "       'LA FARGEVILLE CENTRAL SCHOOL DISTRICT',\n",
       "       'WATERTOWN CITY SCHOOL DISTRICT',\n",
       "       'CARTHAGE CENTRAL SCHOOL DISTRICT',\n",
       "       'COPENHAGEN CENTRAL SCHOOL DISTRICT',\n",
       "       'HARRISVILLE CENTRAL SCHOOL DISTRICT',\n",
       "       'LOWVILLE ACADEMY & CENTRAL SCHOOL DISTRICT',\n",
       "       'SOUTH LEWIS CENTRAL SCHOOL DISTRICT',\n",
       "       'BEAVER RIVER CENTRAL SCHOOL DISTRICT',\n",
       "       'AVON CENTRAL SCHOOL DISTRICT',\n",
       "       'CALEDONIA-MUMFORD CENTRAL SCHOOL DISTRICT',\n",
       "       'GENESEO CENTRAL SCHOOL DISTRICT',\n",
       "       'LIVONIA CENTRAL SCHOOL DISTRICT',\n",
       "       'MOUNT MORRIS CENTRAL SCHOOL DISTRICT',\n",
       "       'DANSVILLE CENTRAL SCHOOL DISTRICT',\n",
       "       'DALTON-NUNDA CENTRAL SCHOOL DISTRICT (KESHEQUA)',\n",
       "       'YORK CENTRAL SCHOOL DISTRICT',\n",
       "       'BROOKFIELD CENTRAL SCHOOL DISTRICT',\n",
       "       'CAZENOVIA CENTRAL SCHOOL DISTRICT',\n",
       "       'DERUYTER CENTRAL SCHOOL DISTRICT',\n",
       "       'MORRISVILLE-EATON CENTRAL SCHOOL DISTRICT',\n",
       "       'HAMILTON CENTRAL SCHOOL DISTRICT',\n",
       "       'CANASTOTA CENTRAL SCHOOL DISTRICT',\n",
       "       'MADISON CENTRAL SCHOOL DISTRICT', 'ONEIDA CITY SCHOOL DISTRICT',\n",
       "       'STOCKBRIDGE VALLEY CENTRAL SCHOOL DISTRICT',\n",
       "       'CHITTENANGO CENTRAL SCHOOL DISTRICT',\n",
       "       'BRIGHTON CENTRAL SCHOOL DISTRICT',\n",
       "       'GATES-CHILI CENTRAL SCHOOL DISTRICT',\n",
       "       'GREECE CENTRAL SCHOOL DISTRICT',\n",
       "       'EAST IRONDEQUOIT CENTRAL SCHOOL DISTRICT',\n",
       "       'WEST IRONDEQUOIT CENTRAL SCHOOL DISTRICT',\n",
       "       'HONEOYE FALLS-LIMA CENTRAL SCHOOL DISTRICT',\n",
       "       'SPENCERPORT CENTRAL SCHOOL DISTRICT',\n",
       "       'HILTON CENTRAL SCHOOL DISTRICT',\n",
       "       'PENFIELD CENTRAL SCHOOL DISTRICT',\n",
       "       'FAIRPORT CENTRAL SCHOOL DISTRICT',\n",
       "       'EAST ROCHESTER UNION FREE SCHOOL DISTRICT',\n",
       "       'PITTSFORD CENTRAL SCHOOL DISTRICT',\n",
       "       'CHURCHVILLE-CHILI CENTRAL SCHOOL DISTRICT',\n",
       "       'ROCHESTER CITY SCHOOL DISTRICT',\n",
       "       'RUSH-HENRIETTA CENTRAL SCHOOL DISTRICT',\n",
       "       'BROCKPORT CENTRAL SCHOOL DISTRICT',\n",
       "       'WEBSTER CENTRAL SCHOOL DISTRICT',\n",
       "       'WHEATLAND-CHILI CENTRAL SCHOOL DISTRICT',\n",
       "       'AMSTERDAM CITY SCHOOL DISTRICT',\n",
       "       'CANAJOHARIE CENTRAL SCHOOL DISTRICT',\n",
       "       'FONDA-FULTONVILLE CENTRAL SCHOOL DISTRICT',\n",
       "       'FORT PLAIN CENTRAL SCHOOL DISTRICT',\n",
       "       'OPPENHEIM-EPHRATAH-ST. JOHNSVILLE CSD',\n",
       "       'GLEN COVE CITY SCHOOL DISTRICT',\n",
       "       'HEMPSTEAD UNION FREE SCHOOL DISTRICT',\n",
       "       'UNIONDALE UNION FREE SCHOOL DISTRICT',\n",
       "       'EAST MEADOW UNION FREE SCHOOL DISTRICT',\n",
       "       'LEVITTOWN UNION FREE SCHOOL DISTRICT',\n",
       "       'SEAFORD UNION FREE SCHOOL DISTRICT',\n",
       "       'ROOSEVELT UNION FREE SCHOOL DISTRICT',\n",
       "       'FREEPORT UNION FREE SCHOOL DISTRICT',\n",
       "       'BALDWIN UNION FREE SCHOOL DISTRICT',\n",
       "       'OCEANSIDE UNION FREE SCHOOL DISTRICT',\n",
       "       'MALVERNE UNION FREE SCHOOL DISTRICT',\n",
       "       'HEWLETT-WOODMERE UNION FREE SCHOOL DISTRICT',\n",
       "       'LAWRENCE UNION FREE SCHOOL DISTRICT',\n",
       "       'GARDEN CITY UNION FREE SCHOOL DISTRICT',\n",
       "       'EAST ROCKAWAY UNION FREE SCHOOL DISTRICT',\n",
       "       'LYNBROOK UNION FREE SCHOOL DISTRICT',\n",
       "       'ROCKVILLE CENTRE UNION FREE SCHOOL DISTRICT',\n",
       "       'WANTAGH UNION FREE SCHOOL DISTRICT',\n",
       "       'ISLAND TREES UNION FREE SCHOOL DISTRICT',\n",
       "       'WEST HEMPSTEAD UNION FREE SCHOOL DISTRICT',\n",
       "       'VALLEY STREAM CENTRAL HIGH SCHOOL DISTRICT',\n",
       "       'SEWANHAKA CENTRAL HIGH SCHOOL DISTRICT',\n",
       "       'BELLMORE-MERRICK CENTRAL HIGH SCHOOL DISTRICT',\n",
       "       'LONG BEACH CITY SCHOOL DISTRICT',\n",
       "       'WESTBURY UNION FREE SCHOOL DISTRICT',\n",
       "       'EAST WILLISTON UNION FREE SCHOOL DISTRICT',\n",
       "       'ROSLYN UNION FREE SCHOOL DISTRICT',\n",
       "       'PORT WASHINGTON UNION FREE SCHOOL DISTRICT',\n",
       "       'MANHASSET UNION FREE SCHOOL DISTRICT',\n",
       "       'GREAT NECK UNION FREE SCHOOL DISTRICT',\n",
       "       'HERRICKS UNION FREE SCHOOL DISTRICT',\n",
       "       'MINEOLA UNION FREE SCHOOL DISTRICT',\n",
       "       'CARLE PLACE UNION FREE SCHOOL DISTRICT',\n",
       "       'NORTH SHORE CENTRAL SCHOOL DISTRICT',\n",
       "       'SYOSSET CENTRAL SCHOOL DISTRICT',\n",
       "       'LOCUST VALLEY CENTRAL SCHOOL DISTRICT',\n",
       "       'PLAINVIEW-OLD BETHPAGE CENTRAL SCHOOL DISTRICT',\n",
       "       'OYSTER BAY-EAST NORWICH CENTRAL SCHOOL DISTRICT',\n",
       "       'JERICHO UNION FREE SCHOOL DISTRICT',\n",
       "       'HICKSVILLE UNION FREE SCHOOL DISTRICT',\n",
       "       'PLAINEDGE UNION FREE SCHOOL DISTRICT',\n",
       "       'BETHPAGE UNION FREE SCHOOL DISTRICT',\n",
       "       'FARMINGDALE UNION FREE SCHOOL DISTRICT',\n",
       "       'MASSAPEQUA UNION FREE SCHOOL DISTRICT',\n",
       "       'NEW YORK CITY GEOGRAPHIC DISTRICT # 1',\n",
       "       'NEW YORK CITY GEOGRAPHIC DISTRICT # 2',\n",
       "       'NEW YORK CITY GEOGRAPHIC DISTRICT # 3',\n",
       "       'NEW YORK CITY GEOGRAPHIC DISTRICT # 4',\n",
       "       'NEW YORK CITY GEOGRAPHIC DISTRICT # 5',\n",
       "       'NEW YORK CITY GEOGRAPHIC DISTRICT # 6',\n",
       "       'NEW YORK CITY GEOGRAPHIC DISTRICT # 7',\n",
       "       'NEW YORK CITY GEOGRAPHIC DISTRICT # 8',\n",
       "       'NEW YORK CITY GEOGRAPHIC DISTRICT # 9',\n",
       "       'NEW YORK CITY GEOGRAPHIC DISTRICT #10',\n",
       "       'NEW YORK CITY GEOGRAPHIC DISTRICT #11',\n",
       "       'NEW YORK CITY GEOGRAPHIC DISTRICT #12',\n",
       "       'NEW YORK CITY GEOGRAPHIC DISTRICT #13',\n",
       "       'NEW YORK CITY GEOGRAPHIC DISTRICT #14',\n",
       "       'NEW YORK CITY GEOGRAPHIC DISTRICT #15',\n",
       "       'NEW YORK CITY GEOGRAPHIC DISTRICT #16',\n",
       "       'NEW YORK CITY GEOGRAPHIC DISTRICT #17',\n",
       "       'NEW YORK CITY GEOGRAPHIC DISTRICT #18',\n",
       "       'NEW YORK CITY GEOGRAPHIC DISTRICT #19',\n",
       "       'NEW YORK CITY GEOGRAPHIC DISTRICT #20',\n",
       "       'NEW YORK CITY GEOGRAPHIC DISTRICT #21',\n",
       "       'NEW YORK CITY GEOGRAPHIC DISTRICT #22',\n",
       "       'NEW YORK CITY GEOGRAPHIC DISTRICT #23',\n",
       "       'NEW YORK CITY GEOGRAPHIC DISTRICT #32',\n",
       "       'NEW YORK CITY GEOGRAPHIC DISTRICT #24',\n",
       "       'NEW YORK CITY GEOGRAPHIC DISTRICT #25',\n",
       "       'NEW YORK CITY GEOGRAPHIC DISTRICT #26',\n",
       "       'NEW YORK CITY GEOGRAPHIC DISTRICT #27',\n",
       "       'NEW YORK CITY GEOGRAPHIC DISTRICT #28',\n",
       "       'NEW YORK CITY GEOGRAPHIC DISTRICT #29',\n",
       "       'NEW YORK CITY GEOGRAPHIC DISTRICT #30',\n",
       "       'NEW YORK CITY GEOGRAPHIC DISTRICT #31',\n",
       "       'LEWISTON-PORTER CENTRAL SCHOOL DISTRICT',\n",
       "       'LOCKPORT CITY SCHOOL DISTRICT', 'NEWFANE CENTRAL SCHOOL DISTRICT',\n",
       "       'NIAGARA-WHEATFIELD CENTRAL SCHOOL DISTRICT',\n",
       "       'NIAGARA FALLS CITY SCHOOL DISTRICT',\n",
       "       'NORTH TONAWANDA CITY SCHOOL DISTRICT',\n",
       "       'STARPOINT CENTRAL SCHOOL DISTRICT',\n",
       "       'ROYALTON-HARTLAND CENTRAL SCHOOL DISTRICT',\n",
       "       'BARKER CENTRAL SCHOOL DISTRICT', 'WILSON CENTRAL SCHOOL DISTRICT',\n",
       "       'ADIRONDACK CENTRAL SCHOOL DISTRICT',\n",
       "       'CAMDEN CENTRAL SCHOOL DISTRICT',\n",
       "       'CLINTON CENTRAL SCHOOL DISTRICT',\n",
       "       'NEW HARTFORD CENTRAL SCHOOL DISTRICT',\n",
       "       'NEW YORK MILLS UNION FREE SCHOOL DISTRICT',\n",
       "       'SAUQUOIT VALLEY CENTRAL SCHOOL DISTRICT',\n",
       "       'REMSEN CENTRAL SCHOOL DISTRICT', 'ROME CITY SCHOOL DISTRICT',\n",
       "       'WATERVILLE CENTRAL SCHOOL DISTRICT',\n",
       "       'SHERRILL CITY SCHOOL DISTRICT',\n",
       "       'HOLLAND PATENT CENTRAL SCHOOL DISTRICT',\n",
       "       'UTICA CITY SCHOOL DISTRICT',\n",
       "       'WESTMORELAND CENTRAL SCHOOL DISTRICT',\n",
       "       'ORISKANY CENTRAL SCHOOL DISTRICT',\n",
       "       'WHITESBORO CENTRAL SCHOOL DISTRICT',\n",
       "       'WEST GENESEE CENTRAL SCHOOL DISTRICT',\n",
       "       'NORTH SYRACUSE CENTRAL SCHOOL DISTRICT',\n",
       "       'EAST SYRACUSE MINOA CENTRAL SCHOOL DISTRICT',\n",
       "       'JAMESVILLE-DEWITT CENTRAL SCHOOL DISTRICT',\n",
       "       'JORDAN-ELBRIDGE CENTRAL SCHOOL DISTRICT',\n",
       "       'FABIUS-POMPEY CENTRAL SCHOOL DISTRICT',\n",
       "       'WESTHILL CENTRAL SCHOOL DISTRICT',\n",
       "       'SOLVAY UNION FREE SCHOOL DISTRICT',\n",
       "       'LAFAYETTE CENTRAL SCHOOL DISTRICT',\n",
       "       'BALDWINSVILLE CENTRAL SCHOOL DISTRICT',\n",
       "       'FAYETTEVILLE-MANLIUS CENTRAL SCHOOL DISTRICT',\n",
       "       'MARCELLUS CENTRAL SCHOOL DISTRICT',\n",
       "       'ONONDAGA CENTRAL SCHOOL DISTRICT',\n",
       "       'LIVERPOOL CENTRAL SCHOOL DISTRICT',\n",
       "       'SKANEATELES CENTRAL SCHOOL DISTRICT',\n",
       "       'SYRACUSE CITY SCHOOL DISTRICT', 'TULLY CENTRAL SCHOOL DISTRICT',\n",
       "       'CANANDAIGUA CITY SCHOOL DISTRICT',\n",
       "       'EAST BLOOMFIELD CENTRAL SCHOOL DISTRICT',\n",
       "       'GENEVA CITY SCHOOL DISTRICT',\n",
       "       'GORHAM-MIDDLESEX CENTRAL SCHOOL DISTRICT (MARCUS WHITMAN)',\n",
       "       'MANCHESTER-SHORTSVILLE CENTRAL SCHOOL DISTRICT (RED JACKET)',\n",
       "       'NAPLES CENTRAL SCHOOL DISTRICT',\n",
       "       'PHELPS-CLIFTON SPRINGS CENTRAL SCHOOL DISTRICT',\n",
       "       'HONEOYE CENTRAL SCHOOL DISTRICT',\n",
       "       'VICTOR CENTRAL SCHOOL DISTRICT',\n",
       "       'WASHINGTONVILLE CENTRAL SCHOOL DISTRICT',\n",
       "       'CHESTER UNION FREE SCHOOL DISTRICT',\n",
       "       'CORNWALL CENTRAL SCHOOL DISTRICT',\n",
       "       'PINE BUSH CENTRAL SCHOOL DISTRICT',\n",
       "       'GOSHEN CENTRAL SCHOOL DISTRICT',\n",
       "       'HIGHLAND FALLS CENTRAL SCHOOL DISTRICT',\n",
       "       'MIDDLETOWN CITY SCHOOL DISTRICT',\n",
       "       'MINISINK VALLEY CENTRAL SCHOOL DISTRICT',\n",
       "       'MONROE-WOODBURY CENTRAL SCHOOL DISTRICT',\n",
       "       'KIRYAS JOEL VILLAGE UNION FREE SCHOOL DISTRICT',\n",
       "       'VALLEY CENTRAL SCHOOL DISTRICT (MONTGOMERY)',\n",
       "       'NEWBURGH CITY SCHOOL DISTRICT',\n",
       "       'PORT JERVIS CITY SCHOOL DISTRICT',\n",
       "       'TUXEDO UNION FREE SCHOOL DISTRICT',\n",
       "       'WARWICK VALLEY CENTRAL SCHOOL DISTRICT',\n",
       "       'FLORIDA UNION FREE SCHOOL DISTRICT',\n",
       "       'ALBION CENTRAL SCHOOL DISTRICT',\n",
       "       'KENDALL CENTRAL SCHOOL DISTRICT',\n",
       "       'HOLLEY CENTRAL SCHOOL DISTRICT', 'MEDINA CENTRAL SCHOOL DISTRICT',\n",
       "       'LYNDONVILLE CENTRAL SCHOOL DISTRICT',\n",
       "       'ALTMAR-PARISH-WILLIAMSTOWN CENTRAL SCHOOL DISTRICT',\n",
       "       'FULTON CITY SCHOOL DISTRICT', 'HANNIBAL CENTRAL SCHOOL DISTRICT',\n",
       "       'CENTRAL SQUARE CENTRAL SCHOOL DISTRICT',\n",
       "       'MEXICO CENTRAL SCHOOL DISTRICT', 'OSWEGO CITY SCHOOL DISTRICT',\n",
       "       'PULASKI CENTRAL SCHOOL DISTRICT',\n",
       "       'SANDY CREEK CENTRAL SCHOOL DISTRICT',\n",
       "       'PHOENIX CENTRAL SCHOOL DISTRICT',\n",
       "       'GILBERTSVILLE-MOUNT UPTON CENTRAL SCHOOL DISTRICT',\n",
       "       'EDMESTON CENTRAL SCHOOL DISTRICT',\n",
       "       'LAURENS CENTRAL SCHOOL DISTRICT',\n",
       "       'SCHENEVUS CENTRAL SCHOOL DISTRICT',\n",
       "       'MILFORD CENTRAL SCHOOL DISTRICT',\n",
       "       'MORRIS CENTRAL SCHOOL DISTRICT', 'ONEONTA CITY SCHOOL DISTRICT',\n",
       "       'OTEGO-UNADILLA CENTRAL SCHOOL DISTRICT',\n",
       "       'COOPERSTOWN CENTRAL SCHOOL DISTRICT',\n",
       "       'RICHFIELD SPRINGS CENTRAL SCHOOL DISTRICT',\n",
       "       'CHERRY VALLEY-SPRINGFIELD CENTRAL SCHOOL DISTRICT',\n",
       "       'WORCESTER CENTRAL SCHOOL DISTRICT',\n",
       "       'MAHOPAC CENTRAL SCHOOL DISTRICT',\n",
       "       'CARMEL CENTRAL SCHOOL DISTRICT',\n",
       "       'HALDANE CENTRAL SCHOOL DISTRICT',\n",
       "       'PUTNAM VALLEY CENTRAL SCHOOL DISTRICT',\n",
       "       'BREWSTER CENTRAL SCHOOL DISTRICT',\n",
       "       'BERLIN CENTRAL SCHOOL DISTRICT',\n",
       "       'BRUNSWICK CENTRAL SCHOOL DISTRICT (BRITTONKILL)',\n",
       "       'EAST GREENBUSH CENTRAL SCHOOL DISTRICT',\n",
       "       'HOOSICK FALLS CENTRAL SCHOOL DISTRICT',\n",
       "       'LANSINGBURGH CENTRAL SCHOOL DISTRICT',\n",
       "       'RENSSELAER CITY SCHOOL DISTRICT',\n",
       "       'AVERILL PARK CENTRAL SCHOOL DISTRICT',\n",
       "       'HOOSIC VALLEY CENTRAL SCHOOL DISTRICT',\n",
       "       'SCHODACK CENTRAL SCHOOL DISTRICT', 'TROY CITY SCHOOL DISTRICT',\n",
       "       'CLARKSTOWN CENTRAL SCHOOL DISTRICT',\n",
       "       'NANUET UNION FREE SCHOOL DISTRICT',\n",
       "       'HAVERSTRAW-STONY POINT CSD (NORTH ROCKLAND)',\n",
       "       'SOUTH ORANGETOWN CENTRAL SCHOOL DISTRICT',\n",
       "       'NYACK UNION FREE SCHOOL DISTRICT',\n",
       "       'PEARL RIVER UNION FREE SCHOOL DISTRICT',\n",
       "       'SUFFERN CENTRAL SCHOOL DISTRICT',\n",
       "       'EAST RAMAPO CENTRAL SCHOOL DISTRICT (SPRING VALLEY)',\n",
       "       'BRASHER FALLS CENTRAL SCHOOL DISTRICT',\n",
       "       'CANTON CENTRAL SCHOOL DISTRICT',\n",
       "       'CLIFTON-FINE CENTRAL SCHOOL DISTRICT',\n",
       "       'COLTON-PIERREPONT CENTRAL SCHOOL DISTRICT',\n",
       "       'GOUVERNEUR CENTRAL SCHOOL DISTRICT',\n",
       "       'HAMMOND CENTRAL SCHOOL DISTRICT',\n",
       "       'HERMON-DEKALB CENTRAL SCHOOL DISTRICT',\n",
       "       'LISBON CENTRAL SCHOOL DISTRICT',\n",
       "       'MADRID-WADDINGTON CENTRAL SCHOOL DISTRICT',\n",
       "       'MASSENA CENTRAL SCHOOL DISTRICT',\n",
       "       'MORRISTOWN CENTRAL SCHOOL DISTRICT',\n",
       "       'NORWOOD-NORFOLK CENTRAL SCHOOL DISTRICT',\n",
       "       'OGDENSBURG CITY SCHOOL DISTRICT',\n",
       "       'HEUVELTON CENTRAL SCHOOL DISTRICT',\n",
       "       'PARISHVILLE-HOPKINTON CENTRAL SCHOOL DISTRICT',\n",
       "       'POTSDAM CENTRAL SCHOOL DISTRICT',\n",
       "       'EDWARDS-KNOX CENTRAL SCHOOL DISTRICT',\n",
       "       'BURNT HILLS-BALLSTON LAKE CENTRAL SCHOOL DISTRICT',\n",
       "       'SHENENDEHOWA CENTRAL SCHOOL DISTRICT',\n",
       "       'CORINTH CENTRAL SCHOOL DISTRICT',\n",
       "       'GALWAY CENTRAL SCHOOL DISTRICT',\n",
       "       'MECHANICVILLE CITY SCHOOL DISTRICT',\n",
       "       'BALLSTON SPA CENTRAL SCHOOL DISTRICT',\n",
       "       'SOUTH GLENS FALLS CENTRAL SCHOOL DISTRICT',\n",
       "       'SCHUYLERVILLE CENTRAL SCHOOL DISTRICT',\n",
       "       'THE ENLARGED CITY SCHOOL DISTRICT OF THE CITY OF SARATOGA SP',\n",
       "       'STILLWATER CENTRAL SCHOOL DISTRICT',\n",
       "       'WATERFORD-HALFMOON UNION FREE SCHOOL DISTRICT',\n",
       "       'DUANESBURG CENTRAL SCHOOL DISTRICT',\n",
       "       'SCOTIA-GLENVILLE CENTRAL SCHOOL DISTRICT',\n",
       "       'NISKAYUNA CENTRAL SCHOOL DISTRICT',\n",
       "       'SCHALMONT CENTRAL SCHOOL DISTRICT',\n",
       "       'ROTTERDAM-MOHONASEN CENTRAL SCHOOL DISTRICT',\n",
       "       'SCHENECTADY CITY SCHOOL DISTRICT',\n",
       "       'GILBOA-CONESVILLE CENTRAL SCHOOL DISTRICT',\n",
       "       'JEFFERSON CENTRAL SCHOOL DISTRICT',\n",
       "       'MIDDLEBURGH CENTRAL SCHOOL DISTRICT',\n",
       "       'COBLESKILL-RICHMONDVILLE CENTRAL SCHOOL DISTRICT',\n",
       "       'SCHOHARIE CENTRAL SCHOOL DISTRICT',\n",
       "       'SHARON SPRINGS CENTRAL SCHOOL DISTRICT',\n",
       "       'ODESSA-MONTOUR CENTRAL SCHOOL DISTRICT',\n",
       "       'WATKINS GLEN CENTRAL SCHOOL DISTRICT',\n",
       "       'SOUTH SENECA CENTRAL SCHOOL DISTRICT',\n",
       "       'ROMULUS CENTRAL SCHOOL DISTRICT',\n",
       "       'SENECA FALLS CENTRAL SCHOOL DISTRICT',\n",
       "       'WATERLOO CENTRAL SCHOOL DISTRICT',\n",
       "       'ADDISON CENTRAL SCHOOL DISTRICT', 'AVOCA CENTRAL SCHOOL DISTRICT',\n",
       "       'BATH CENTRAL SCHOOL DISTRICT', 'BRADFORD CENTRAL SCHOOL DISTRICT',\n",
       "       'CAMPBELL-SAVONA CENTRAL SCHOOL DISTRICT',\n",
       "       'CORNING CITY SCHOOL DISTRICT', 'CANISTEO-GREENWOOD CSD',\n",
       "       'HORNELL CITY SCHOOL DISTRICT', 'ARKPORT CENTRAL SCHOOL DISTRICT',\n",
       "       'PRATTSBURGH CENTRAL SCHOOL DISTRICT',\n",
       "       'JASPER-TROUPSBURG CENTRAL SCHOOL DISTRICT',\n",
       "       'HAMMONDSPORT CENTRAL SCHOOL DISTRICT',\n",
       "       'WAYLAND-COHOCTON CENTRAL SCHOOL DISTRICT',\n",
       "       'BABYLON UNION FREE SCHOOL DISTRICT',\n",
       "       'WEST BABYLON UNION FREE SCHOOL DISTRICT',\n",
       "       'NORTH BABYLON UNION FREE SCHOOL DISTRICT',\n",
       "       'LINDENHURST UNION FREE SCHOOL DISTRICT',\n",
       "       'COPIAGUE UNION FREE SCHOOL DISTRICT',\n",
       "       'AMITYVILLE UNION FREE SCHOOL DISTRICT',\n",
       "       'DEER PARK UNION FREE SCHOOL DISTRICT',\n",
       "       'WYANDANCH UNION FREE SCHOOL DISTRICT',\n",
       "       'THREE VILLAGE CENTRAL SCHOOL DISTRICT',\n",
       "       'BROOKHAVEN-COMSEWOGUE UNION FREE SCHOOL DISTRICT',\n",
       "       'SACHEM CENTRAL SCHOOL DISTRICT',\n",
       "       'PORT JEFFERSON UNION FREE SCHOOL DISTRICT',\n",
       "       'MOUNT SINAI UNION FREE SCHOOL DISTRICT',\n",
       "       'MILLER PLACE UNION FREE SCHOOL DISTRICT',\n",
       "       'ROCKY POINT UNION FREE SCHOOL DISTRICT',\n",
       "       'MIDDLE COUNTRY CENTRAL SCHOOL DISTRICT',\n",
       "       'LONGWOOD CENTRAL SCHOOL DISTRICT',\n",
       "       'PATCHOGUE-MEDFORD UNION FREE SCHOOL DISTRICT',\n",
       "       'WILLIAM FLOYD UNION FREE SCHOOL DISTRICT',\n",
       "       'CENTER MORICHES UNION FREE SCHOOL DISTRICT',\n",
       "       'SOUTH COUNTRY CENTRAL SCHOOL DISTRICT',\n",
       "       'EAST HAMPTON UNION FREE SCHOOL DISTRICT',\n",
       "       'SAG HARBOR UNION FREE SCHOOL DISTRICT',\n",
       "       'ELWOOD UNION FREE SCHOOL DISTRICT',\n",
       "       'COLD SPRING HARBOR CENTRAL SCHOOL DISTRICT',\n",
       "       'HUNTINGTON UNION FREE SCHOOL DISTRICT',\n",
       "       'NORTHPORT-EAST NORTHPORT UNION FREE SCHOOL DISTRICT',\n",
       "       'HALF HOLLOW HILLS CENTRAL SCHOOL DISTRICT',\n",
       "       'HARBORFIELDS CENTRAL SCHOOL DISTRICT',\n",
       "       'COMMACK UNION FREE SCHOOL DISTRICT',\n",
       "       'SOUTH HUNTINGTON UNION FREE SCHOOL DISTRICT',\n",
       "       'BAY SHORE UNION FREE SCHOOL DISTRICT',\n",
       "       'ISLIP UNION FREE SCHOOL DISTRICT',\n",
       "       'EAST ISLIP UNION FREE SCHOOL DISTRICT',\n",
       "       'SAYVILLE UNION FREE SCHOOL DISTRICT',\n",
       "       'BAYPORT-BLUE POINT UNION FREE SCHOOL DISTRICT',\n",
       "       'HAUPPAUGE UNION FREE SCHOOL DISTRICT',\n",
       "       'CONNETQUOT CENTRAL SCHOOL DISTRICT',\n",
       "       'WEST ISLIP UNION FREE SCHOOL DISTRICT',\n",
       "       'BRENTWOOD UNION FREE SCHOOL DISTRICT',\n",
       "       'CENTRAL ISLIP UNION FREE SCHOOL DISTRICT',\n",
       "       'SHOREHAM-WADING RIVER CENTRAL SCHOOL DISTRICT',\n",
       "       'RIVERHEAD CENTRAL SCHOOL DISTRICT',\n",
       "       'SHELTER ISLAND UNION FREE SCHOOL DISTRICT',\n",
       "       'SMITHTOWN CENTRAL SCHOOL DISTRICT',\n",
       "       'KINGS PARK CENTRAL SCHOOL DISTRICT',\n",
       "       'WESTHAMPTON BEACH UNION FREE SCHOOL DISTRICT',\n",
       "       'HAMPTON BAYS UNION FREE SCHOOL DISTRICT',\n",
       "       'SOUTHAMPTON UNION FREE SCHOOL DISTRICT',\n",
       "       'BRIDGEHAMPTON UNION FREE SCHOOL DISTRICT',\n",
       "       'EASTPORT-SOUTH MANOR CSD',\n",
       "       'FISHERS ISLAND UNION FREE SCHOOL DISTRICT',\n",
       "       'SOUTHOLD UNION FREE SCHOOL DISTRICT',\n",
       "       'GREENPORT UNION FREE SCHOOL DISTRICT',\n",
       "       'MATTITUCK-CUTCHOGUE UNION FREE SCHOOL DISTRICT',\n",
       "       'FALLSBURG CENTRAL SCHOOL DISTRICT',\n",
       "       'ELDRED CENTRAL SCHOOL DISTRICT',\n",
       "       'LIBERTY CENTRAL SCHOOL DISTRICT',\n",
       "       'TRI-VALLEY CENTRAL SCHOOL DISTRICT',\n",
       "       'ROSCOE CENTRAL SCHOOL DISTRICT',\n",
       "       'LIVINGSTON MANOR CENTRAL SCHOOL DISTRICT',\n",
       "       'MONTICELLO CENTRAL SCHOOL DISTRICT',\n",
       "       'SULLIVAN WEST CENTRAL SCHOOL DISTRICT',\n",
       "       'WAVERLY CENTRAL SCHOOL DISTRICT',\n",
       "       'CANDOR CENTRAL SCHOOL DISTRICT',\n",
       "       'NEWARK VALLEY CENTRAL SCHOOL DISTRICT',\n",
       "       'OWEGO-APALACHIN CENTRAL SCHOOL DISTRICT',\n",
       "       'SPENCER-VAN ETTEN CENTRAL SCHOOL DISTRICT',\n",
       "       'TIOGA CENTRAL SCHOOL DISTRICT', 'DRYDEN CENTRAL SCHOOL DISTRICT',\n",
       "       'GEORGE JUNIOR REPUBLIC UNION FREE SCHOOL DISTRICT',\n",
       "       'GROTON CENTRAL SCHOOL DISTRICT', 'ITHACA CITY SCHOOL DISTRICT',\n",
       "       'LANSING CENTRAL SCHOOL DISTRICT',\n",
       "       'NEWFIELD CENTRAL SCHOOL DISTRICT',\n",
       "       'TRUMANSBURG CENTRAL SCHOOL DISTRICT',\n",
       "       'KINGSTON CITY SCHOOL DISTRICT',\n",
       "       'HIGHLAND CENTRAL SCHOOL DISTRICT',\n",
       "       'RONDOUT VALLEY CENTRAL SCHOOL DISTRICT',\n",
       "       'MARLBORO CENTRAL SCHOOL DISTRICT',\n",
       "       'NEW PALTZ CENTRAL SCHOOL DISTRICT',\n",
       "       'ONTEORA CENTRAL SCHOOL DISTRICT',\n",
       "       'SAUGERTIES CENTRAL SCHOOL DISTRICT',\n",
       "       'WALLKILL CENTRAL SCHOOL DISTRICT',\n",
       "       'ELLENVILLE CENTRAL SCHOOL DISTRICT',\n",
       "       'BOLTON CENTRAL SCHOOL DISTRICT',\n",
       "       'NORTH WARREN CENTRAL SCHOOL DISTRICT',\n",
       "       'GLENS FALLS CITY SCHOOL DISTRICT',\n",
       "       'JOHNSBURG CENTRAL SCHOOL DISTRICT',\n",
       "       'LAKE GEORGE CENTRAL SCHOOL DISTRICT',\n",
       "       'HADLEY-LUZERNE CENTRAL SCHOOL DISTRICT',\n",
       "       'QUEENSBURY UNION FREE SCHOOL DISTRICT',\n",
       "       'WARRENSBURG CENTRAL SCHOOL DISTRICT',\n",
       "       'ARGYLE CENTRAL SCHOOL DISTRICT',\n",
       "       'FORT ANN CENTRAL SCHOOL DISTRICT',\n",
       "       'FORT EDWARD UNION FREE SCHOOL DISTRICT',\n",
       "       'GRANVILLE CENTRAL SCHOOL DISTRICT',\n",
       "       'GREENWICH CENTRAL SCHOOL DISTRICT',\n",
       "       'HARTFORD CENTRAL SCHOOL DISTRICT',\n",
       "       'HUDSON FALLS CENTRAL SCHOOL DISTRICT',\n",
       "       'SALEM CENTRAL SCHOOL DISTRICT',\n",
       "       'CAMBRIDGE CENTRAL SCHOOL DISTRICT',\n",
       "       'WHITEHALL CENTRAL SCHOOL DISTRICT',\n",
       "       'NEWARK CENTRAL SCHOOL DISTRICT',\n",
       "       'CLYDE-SAVANNAH CENTRAL SCHOOL DISTRICT',\n",
       "       'LYONS CENTRAL SCHOOL DISTRICT', 'MARION CENTRAL SCHOOL DISTRICT',\n",
       "       'WAYNE CENTRAL SCHOOL DISTRICT',\n",
       "       'PALMYRA-MACEDON CENTRAL SCHOOL DISTRICT',\n",
       "       'GANANDA CENTRAL SCHOOL DISTRICT', 'SODUS CENTRAL SCHOOL DISTRICT',\n",
       "       'WILLIAMSON CENTRAL SCHOOL DISTRICT',\n",
       "       'NORTH ROSE-WOLCOTT CENTRAL SCHOOL DISTRICT',\n",
       "       'RED CREEK CENTRAL SCHOOL DISTRICT',\n",
       "       'KATONAH-LEWISBORO UNION FREE SCHOOL DISTRICT',\n",
       "       'BEDFORD CENTRAL SCHOOL DISTRICT',\n",
       "       'CROTON-HARMON UNION FREE SCHOOL DISTRICT',\n",
       "       'HENDRICK HUDSON CENTRAL SCHOOL DISTRICT',\n",
       "       'EASTCHESTER UNION FREE SCHOOL DISTRICT',\n",
       "       'TUCKAHOE UNION FREE SCHOOL DISTRICT',\n",
       "       'BRONXVILLE UNION FREE SCHOOL DISTRICT',\n",
       "       'UNION FREE SCHOOL DISTRICT OF THE TARRYTOWNS',\n",
       "       'IRVINGTON UNION FREE SCHOOL DISTRICT',\n",
       "       'DOBBS FERRY UNION FREE SCHOOL DISTRICT',\n",
       "       'HASTINGS-ON-HUDSON UNION FREE SCHOOL DISTRICT',\n",
       "       'ARDSLEY UNION FREE SCHOOL DISTRICT',\n",
       "       'EDGEMONT UNION FREE SCHOOL DISTRICT',\n",
       "       'GREENBURGH CENTRAL SCHOOL DISTRICT',\n",
       "       'ELMSFORD UNION FREE SCHOOL DISTRICT',\n",
       "       'GREENBURGH-GRAHAM UNION FREE SCHOOL DISTRICT',\n",
       "       'GREENBURGH ELEVEN UNION FREE SCHOOL DISTRICT',\n",
       "       'GREENBURGH-NORTH CASTLE UNION FREE SCHOOL DISTRICT',\n",
       "       'HARRISON CENTRAL SCHOOL DISTRICT',\n",
       "       'MAMARONECK UNION FREE SCHOOL DISTRICT',\n",
       "       'MOUNT PLEASANT CENTRAL SCHOOL DISTRICT',\n",
       "       'HAWTHORNE-CEDAR KNOLLS UNION FREE SCHOOL DISTRICT',\n",
       "       'MOUNT PLEASANT-COTTAGE UNION FREE SCHOOL DISTRICT',\n",
       "       'VALHALLA UNION FREE SCHOOL DISTRICT',\n",
       "       'PLEASANTVILLE UNION FREE SCHOOL DISTRICT',\n",
       "       'MOUNT VERNON SCHOOL DISTRICT',\n",
       "       'CHAPPAQUA CENTRAL SCHOOL DISTRICT',\n",
       "       'NEW ROCHELLE CITY SCHOOL DISTRICT',\n",
       "       'BYRAM HILLS CENTRAL SCHOOL DISTRICT',\n",
       "       'NORTH SALEM CENTRAL SCHOOL DISTRICT',\n",
       "       'OSSINING UNION FREE SCHOOL DISTRICT',\n",
       "       'BRIARCLIFF MANOR UNION FREE SCHOOL DISTRICT',\n",
       "       'PEEKSKILL CITY SCHOOL DISTRICT',\n",
       "       'PELHAM UNION FREE SCHOOL DISTRICT', 'RYE CITY SCHOOL DISTRICT',\n",
       "       'RYE NECK UNION FREE SCHOOL DISTRICT',\n",
       "       'PORT CHESTER-RYE UNION FREE SCHOOL DISTRICT',\n",
       "       'BLIND BROOK-RYE UNION FREE SCHOOL DISTRICT',\n",
       "       'SCARSDALE UNION FREE SCHOOL DISTRICT',\n",
       "       'SOMERS CENTRAL SCHOOL DISTRICT',\n",
       "       'WHITE PLAINS CITY SCHOOL DISTRICT',\n",
       "       'YONKERS CITY SCHOOL DISTRICT', 'LAKELAND CENTRAL SCHOOL DISTRICT',\n",
       "       'YORKTOWN CENTRAL SCHOOL DISTRICT',\n",
       "       'ATTICA CENTRAL SCHOOL DISTRICT',\n",
       "       'LETCHWORTH CENTRAL SCHOOL DISTRICT',\n",
       "       'PERRY CENTRAL SCHOOL DISTRICT', 'WARSAW CENTRAL SCHOOL DISTRICT',\n",
       "       'PENN YAN CENTRAL SCHOOL DISTRICT',\n",
       "       'DUNDEE CENTRAL SCHOOL DISTRICT'], dtype=object)"
      ]
     },
     "execution_count": 29,
     "metadata": {},
     "output_type": "execute_result"
    }
   ],
   "source": [
    "df[\"aggregation_name\"].unique() #list of unique school names "
   ]
  },
  {
   "cell_type": "code",
   "execution_count": 30,
   "id": "58332721",
   "metadata": {},
   "outputs": [
    {
     "data": {
      "text/plain": [
       "677"
      ]
     },
     "execution_count": 30,
     "metadata": {},
     "output_type": "execute_result"
    }
   ],
   "source": [
    "len(pd.unique(df[\"aggregation_name\"])) #count of unique school names "
   ]
  },
  {
   "cell_type": "code",
   "execution_count": 31,
   "id": "cc3ec8e1",
   "metadata": {},
   "outputs": [
    {
     "data": {
      "text/plain": [
       "SYRACUSE CITY SCHOOL DISTRICT                         116\n",
       "NEW YORK CITY GEOGRAPHIC DISTRICT #26                 108\n",
       "NEW YORK CITY GEOGRAPHIC DISTRICT # 7                 108\n",
       "NEW YORK CITY GEOGRAPHIC DISTRICT # 9                 108\n",
       "NEW YORK CITY GEOGRAPHIC DISTRICT # 8                 108\n",
       "                                                     ... \n",
       "KIRYAS JOEL VILLAGE UNION FREE SCHOOL DISTRICT          4\n",
       "FISHERS ISLAND UNION FREE SCHOOL DISTRICT               4\n",
       "BERKSHIRE UNION FREE SCHOOL DISTRICT                    2\n",
       "LONG LAKE CENTRAL SCHOOL DISTRICT                       2\n",
       "GREENBURGH-NORTH CASTLE UNION FREE SCHOOL DISTRICT      2\n",
       "Name: aggregation_name, Length: 677, dtype: int64"
      ]
     },
     "execution_count": 31,
     "metadata": {},
     "output_type": "execute_result"
    }
   ],
   "source": [
    "# pandas count distinct values in column\n",
    "aggregation_namedf = df['aggregation_name'].value_counts()\n",
    "aggregation_namedf"
   ]
  },
  {
   "cell_type": "markdown",
   "id": "380957d9",
   "metadata": {},
   "source": [
    "SYRACUSE CITY SCHOOL DISTRICT has highest number whereas LONG LAKE CENTRAL SCHOOL DISTRICT has lowest number  "
   ]
  },
  {
   "cell_type": "code",
   "execution_count": 32,
   "id": "8a2a56ac",
   "metadata": {},
   "outputs": [],
   "source": [
    "# Selecting numeric variables and creating a new dataframe \n",
    "numericdf = df[['enroll_cnt', 'grad_cnt','local_cnt','reg_cnt', 'reg_adv_cnt', 'non_diploma_credential_cnt','still_enr_cnt' , 'ged_cnt']].copy()"
   ]
  },
  {
   "cell_type": "code",
   "execution_count": 33,
   "id": "744ad468",
   "metadata": {},
   "outputs": [],
   "source": [
    "dropout_cnt = df[['dropout_cnt']].copy() #response variable"
   ]
  },
  {
   "cell_type": "code",
   "execution_count": 34,
   "id": "25059c84",
   "metadata": {},
   "outputs": [
    {
     "data": {
      "text/html": [
       "<div>\n",
       "<style scoped>\n",
       "    .dataframe tbody tr th:only-of-type {\n",
       "        vertical-align: middle;\n",
       "    }\n",
       "\n",
       "    .dataframe tbody tr th {\n",
       "        vertical-align: top;\n",
       "    }\n",
       "\n",
       "    .dataframe thead th {\n",
       "        text-align: right;\n",
       "    }\n",
       "</style>\n",
       "<table border=\"1\" class=\"dataframe\">\n",
       "  <thead>\n",
       "    <tr style=\"text-align: right;\">\n",
       "      <th></th>\n",
       "      <th>enroll_cnt</th>\n",
       "      <th>grad_cnt</th>\n",
       "      <th>local_cnt</th>\n",
       "      <th>reg_cnt</th>\n",
       "      <th>reg_adv_cnt</th>\n",
       "      <th>non_diploma_credential_cnt</th>\n",
       "      <th>still_enr_cnt</th>\n",
       "      <th>ged_cnt</th>\n",
       "    </tr>\n",
       "  </thead>\n",
       "  <tbody>\n",
       "    <tr>\n",
       "      <th>0</th>\n",
       "      <td>658</td>\n",
       "      <td>464</td>\n",
       "      <td>63</td>\n",
       "      <td>310</td>\n",
       "      <td>91</td>\n",
       "      <td>16</td>\n",
       "      <td>30</td>\n",
       "      <td>0</td>\n",
       "    </tr>\n",
       "    <tr>\n",
       "      <th>1</th>\n",
       "      <td>324</td>\n",
       "      <td>246</td>\n",
       "      <td>30</td>\n",
       "      <td>169</td>\n",
       "      <td>47</td>\n",
       "      <td>2</td>\n",
       "      <td>11</td>\n",
       "      <td>0</td>\n",
       "    </tr>\n",
       "    <tr>\n",
       "      <th>2</th>\n",
       "      <td>334</td>\n",
       "      <td>218</td>\n",
       "      <td>33</td>\n",
       "      <td>141</td>\n",
       "      <td>44</td>\n",
       "      <td>14</td>\n",
       "      <td>19</td>\n",
       "      <td>0</td>\n",
       "    </tr>\n",
       "    <tr>\n",
       "      <th>3</th>\n",
       "      <td>367</td>\n",
       "      <td>248</td>\n",
       "      <td>42</td>\n",
       "      <td>183</td>\n",
       "      <td>23</td>\n",
       "      <td>10</td>\n",
       "      <td>18</td>\n",
       "      <td>0</td>\n",
       "    </tr>\n",
       "    <tr>\n",
       "      <th>4</th>\n",
       "      <td>98</td>\n",
       "      <td>58</td>\n",
       "      <td>13</td>\n",
       "      <td>40</td>\n",
       "      <td>5</td>\n",
       "      <td>4</td>\n",
       "      <td>8</td>\n",
       "      <td>0</td>\n",
       "    </tr>\n",
       "    <tr>\n",
       "      <th>...</th>\n",
       "      <td>...</td>\n",
       "      <td>...</td>\n",
       "      <td>...</td>\n",
       "      <td>...</td>\n",
       "      <td>...</td>\n",
       "      <td>...</td>\n",
       "      <td>...</td>\n",
       "      <td>...</td>\n",
       "    </tr>\n",
       "    <tr>\n",
       "      <th>39669</th>\n",
       "      <td>36</td>\n",
       "      <td>25</td>\n",
       "      <td>2</td>\n",
       "      <td>20</td>\n",
       "      <td>3</td>\n",
       "      <td>1</td>\n",
       "      <td>1</td>\n",
       "      <td>0</td>\n",
       "    </tr>\n",
       "    <tr>\n",
       "      <th>39670</th>\n",
       "      <td>48</td>\n",
       "      <td>43</td>\n",
       "      <td>3</td>\n",
       "      <td>32</td>\n",
       "      <td>8</td>\n",
       "      <td>0</td>\n",
       "      <td>0</td>\n",
       "      <td>0</td>\n",
       "    </tr>\n",
       "    <tr>\n",
       "      <th>39671</th>\n",
       "      <td>13</td>\n",
       "      <td>2</td>\n",
       "      <td>0</td>\n",
       "      <td>2</td>\n",
       "      <td>0</td>\n",
       "      <td>3</td>\n",
       "      <td>2</td>\n",
       "      <td>0</td>\n",
       "    </tr>\n",
       "    <tr>\n",
       "      <th>39672</th>\n",
       "      <td>33</td>\n",
       "      <td>23</td>\n",
       "      <td>0</td>\n",
       "      <td>20</td>\n",
       "      <td>3</td>\n",
       "      <td>3</td>\n",
       "      <td>0</td>\n",
       "      <td>0</td>\n",
       "    </tr>\n",
       "    <tr>\n",
       "      <th>39673</th>\n",
       "      <td>28</td>\n",
       "      <td>22</td>\n",
       "      <td>3</td>\n",
       "      <td>14</td>\n",
       "      <td>5</td>\n",
       "      <td>0</td>\n",
       "      <td>2</td>\n",
       "      <td>0</td>\n",
       "    </tr>\n",
       "  </tbody>\n",
       "</table>\n",
       "<p>39674 rows × 8 columns</p>\n",
       "</div>"
      ],
      "text/plain": [
       "       enroll_cnt  grad_cnt  local_cnt  reg_cnt  reg_adv_cnt  \\\n",
       "0             658       464         63      310           91   \n",
       "1             324       246         30      169           47   \n",
       "2             334       218         33      141           44   \n",
       "3             367       248         42      183           23   \n",
       "4              98        58         13       40            5   \n",
       "...           ...       ...        ...      ...          ...   \n",
       "39669          36        25          2       20            3   \n",
       "39670          48        43          3       32            8   \n",
       "39671          13         2          0        2            0   \n",
       "39672          33        23          0       20            3   \n",
       "39673          28        22          3       14            5   \n",
       "\n",
       "       non_diploma_credential_cnt  still_enr_cnt  ged_cnt  \n",
       "0                              16             30        0  \n",
       "1                               2             11        0  \n",
       "2                              14             19        0  \n",
       "3                              10             18        0  \n",
       "4                               4              8        0  \n",
       "...                           ...            ...      ...  \n",
       "39669                           1              1        0  \n",
       "39670                           0              0        0  \n",
       "39671                           3              2        0  \n",
       "39672                           3              0        0  \n",
       "39673                           0              2        0  \n",
       "\n",
       "[39674 rows x 8 columns]"
      ]
     },
     "execution_count": 34,
     "metadata": {},
     "output_type": "execute_result"
    }
   ],
   "source": [
    "numericdf #sanity check"
   ]
  },
  {
   "cell_type": "code",
   "execution_count": 35,
   "id": "9ad60d72",
   "metadata": {},
   "outputs": [
    {
     "data": {
      "text/html": [
       "<div>\n",
       "<style scoped>\n",
       "    .dataframe tbody tr th:only-of-type {\n",
       "        vertical-align: middle;\n",
       "    }\n",
       "\n",
       "    .dataframe tbody tr th {\n",
       "        vertical-align: top;\n",
       "    }\n",
       "\n",
       "    .dataframe thead th {\n",
       "        text-align: right;\n",
       "    }\n",
       "</style>\n",
       "<table border=\"1\" class=\"dataframe\">\n",
       "  <thead>\n",
       "    <tr style=\"text-align: right;\">\n",
       "      <th></th>\n",
       "      <th>dropout_cnt</th>\n",
       "    </tr>\n",
       "  </thead>\n",
       "  <tbody>\n",
       "    <tr>\n",
       "      <th>0</th>\n",
       "      <td>148</td>\n",
       "    </tr>\n",
       "    <tr>\n",
       "      <th>1</th>\n",
       "      <td>65</td>\n",
       "    </tr>\n",
       "    <tr>\n",
       "      <th>2</th>\n",
       "      <td>83</td>\n",
       "    </tr>\n",
       "    <tr>\n",
       "      <th>3</th>\n",
       "      <td>91</td>\n",
       "    </tr>\n",
       "    <tr>\n",
       "      <th>4</th>\n",
       "      <td>28</td>\n",
       "    </tr>\n",
       "    <tr>\n",
       "      <th>...</th>\n",
       "      <td>...</td>\n",
       "    </tr>\n",
       "    <tr>\n",
       "      <th>39669</th>\n",
       "      <td>9</td>\n",
       "    </tr>\n",
       "    <tr>\n",
       "      <th>39670</th>\n",
       "      <td>5</td>\n",
       "    </tr>\n",
       "    <tr>\n",
       "      <th>39671</th>\n",
       "      <td>6</td>\n",
       "    </tr>\n",
       "    <tr>\n",
       "      <th>39672</th>\n",
       "      <td>7</td>\n",
       "    </tr>\n",
       "    <tr>\n",
       "      <th>39673</th>\n",
       "      <td>4</td>\n",
       "    </tr>\n",
       "  </tbody>\n",
       "</table>\n",
       "<p>39674 rows × 1 columns</p>\n",
       "</div>"
      ],
      "text/plain": [
       "       dropout_cnt\n",
       "0              148\n",
       "1               65\n",
       "2               83\n",
       "3               91\n",
       "4               28\n",
       "...            ...\n",
       "39669            9\n",
       "39670            5\n",
       "39671            6\n",
       "39672            7\n",
       "39673            4\n",
       "\n",
       "[39674 rows x 1 columns]"
      ]
     },
     "execution_count": 35,
     "metadata": {},
     "output_type": "execute_result"
    }
   ],
   "source": [
    "dropout_cnt #sanity check"
   ]
  },
  {
   "cell_type": "code",
   "execution_count": 36,
   "id": "2d0a0382",
   "metadata": {},
   "outputs": [
    {
     "data": {
      "image/png": "[encoded data removed]",
      "text/plain": [
       "<Figure size 864x432 with 2 Axes>"
      ]
     },
     "metadata": {
      "needs_background": "light"
     },
     "output_type": "display_data"
    }
   ],
   "source": [
    "# importing seaborn and matplotlib pyplot libraries \n",
    "import seaborn as sns\n",
    "import matplotlib.pyplot as plt\n",
    "\n",
    "plt.figure(figsize=(12,6))\n",
    "corr = numericdf.corr()\n",
    "sns.heatmap(corr, cmap=\"YlGnBu\",xticklabels=corr.columns.values, yticklabels=corr.columns.values, annot=True)\n",
    "plt.show()\n",
    "# Plotting heatmap to see correlation bewteen the features."
   ]
  },
  {
   "cell_type": "code",
   "execution_count": 37,
   "id": "56b95a6f",
   "metadata": {
    "scrolled": true
   },
   "outputs": [
    {
     "data": {
      "image/png": "[encoded data removed]",
      "text/plain": [
       "<Figure size 864x288 with 2 Axes>"
      ]
     },
     "metadata": {
      "needs_background": "light"
     },
     "output_type": "display_data"
    },
    {
     "data": {
      "image/png": "[encoded data removed]",
      "text/plain": [
       "<Figure size 864x288 with 2 Axes>"
      ]
     },
     "metadata": {
      "needs_background": "light"
     },
     "output_type": "display_data"
    },
    {
     "data": {
      "image/png": "[encoded data removed]",
      "text/plain": [
       "<Figure size 864x288 with 2 Axes>"
      ]
     },
     "metadata": {
      "needs_background": "light"
     },
     "output_type": "display_data"
    },
    {
     "data": {
      "image/png": "[encoded data removed]",
      "text/plain": [
       "<Figure size 864x288 with 2 Axes>"
      ]
     },
     "metadata": {
      "needs_background": "light"
     },
     "output_type": "display_data"
    },
    {
     "data": {
      "image/png": "[encoded data removed]",
      "text/plain": [
       "<Figure size 864x288 with 2 Axes>"
      ]
     },
     "metadata": {
      "needs_background": "light"
     },
     "output_type": "display_data"
    },
    {
     "data": {
      "image/png": "[encoded data removed]",
      "text/plain": [
       "<Figure size 864x288 with 2 Axes>"
      ]
     },
     "metadata": {
      "needs_background": "light"
     },
     "output_type": "display_data"
    },
    {
     "data": {
      "image/png": "[encoded data removed]",
      "text/plain": [
       "<Figure size 864x288 with 2 Axes>"
      ]
     },
     "metadata": {
      "needs_background": "light"
     },
     "output_type": "display_data"
    },
    {
     "data": {
      "image/png": "[encoded data removed]",
      "text/plain": [
       "<Figure size 864x288 with 2 Axes>"
      ]
     },
     "metadata": {
      "needs_background": "light"
     },
     "output_type": "display_data"
    }
   ],
   "source": [
    "# for each column, create a histogram and boxplot side by side\n",
    "# for numeric columns \n",
    "for i in range(0,8):\n",
    "    figure, axis = plt.subplots(1, 2,figsize=(12,4))\n",
    "    a=numericdf.iloc[:,i]\n",
    "    axis[0].hist(a, bins=20)\n",
    "    axis[0].set_title(numericdf.columns[i])\n",
    "    axis[0].set_ylabel(\"Count\")\n",
    "    axis[1].boxplot(a)\n",
    "    axis[1].set_title(numericdf.columns[i])\n",
    "    plt.show()"
   ]
  },
  {
   "cell_type": "markdown",
   "id": "ae206e81",
   "metadata": {},
   "source": [
    "We can observe that the attributes or dimensions are right skewed and need to be normalized for further work"
   ]
  },
  {
   "cell_type": "code",
   "execution_count": 38,
   "id": "a0c3b93b",
   "metadata": {},
   "outputs": [
    {
     "data": {
      "image/png": "[encoded data removed]",
      "text/plain": [
       "<Figure size 864x288 with 2 Axes>"
      ]
     },
     "metadata": {
      "needs_background": "light"
     },
     "output_type": "display_data"
    }
   ],
   "source": [
    "# for each column, create a histogram and boxplot side by side\n",
    "# for Dropout_cnt column which is response variable \n",
    "for i in range(0,1):\n",
    "    figure, axis = plt.subplots(1, 2,figsize=(12,4))\n",
    "    a=dropout_cnt.iloc[:,i]\n",
    "    axis[0].hist(a, bins=20)\n",
    "    axis[0].set_title(dropout_cnt.columns[i])\n",
    "    axis[0].set_ylabel(\"Count\")\n",
    "    axis[1].boxplot(a)\n",
    "    axis[1].set_title(dropout_cnt.columns[i])\n",
    "    plt.show()"
   ]
  },
  {
   "cell_type": "markdown",
   "id": "a0a8ec5f",
   "metadata": {},
   "source": [
    "It is right skewed and need to be normalized"
   ]
  },
  {
   "cell_type": "markdown",
   "id": "a38e88eb",
   "metadata": {},
   "source": [
    "##### Normalization of data"
   ]
  },
  {
   "cell_type": "code",
   "execution_count": 39,
   "id": "9f81d94e",
   "metadata": {},
   "outputs": [],
   "source": [
    "# columns to list \n",
    "numericsc = list(numericdf.columns)"
   ]
  },
  {
   "cell_type": "code",
   "execution_count": 40,
   "id": "83b0e753",
   "metadata": {
    "scrolled": true
   },
   "outputs": [
    {
     "data": {
      "text/plain": [
       "['enroll_cnt',\n",
       " 'grad_cnt',\n",
       " 'local_cnt',\n",
       " 'reg_cnt',\n",
       " 'reg_adv_cnt',\n",
       " 'non_diploma_credential_cnt',\n",
       " 'still_enr_cnt',\n",
       " 'ged_cnt']"
      ]
     },
     "execution_count": 40,
     "metadata": {},
     "output_type": "execute_result"
    }
   ],
   "source": [
    "numericsc #sanity check "
   ]
  },
  {
   "cell_type": "code",
   "execution_count": 41,
   "id": "9b72e695",
   "metadata": {},
   "outputs": [],
   "source": [
    "dropout_cntsc = list(dropout_cnt.columns)"
   ]
  },
  {
   "cell_type": "code",
   "execution_count": 42,
   "id": "c56cb1de",
   "metadata": {},
   "outputs": [
    {
     "data": {
      "text/plain": [
       "['dropout_cnt']"
      ]
     },
     "execution_count": 42,
     "metadata": {},
     "output_type": "execute_result"
    }
   ],
   "source": [
    "dropout_cntsc #sanity check"
   ]
  },
  {
   "cell_type": "code",
   "execution_count": 43,
   "id": "a8cd3b85",
   "metadata": {},
   "outputs": [],
   "source": [
    "#dataframe of numeric as well as response variables\n",
    "alldf = df[['enroll_cnt', 'grad_cnt','local_cnt','reg_cnt', 'reg_adv_cnt', 'non_diploma_credential_cnt','still_enr_cnt' , 'ged_cnt', 'dropout_cnt']].copy()"
   ]
  },
  {
   "cell_type": "code",
   "execution_count": 44,
   "id": "3af186ab",
   "metadata": {},
   "outputs": [],
   "source": [
    "# columns to list \n",
    "allsc = list(alldf.columns)"
   ]
  },
  {
   "cell_type": "code",
   "execution_count": 45,
   "id": "3de0874c",
   "metadata": {},
   "outputs": [
    {
     "data": {
      "text/plain": [
       "['enroll_cnt',\n",
       " 'grad_cnt',\n",
       " 'local_cnt',\n",
       " 'reg_cnt',\n",
       " 'reg_adv_cnt',\n",
       " 'non_diploma_credential_cnt',\n",
       " 'still_enr_cnt',\n",
       " 'ged_cnt',\n",
       " 'dropout_cnt']"
      ]
     },
     "execution_count": 45,
     "metadata": {},
     "output_type": "execute_result"
    }
   ],
   "source": [
    "allsc #sanity check"
   ]
  },
  {
   "cell_type": "code",
   "execution_count": 46,
   "id": "24d5af28",
   "metadata": {},
   "outputs": [
    {
     "data": {
      "text/html": [
       "<div>\n",
       "<style scoped>\n",
       "    .dataframe tbody tr th:only-of-type {\n",
       "        vertical-align: middle;\n",
       "    }\n",
       "\n",
       "    .dataframe tbody tr th {\n",
       "        vertical-align: top;\n",
       "    }\n",
       "\n",
       "    .dataframe thead th {\n",
       "        text-align: right;\n",
       "    }\n",
       "</style>\n",
       "<table border=\"1\" class=\"dataframe\">\n",
       "  <thead>\n",
       "    <tr style=\"text-align: right;\">\n",
       "      <th></th>\n",
       "      <th>enroll_cnt</th>\n",
       "      <th>grad_cnt</th>\n",
       "      <th>local_cnt</th>\n",
       "      <th>reg_cnt</th>\n",
       "      <th>reg_adv_cnt</th>\n",
       "      <th>non_diploma_credential_cnt</th>\n",
       "      <th>still_enr_cnt</th>\n",
       "      <th>ged_cnt</th>\n",
       "    </tr>\n",
       "  </thead>\n",
       "  <tbody>\n",
       "    <tr>\n",
       "      <th>0</th>\n",
       "      <td>1.556674</td>\n",
       "      <td>1.439241</td>\n",
       "      <td>1.795464</td>\n",
       "      <td>1.619218</td>\n",
       "      <td>0.961980</td>\n",
       "      <td>1.836021</td>\n",
       "      <td>1.554668</td>\n",
       "      <td>-0.588644</td>\n",
       "    </tr>\n",
       "    <tr>\n",
       "      <th>1</th>\n",
       "      <td>1.117188</td>\n",
       "      <td>1.017930</td>\n",
       "      <td>1.405988</td>\n",
       "      <td>1.239676</td>\n",
       "      <td>0.573121</td>\n",
       "      <td>1.030762</td>\n",
       "      <td>1.139663</td>\n",
       "      <td>-0.588644</td>\n",
       "    </tr>\n",
       "    <tr>\n",
       "      <th>2</th>\n",
       "      <td>1.136630</td>\n",
       "      <td>0.936731</td>\n",
       "      <td>1.459189</td>\n",
       "      <td>1.123600</td>\n",
       "      <td>0.534733</td>\n",
       "      <td>1.812644</td>\n",
       "      <td>1.383663</td>\n",
       "      <td>-0.588644</td>\n",
       "    </tr>\n",
       "    <tr>\n",
       "      <th>3</th>\n",
       "      <td>1.196556</td>\n",
       "      <td>1.023360</td>\n",
       "      <td>1.589608</td>\n",
       "      <td>1.290279</td>\n",
       "      <td>0.162589</td>\n",
       "      <td>1.740634</td>\n",
       "      <td>1.361486</td>\n",
       "      <td>-0.588644</td>\n",
       "    </tr>\n",
       "    <tr>\n",
       "      <th>4</th>\n",
       "      <td>0.309499</td>\n",
       "      <td>0.028792</td>\n",
       "      <td>0.899879</td>\n",
       "      <td>0.283271</td>\n",
       "      <td>-0.646965</td>\n",
       "      <td>1.419519</td>\n",
       "      <td>0.977049</td>\n",
       "      <td>-0.588644</td>\n",
       "    </tr>\n",
       "    <tr>\n",
       "      <th>...</th>\n",
       "      <td>...</td>\n",
       "      <td>...</td>\n",
       "      <td>...</td>\n",
       "      <td>...</td>\n",
       "      <td>...</td>\n",
       "      <td>...</td>\n",
       "      <td>...</td>\n",
       "      <td>...</td>\n",
       "    </tr>\n",
       "    <tr>\n",
       "      <th>39669</th>\n",
       "      <td>-0.430522</td>\n",
       "      <td>-0.560272</td>\n",
       "      <td>-0.377276</td>\n",
       "      <td>-0.198965</td>\n",
       "      <td>-0.880875</td>\n",
       "      <td>0.548158</td>\n",
       "      <td>-0.287742</td>\n",
       "      <td>-0.588644</td>\n",
       "    </tr>\n",
       "    <tr>\n",
       "      <th>39670</th>\n",
       "      <td>-0.212331</td>\n",
       "      <td>-0.180122</td>\n",
       "      <td>-0.104297</td>\n",
       "      <td>0.129165</td>\n",
       "      <td>-0.411761</td>\n",
       "      <td>-0.886937</td>\n",
       "      <td>-1.205229</td>\n",
       "      <td>-0.588644</td>\n",
       "    </tr>\n",
       "    <tr>\n",
       "      <th>39671</th>\n",
       "      <td>-1.231135</td>\n",
       "      <td>-2.197090</td>\n",
       "      <td>-1.596883</td>\n",
       "      <td>-1.730139</td>\n",
       "      <td>-1.670955</td>\n",
       "      <td>1.273374</td>\n",
       "      <td>0.136176</td>\n",
       "      <td>-0.588644</td>\n",
       "    </tr>\n",
       "    <tr>\n",
       "      <th>39672</th>\n",
       "      <td>-0.497330</td>\n",
       "      <td>-0.618733</td>\n",
       "      <td>-1.596883</td>\n",
       "      <td>-0.198965</td>\n",
       "      <td>-0.880875</td>\n",
       "      <td>1.273374</td>\n",
       "      <td>-1.205229</td>\n",
       "      <td>-0.588644</td>\n",
       "    </tr>\n",
       "    <tr>\n",
       "      <th>39673</th>\n",
       "      <td>-0.624445</td>\n",
       "      <td>-0.649886</td>\n",
       "      <td>-0.104297</td>\n",
       "      <td>-0.449733</td>\n",
       "      <td>-0.646965</td>\n",
       "      <td>-0.886937</td>\n",
       "      <td>0.136176</td>\n",
       "      <td>-0.588644</td>\n",
       "    </tr>\n",
       "  </tbody>\n",
       "</table>\n",
       "<p>39674 rows × 8 columns</p>\n",
       "</div>"
      ],
      "text/plain": [
       "       enroll_cnt  grad_cnt  local_cnt   reg_cnt  reg_adv_cnt  \\\n",
       "0        1.556674  1.439241   1.795464  1.619218     0.961980   \n",
       "1        1.117188  1.017930   1.405988  1.239676     0.573121   \n",
       "2        1.136630  0.936731   1.459189  1.123600     0.534733   \n",
       "3        1.196556  1.023360   1.589608  1.290279     0.162589   \n",
       "4        0.309499  0.028792   0.899879  0.283271    -0.646965   \n",
       "...           ...       ...        ...       ...          ...   \n",
       "39669   -0.430522 -0.560272  -0.377276 -0.198965    -0.880875   \n",
       "39670   -0.212331 -0.180122  -0.104297  0.129165    -0.411761   \n",
       "39671   -1.231135 -2.197090  -1.596883 -1.730139    -1.670955   \n",
       "39672   -0.497330 -0.618733  -1.596883 -0.198965    -0.880875   \n",
       "39673   -0.624445 -0.649886  -0.104297 -0.449733    -0.646965   \n",
       "\n",
       "       non_diploma_credential_cnt  still_enr_cnt   ged_cnt  \n",
       "0                        1.836021       1.554668 -0.588644  \n",
       "1                        1.030762       1.139663 -0.588644  \n",
       "2                        1.812644       1.383663 -0.588644  \n",
       "3                        1.740634       1.361486 -0.588644  \n",
       "4                        1.419519       0.977049 -0.588644  \n",
       "...                           ...            ...       ...  \n",
       "39669                    0.548158      -0.287742 -0.588644  \n",
       "39670                   -0.886937      -1.205229 -0.588644  \n",
       "39671                    1.273374       0.136176 -0.588644  \n",
       "39672                    1.273374      -1.205229 -0.588644  \n",
       "39673                   -0.886937       0.136176 -0.588644  \n",
       "\n",
       "[39674 rows x 8 columns]"
      ]
     },
     "execution_count": 46,
     "metadata": {},
     "output_type": "execute_result"
    }
   ],
   "source": [
    "# importing power_transform for normalization of numerical values \n",
    "from sklearn.preprocessing import power_transform\n",
    "standardized_data = pd.DataFrame(power_transform(df[numericsc]), columns = numericsc)\n",
    "standardized_data"
   ]
  },
  {
   "cell_type": "code",
   "execution_count": 47,
   "id": "0b4c6e9e",
   "metadata": {
    "scrolled": true
   },
   "outputs": [
    {
     "data": {
      "image/png": "[encoded data removed]",
      "text/plain": [
       "<Figure size 864x288 with 2 Axes>"
      ]
     },
     "metadata": {
      "needs_background": "light"
     },
     "output_type": "display_data"
    },
    {
     "data": {
      "image/png": "[encoded data removed]",
      "text/plain": [
       "<Figure size 864x288 with 2 Axes>"
      ]
     },
     "metadata": {
      "needs_background": "light"
     },
     "output_type": "display_data"
    },
    {
     "data": {
      "image/png": "[encoded data removed]",
      "text/plain": [
       "<Figure size 864x288 with 2 Axes>"
      ]
     },
     "metadata": {
      "needs_background": "light"
     },
     "output_type": "display_data"
    },
    {
     "data": {
      "image/png": "[encoded data removed]",
      "text/plain": [
       "<Figure size 864x288 with 2 Axes>"
      ]
     },
     "metadata": {
      "needs_background": "light"
     },
     "output_type": "display_data"
    },
    {
     "data": {
      "image/png": "[encoded data removed]",
      "text/plain": [
       "<Figure size 864x288 with 2 Axes>"
      ]
     },
     "metadata": {
      "needs_background": "light"
     },
     "output_type": "display_data"
    },
    {
     "data": {
      "image/png": "[encoded data removed]",
      "text/plain": [
       "<Figure size 864x288 with 2 Axes>"
      ]
     },
     "metadata": {
      "needs_background": "light"
     },
     "output_type": "display_data"
    },
    {
     "data": {
      "image/png": "[encoded data removed]",
      "text/plain": [
       "<Figure size 864x288 with 2 Axes>"
      ]
     },
     "metadata": {
      "needs_background": "light"
     },
     "output_type": "display_data"
    },
    {
     "data": {
      "image/png": "[encoded data removed]",
      "text/plain": [
       "<Figure size 864x288 with 2 Axes>"
      ]
     },
     "metadata": {
      "needs_background": "light"
     },
     "output_type": "display_data"
    }
   ],
   "source": [
    "# plotting histogram and boxplot side by side\n",
    "#plotting the normalized numeric variables\n",
    "for i in range(0,8):\n",
    "    figure, axis = plt.subplots(1, 2,figsize=(12,4))\n",
    "    a=standardized_data.iloc[:,i]\n",
    "    axis[0].hist(a, bins=20)\n",
    "    axis[0].set_title(standardized_data.columns[i])\n",
    "    axis[0].set_ylabel(\"Count\")\n",
    "    axis[1].boxplot(a)\n",
    "    axis[1].set_title(standardized_data.columns[i])\n",
    "    plt.show()"
   ]
  },
  {
   "cell_type": "markdown",
   "id": "59b3e950",
   "metadata": {},
   "source": [
    "Now the dimensions are normalized which can be seen in the plots above"
   ]
  },
  {
   "cell_type": "code",
   "execution_count": 48,
   "id": "ad956000",
   "metadata": {},
   "outputs": [
    {
     "data": {
      "text/html": [
       "<div>\n",
       "<style scoped>\n",
       "    .dataframe tbody tr th:only-of-type {\n",
       "        vertical-align: middle;\n",
       "    }\n",
       "\n",
       "    .dataframe tbody tr th {\n",
       "        vertical-align: top;\n",
       "    }\n",
       "\n",
       "    .dataframe thead th {\n",
       "        text-align: right;\n",
       "    }\n",
       "</style>\n",
       "<table border=\"1\" class=\"dataframe\">\n",
       "  <thead>\n",
       "    <tr style=\"text-align: right;\">\n",
       "      <th></th>\n",
       "      <th>dropout_cnt</th>\n",
       "    </tr>\n",
       "  </thead>\n",
       "  <tbody>\n",
       "    <tr>\n",
       "      <th>0</th>\n",
       "      <td>1.952577</td>\n",
       "    </tr>\n",
       "    <tr>\n",
       "      <th>1</th>\n",
       "      <td>1.676750</td>\n",
       "    </tr>\n",
       "    <tr>\n",
       "      <th>2</th>\n",
       "      <td>1.765441</td>\n",
       "    </tr>\n",
       "    <tr>\n",
       "      <th>3</th>\n",
       "      <td>1.797294</td>\n",
       "    </tr>\n",
       "    <tr>\n",
       "      <th>4</th>\n",
       "      <td>1.322237</td>\n",
       "    </tr>\n",
       "    <tr>\n",
       "      <th>...</th>\n",
       "      <td>...</td>\n",
       "    </tr>\n",
       "    <tr>\n",
       "      <th>39669</th>\n",
       "      <td>0.715176</td>\n",
       "    </tr>\n",
       "    <tr>\n",
       "      <th>39670</th>\n",
       "      <td>0.349002</td>\n",
       "    </tr>\n",
       "    <tr>\n",
       "      <th>39671</th>\n",
       "      <td>0.465362</td>\n",
       "    </tr>\n",
       "    <tr>\n",
       "      <th>39672</th>\n",
       "      <td>0.561974</td>\n",
       "    </tr>\n",
       "    <tr>\n",
       "      <th>39673</th>\n",
       "      <td>0.204380</td>\n",
       "    </tr>\n",
       "  </tbody>\n",
       "</table>\n",
       "<p>39674 rows × 1 columns</p>\n",
       "</div>"
      ],
      "text/plain": [
       "       dropout_cnt\n",
       "0         1.952577\n",
       "1         1.676750\n",
       "2         1.765441\n",
       "3         1.797294\n",
       "4         1.322237\n",
       "...            ...\n",
       "39669     0.715176\n",
       "39670     0.349002\n",
       "39671     0.465362\n",
       "39672     0.561974\n",
       "39673     0.204380\n",
       "\n",
       "[39674 rows x 1 columns]"
      ]
     },
     "execution_count": 48,
     "metadata": {},
     "output_type": "execute_result"
    }
   ],
   "source": [
    "#normalization of response variable\n",
    "standardized_datarv = pd.DataFrame(power_transform(df[dropout_cntsc]), columns = dropout_cntsc)\n",
    "standardized_datarv"
   ]
  },
  {
   "cell_type": "code",
   "execution_count": 49,
   "id": "4246448b",
   "metadata": {},
   "outputs": [
    {
     "data": {
      "image/png": "[encoded data removed]",
      "text/plain": [
       "<Figure size 864x288 with 2 Axes>"
      ]
     },
     "metadata": {
      "needs_background": "light"
     },
     "output_type": "display_data"
    }
   ],
   "source": [
    "# plotting histogram and boxplot side by side\n",
    "#plotting the normalized response variable\n",
    "for i in range(0,1):\n",
    "    figure, axis = plt.subplots(1, 2,figsize=(12,4))\n",
    "    a=standardized_datarv.iloc[:,i]\n",
    "    axis[0].hist(a, bins=20)\n",
    "    axis[0].set_title(standardized_datarv.columns[i])\n",
    "    axis[0].set_ylabel(\"Count\")\n",
    "    axis[1].boxplot(a)\n",
    "    axis[1].set_title(standardized_datarv.columns[i])\n",
    "    plt.show()"
   ]
  },
  {
   "cell_type": "markdown",
   "id": "803a9c9a",
   "metadata": {},
   "source": [
    "### Feature Selection / Dimensionality Reduction "
   ]
  },
  {
   "cell_type": "code",
   "execution_count": 50,
   "id": "fd1ef04b",
   "metadata": {},
   "outputs": [],
   "source": [
    "# importing required libraries\n",
    "from sklearn.decomposition import PCA\n",
    "from sklearn.svm import SVC\n",
    "from sklearn import model_selection"
   ]
  },
  {
   "cell_type": "code",
   "execution_count": 51,
   "id": "8d1356b1",
   "metadata": {},
   "outputs": [
    {
     "name": "stdout",
     "output_type": "stream",
     "text": [
      "[0.63585329 0.13247119 0.08653605 0.07145618 0.04304568 0.02446482\n",
      " 0.00498751 0.00118528]\n"
     ]
    },
    {
     "data": {
      "image/png": "[encoded data removed]",
      "text/plain": [
       "<Figure size 432x288 with 1 Axes>"
      ]
     },
     "metadata": {
      "needs_background": "light"
     },
     "output_type": "display_data"
    }
   ],
   "source": [
    "df0 = standardized_data[numericsc]\n",
    "df1 =standardized_datarv[dropout_cntsc]\n",
    "\n",
    "# assigning the explanatory and response variables \n",
    "X = df0\n",
    "y = df1\n",
    "\n",
    "# splitting the data into training + testing subsets \n",
    "X_train, X_test, y_train, y_test = model_selection.train_test_split(X, y, test_size=0.4, random_state=0)\n",
    "\n",
    "# create an instance of a PCA model\n",
    "pca = PCA()\n",
    "\n",
    "# apply the PCA function to the training data\n",
    "pca.fit(X_train)\n",
    "\n",
    "# display and plot the explained variance ratio for the principal components we've derived from the data\n",
    "print(pca.explained_variance_ratio_)\n",
    "plt.ylabel('Explained Variance %')\n",
    "plt.xlabel(' # of Attributes')\n",
    "plt.plot(100*pca.explained_variance_ratio_)\n",
    "plt.show()"
   ]
  },
  {
   "cell_type": "code",
   "execution_count": 52,
   "id": "14f3c41b",
   "metadata": {},
   "outputs": [
    {
     "name": "stdout",
     "output_type": "stream",
     "text": [
      "4 attributes required to explain 95% of total variance.\n"
     ]
    }
   ],
   "source": [
    "# calculating how many attributes required to explain 95% of total variance \n",
    "attributes = 0\n",
    "threshold = 0.95 #variance\n",
    "for i in range(len(pca.explained_variance_ratio_)):\n",
    "    attributes += pca.explained_variance_ratio_[i]\n",
    "    if attributes > threshold:\n",
    "        print(str(i) + ' attributes required to explain 95% of total variance.')\n",
    "        break"
   ]
  },
  {
   "cell_type": "markdown",
   "id": "119f11a0",
   "metadata": {},
   "source": [
    "#### we are not using only 4 attributes but total of 8 attributes from numerics dataframe for modeling "
   ]
  },
  {
   "cell_type": "markdown",
   "id": "dc454cf5",
   "metadata": {},
   "source": [
    "### Regression Model Construction & Evaluation"
   ]
  },
  {
   "cell_type": "markdown",
   "id": "c0976f18",
   "metadata": {},
   "source": [
    "##### 1. Linear regression models"
   ]
  },
  {
   "cell_type": "code",
   "execution_count": 53,
   "id": "0e47ff29",
   "metadata": {},
   "outputs": [
    {
     "data": {
      "text/html": [
       "<div>\n",
       "<style scoped>\n",
       "    .dataframe tbody tr th:only-of-type {\n",
       "        vertical-align: middle;\n",
       "    }\n",
       "\n",
       "    .dataframe tbody tr th {\n",
       "        vertical-align: top;\n",
       "    }\n",
       "\n",
       "    .dataframe thead th {\n",
       "        text-align: right;\n",
       "    }\n",
       "</style>\n",
       "<table border=\"1\" class=\"dataframe\">\n",
       "  <thead>\n",
       "    <tr style=\"text-align: right;\">\n",
       "      <th></th>\n",
       "      <th>enroll_cnt</th>\n",
       "      <th>grad_cnt</th>\n",
       "      <th>local_cnt</th>\n",
       "      <th>reg_cnt</th>\n",
       "      <th>reg_adv_cnt</th>\n",
       "      <th>non_diploma_credential_cnt</th>\n",
       "      <th>still_enr_cnt</th>\n",
       "      <th>ged_cnt</th>\n",
       "    </tr>\n",
       "  </thead>\n",
       "  <tbody>\n",
       "    <tr>\n",
       "      <th>0</th>\n",
       "      <td>1.556674</td>\n",
       "      <td>1.439241</td>\n",
       "      <td>1.795464</td>\n",
       "      <td>1.619218</td>\n",
       "      <td>0.961980</td>\n",
       "      <td>1.836021</td>\n",
       "      <td>1.554668</td>\n",
       "      <td>-0.588644</td>\n",
       "    </tr>\n",
       "    <tr>\n",
       "      <th>1</th>\n",
       "      <td>1.117188</td>\n",
       "      <td>1.017930</td>\n",
       "      <td>1.405988</td>\n",
       "      <td>1.239676</td>\n",
       "      <td>0.573121</td>\n",
       "      <td>1.030762</td>\n",
       "      <td>1.139663</td>\n",
       "      <td>-0.588644</td>\n",
       "    </tr>\n",
       "    <tr>\n",
       "      <th>2</th>\n",
       "      <td>1.136630</td>\n",
       "      <td>0.936731</td>\n",
       "      <td>1.459189</td>\n",
       "      <td>1.123600</td>\n",
       "      <td>0.534733</td>\n",
       "      <td>1.812644</td>\n",
       "      <td>1.383663</td>\n",
       "      <td>-0.588644</td>\n",
       "    </tr>\n",
       "    <tr>\n",
       "      <th>3</th>\n",
       "      <td>1.196556</td>\n",
       "      <td>1.023360</td>\n",
       "      <td>1.589608</td>\n",
       "      <td>1.290279</td>\n",
       "      <td>0.162589</td>\n",
       "      <td>1.740634</td>\n",
       "      <td>1.361486</td>\n",
       "      <td>-0.588644</td>\n",
       "    </tr>\n",
       "    <tr>\n",
       "      <th>4</th>\n",
       "      <td>0.309499</td>\n",
       "      <td>0.028792</td>\n",
       "      <td>0.899879</td>\n",
       "      <td>0.283271</td>\n",
       "      <td>-0.646965</td>\n",
       "      <td>1.419519</td>\n",
       "      <td>0.977049</td>\n",
       "      <td>-0.588644</td>\n",
       "    </tr>\n",
       "    <tr>\n",
       "      <th>...</th>\n",
       "      <td>...</td>\n",
       "      <td>...</td>\n",
       "      <td>...</td>\n",
       "      <td>...</td>\n",
       "      <td>...</td>\n",
       "      <td>...</td>\n",
       "      <td>...</td>\n",
       "      <td>...</td>\n",
       "    </tr>\n",
       "    <tr>\n",
       "      <th>39669</th>\n",
       "      <td>-0.430522</td>\n",
       "      <td>-0.560272</td>\n",
       "      <td>-0.377276</td>\n",
       "      <td>-0.198965</td>\n",
       "      <td>-0.880875</td>\n",
       "      <td>0.548158</td>\n",
       "      <td>-0.287742</td>\n",
       "      <td>-0.588644</td>\n",
       "    </tr>\n",
       "    <tr>\n",
       "      <th>39670</th>\n",
       "      <td>-0.212331</td>\n",
       "      <td>-0.180122</td>\n",
       "      <td>-0.104297</td>\n",
       "      <td>0.129165</td>\n",
       "      <td>-0.411761</td>\n",
       "      <td>-0.886937</td>\n",
       "      <td>-1.205229</td>\n",
       "      <td>-0.588644</td>\n",
       "    </tr>\n",
       "    <tr>\n",
       "      <th>39671</th>\n",
       "      <td>-1.231135</td>\n",
       "      <td>-2.197090</td>\n",
       "      <td>-1.596883</td>\n",
       "      <td>-1.730139</td>\n",
       "      <td>-1.670955</td>\n",
       "      <td>1.273374</td>\n",
       "      <td>0.136176</td>\n",
       "      <td>-0.588644</td>\n",
       "    </tr>\n",
       "    <tr>\n",
       "      <th>39672</th>\n",
       "      <td>-0.497330</td>\n",
       "      <td>-0.618733</td>\n",
       "      <td>-1.596883</td>\n",
       "      <td>-0.198965</td>\n",
       "      <td>-0.880875</td>\n",
       "      <td>1.273374</td>\n",
       "      <td>-1.205229</td>\n",
       "      <td>-0.588644</td>\n",
       "    </tr>\n",
       "    <tr>\n",
       "      <th>39673</th>\n",
       "      <td>-0.624445</td>\n",
       "      <td>-0.649886</td>\n",
       "      <td>-0.104297</td>\n",
       "      <td>-0.449733</td>\n",
       "      <td>-0.646965</td>\n",
       "      <td>-0.886937</td>\n",
       "      <td>0.136176</td>\n",
       "      <td>-0.588644</td>\n",
       "    </tr>\n",
       "  </tbody>\n",
       "</table>\n",
       "<p>39674 rows × 8 columns</p>\n",
       "</div>"
      ],
      "text/plain": [
       "       enroll_cnt  grad_cnt  local_cnt   reg_cnt  reg_adv_cnt  \\\n",
       "0        1.556674  1.439241   1.795464  1.619218     0.961980   \n",
       "1        1.117188  1.017930   1.405988  1.239676     0.573121   \n",
       "2        1.136630  0.936731   1.459189  1.123600     0.534733   \n",
       "3        1.196556  1.023360   1.589608  1.290279     0.162589   \n",
       "4        0.309499  0.028792   0.899879  0.283271    -0.646965   \n",
       "...           ...       ...        ...       ...          ...   \n",
       "39669   -0.430522 -0.560272  -0.377276 -0.198965    -0.880875   \n",
       "39670   -0.212331 -0.180122  -0.104297  0.129165    -0.411761   \n",
       "39671   -1.231135 -2.197090  -1.596883 -1.730139    -1.670955   \n",
       "39672   -0.497330 -0.618733  -1.596883 -0.198965    -0.880875   \n",
       "39673   -0.624445 -0.649886  -0.104297 -0.449733    -0.646965   \n",
       "\n",
       "       non_diploma_credential_cnt  still_enr_cnt   ged_cnt  \n",
       "0                        1.836021       1.554668 -0.588644  \n",
       "1                        1.030762       1.139663 -0.588644  \n",
       "2                        1.812644       1.383663 -0.588644  \n",
       "3                        1.740634       1.361486 -0.588644  \n",
       "4                        1.419519       0.977049 -0.588644  \n",
       "...                           ...            ...       ...  \n",
       "39669                    0.548158      -0.287742 -0.588644  \n",
       "39670                   -0.886937      -1.205229 -0.588644  \n",
       "39671                    1.273374       0.136176 -0.588644  \n",
       "39672                    1.273374      -1.205229 -0.588644  \n",
       "39673                   -0.886937       0.136176 -0.588644  \n",
       "\n",
       "[39674 rows x 8 columns]"
      ]
     },
     "execution_count": 53,
     "metadata": {},
     "output_type": "execute_result"
    }
   ],
   "source": [
    "X = standardized_data\n",
    "X"
   ]
  },
  {
   "cell_type": "code",
   "execution_count": 54,
   "id": "e066648c",
   "metadata": {},
   "outputs": [
    {
     "data": {
      "text/html": [
       "<div>\n",
       "<style scoped>\n",
       "    .dataframe tbody tr th:only-of-type {\n",
       "        vertical-align: middle;\n",
       "    }\n",
       "\n",
       "    .dataframe tbody tr th {\n",
       "        vertical-align: top;\n",
       "    }\n",
       "\n",
       "    .dataframe thead th {\n",
       "        text-align: right;\n",
       "    }\n",
       "</style>\n",
       "<table border=\"1\" class=\"dataframe\">\n",
       "  <thead>\n",
       "    <tr style=\"text-align: right;\">\n",
       "      <th></th>\n",
       "      <th>dropout_cnt</th>\n",
       "    </tr>\n",
       "  </thead>\n",
       "  <tbody>\n",
       "    <tr>\n",
       "      <th>0</th>\n",
       "      <td>1.952577</td>\n",
       "    </tr>\n",
       "    <tr>\n",
       "      <th>1</th>\n",
       "      <td>1.676750</td>\n",
       "    </tr>\n",
       "    <tr>\n",
       "      <th>2</th>\n",
       "      <td>1.765441</td>\n",
       "    </tr>\n",
       "    <tr>\n",
       "      <th>3</th>\n",
       "      <td>1.797294</td>\n",
       "    </tr>\n",
       "    <tr>\n",
       "      <th>4</th>\n",
       "      <td>1.322237</td>\n",
       "    </tr>\n",
       "    <tr>\n",
       "      <th>...</th>\n",
       "      <td>...</td>\n",
       "    </tr>\n",
       "    <tr>\n",
       "      <th>39669</th>\n",
       "      <td>0.715176</td>\n",
       "    </tr>\n",
       "    <tr>\n",
       "      <th>39670</th>\n",
       "      <td>0.349002</td>\n",
       "    </tr>\n",
       "    <tr>\n",
       "      <th>39671</th>\n",
       "      <td>0.465362</td>\n",
       "    </tr>\n",
       "    <tr>\n",
       "      <th>39672</th>\n",
       "      <td>0.561974</td>\n",
       "    </tr>\n",
       "    <tr>\n",
       "      <th>39673</th>\n",
       "      <td>0.204380</td>\n",
       "    </tr>\n",
       "  </tbody>\n",
       "</table>\n",
       "<p>39674 rows × 1 columns</p>\n",
       "</div>"
      ],
      "text/plain": [
       "       dropout_cnt\n",
       "0         1.952577\n",
       "1         1.676750\n",
       "2         1.765441\n",
       "3         1.797294\n",
       "4         1.322237\n",
       "...            ...\n",
       "39669     0.715176\n",
       "39670     0.349002\n",
       "39671     0.465362\n",
       "39672     0.561974\n",
       "39673     0.204380\n",
       "\n",
       "[39674 rows x 1 columns]"
      ]
     },
     "execution_count": 54,
     "metadata": {},
     "output_type": "execute_result"
    }
   ],
   "source": [
    "y = standardized_datarv\n",
    "y"
   ]
  },
  {
   "cell_type": "code",
   "execution_count": 55,
   "id": "bb0325c4",
   "metadata": {},
   "outputs": [],
   "source": [
    "# load the train_test_split function from the sklearn.model_selection module\n",
    "from sklearn.model_selection import train_test_split\n",
    "\n",
    "# Now split the data into training and testing subsets. \n",
    "# We'll set aside 30% of the data for testing purposes; \n",
    "# Rnadom state is kept to 12 to have the ability to reproduce the exact same training and testing subsets repeatedly\n",
    "X_train, X_test, y_train, y_test = train_test_split(X, y, test_size=0.3, random_state=12)"
   ]
  },
  {
   "cell_type": "code",
   "execution_count": 56,
   "id": "855cebc4",
   "metadata": {},
   "outputs": [
    {
     "data": {
      "text/plain": [
       "27771"
      ]
     },
     "execution_count": 56,
     "metadata": {},
     "output_type": "execute_result"
    }
   ],
   "source": [
    "len(X_train) #70% observations for training"
   ]
  },
  {
   "cell_type": "code",
   "execution_count": 57,
   "id": "3bc4de2e",
   "metadata": {},
   "outputs": [
    {
     "data": {
      "text/plain": [
       "11903"
      ]
     },
     "execution_count": 57,
     "metadata": {},
     "output_type": "execute_result"
    }
   ],
   "source": [
    "len(X_test) #30% observations for testing "
   ]
  },
  {
   "cell_type": "code",
   "execution_count": 58,
   "id": "576204f8",
   "metadata": {},
   "outputs": [
    {
     "data": {
      "text/html": [
       "<div>\n",
       "<style scoped>\n",
       "    .dataframe tbody tr th:only-of-type {\n",
       "        vertical-align: middle;\n",
       "    }\n",
       "\n",
       "    .dataframe tbody tr th {\n",
       "        vertical-align: top;\n",
       "    }\n",
       "\n",
       "    .dataframe thead th {\n",
       "        text-align: right;\n",
       "    }\n",
       "</style>\n",
       "<table border=\"1\" class=\"dataframe\">\n",
       "  <thead>\n",
       "    <tr style=\"text-align: right;\">\n",
       "      <th></th>\n",
       "      <th>dropout_cnt</th>\n",
       "    </tr>\n",
       "  </thead>\n",
       "  <tbody>\n",
       "    <tr>\n",
       "      <th>27565</th>\n",
       "      <td>0.349002</td>\n",
       "    </tr>\n",
       "    <tr>\n",
       "      <th>28080</th>\n",
       "      <td>0.016472</td>\n",
       "    </tr>\n",
       "    <tr>\n",
       "      <th>1616</th>\n",
       "      <td>-0.244745</td>\n",
       "    </tr>\n",
       "    <tr>\n",
       "      <th>25809</th>\n",
       "      <td>0.204380</td>\n",
       "    </tr>\n",
       "    <tr>\n",
       "      <th>7440</th>\n",
       "      <td>0.016472</td>\n",
       "    </tr>\n",
       "  </tbody>\n",
       "</table>\n",
       "</div>"
      ],
      "text/plain": [
       "       dropout_cnt\n",
       "27565     0.349002\n",
       "28080     0.016472\n",
       "1616     -0.244745\n",
       "25809     0.204380\n",
       "7440      0.016472"
      ]
     },
     "execution_count": 58,
     "metadata": {},
     "output_type": "execute_result"
    }
   ],
   "source": [
    "# checking the indices of the new objects\n",
    "y_test.head()"
   ]
  },
  {
   "cell_type": "code",
   "execution_count": 59,
   "id": "59e1b89f",
   "metadata": {},
   "outputs": [
    {
     "data": {
      "text/html": [
       "<div>\n",
       "<style scoped>\n",
       "    .dataframe tbody tr th:only-of-type {\n",
       "        vertical-align: middle;\n",
       "    }\n",
       "\n",
       "    .dataframe tbody tr th {\n",
       "        vertical-align: top;\n",
       "    }\n",
       "\n",
       "    .dataframe thead th {\n",
       "        text-align: right;\n",
       "    }\n",
       "</style>\n",
       "<table border=\"1\" class=\"dataframe\">\n",
       "  <thead>\n",
       "    <tr style=\"text-align: right;\">\n",
       "      <th></th>\n",
       "      <th>enroll_cnt</th>\n",
       "      <th>grad_cnt</th>\n",
       "      <th>local_cnt</th>\n",
       "      <th>reg_cnt</th>\n",
       "      <th>reg_adv_cnt</th>\n",
       "      <th>non_diploma_credential_cnt</th>\n",
       "      <th>still_enr_cnt</th>\n",
       "      <th>ged_cnt</th>\n",
       "    </tr>\n",
       "  </thead>\n",
       "  <tbody>\n",
       "    <tr>\n",
       "      <th>27565</th>\n",
       "      <td>0.523772</td>\n",
       "      <td>0.531240</td>\n",
       "      <td>0.095702</td>\n",
       "      <td>0.316788</td>\n",
       "      <td>0.839498</td>\n",
       "      <td>1.419519</td>\n",
       "      <td>0.576053</td>\n",
       "      <td>-0.588644</td>\n",
       "    </tr>\n",
       "    <tr>\n",
       "      <th>28080</th>\n",
       "      <td>0.181905</td>\n",
       "      <td>0.225604</td>\n",
       "      <td>-0.104297</td>\n",
       "      <td>-0.100994</td>\n",
       "      <td>0.620778</td>\n",
       "      <td>0.548158</td>\n",
       "      <td>-0.287742</td>\n",
       "      <td>-0.588644</td>\n",
       "    </tr>\n",
       "    <tr>\n",
       "      <th>1616</th>\n",
       "      <td>-1.619843</td>\n",
       "      <td>-1.798520</td>\n",
       "      <td>-0.793012</td>\n",
       "      <td>-1.491079</td>\n",
       "      <td>-1.670955</td>\n",
       "      <td>0.548158</td>\n",
       "      <td>-0.287742</td>\n",
       "      <td>-0.588644</td>\n",
       "    </tr>\n",
       "    <tr>\n",
       "      <th>25809</th>\n",
       "      <td>-0.331359</td>\n",
       "      <td>-0.344610</td>\n",
       "      <td>-0.377276</td>\n",
       "      <td>-0.042684</td>\n",
       "      <td>-0.480219</td>\n",
       "      <td>-0.886937</td>\n",
       "      <td>0.395586</td>\n",
       "      <td>-0.588644</td>\n",
       "    </tr>\n",
       "    <tr>\n",
       "      <th>7440</th>\n",
       "      <td>-0.430522</td>\n",
       "      <td>-0.456166</td>\n",
       "      <td>0.899879</td>\n",
       "      <td>-0.501851</td>\n",
       "      <td>-0.880875</td>\n",
       "      <td>0.548158</td>\n",
       "      <td>0.395586</td>\n",
       "      <td>-0.588644</td>\n",
       "    </tr>\n",
       "  </tbody>\n",
       "</table>\n",
       "</div>"
      ],
      "text/plain": [
       "       enroll_cnt  grad_cnt  local_cnt   reg_cnt  reg_adv_cnt  \\\n",
       "27565    0.523772  0.531240   0.095702  0.316788     0.839498   \n",
       "28080    0.181905  0.225604  -0.104297 -0.100994     0.620778   \n",
       "1616    -1.619843 -1.798520  -0.793012 -1.491079    -1.670955   \n",
       "25809   -0.331359 -0.344610  -0.377276 -0.042684    -0.480219   \n",
       "7440    -0.430522 -0.456166   0.899879 -0.501851    -0.880875   \n",
       "\n",
       "       non_diploma_credential_cnt  still_enr_cnt   ged_cnt  \n",
       "27565                    1.419519       0.576053 -0.588644  \n",
       "28080                    0.548158      -0.287742 -0.588644  \n",
       "1616                     0.548158      -0.287742 -0.588644  \n",
       "25809                   -0.886937       0.395586 -0.588644  \n",
       "7440                     0.548158       0.395586 -0.588644  "
      ]
     },
     "execution_count": 59,
     "metadata": {},
     "output_type": "execute_result"
    }
   ],
   "source": [
    "# checking the indices of the new objects\n",
    "X_test.head()"
   ]
  },
  {
   "cell_type": "code",
   "execution_count": 60,
   "id": "b97fe8cb",
   "metadata": {},
   "outputs": [
    {
     "data": {
      "text/html": [
       "<div>\n",
       "<style scoped>\n",
       "    .dataframe tbody tr th:only-of-type {\n",
       "        vertical-align: middle;\n",
       "    }\n",
       "\n",
       "    .dataframe tbody tr th {\n",
       "        vertical-align: top;\n",
       "    }\n",
       "\n",
       "    .dataframe thead th {\n",
       "        text-align: right;\n",
       "    }\n",
       "</style>\n",
       "<table border=\"1\" class=\"dataframe\">\n",
       "  <thead>\n",
       "    <tr style=\"text-align: right;\">\n",
       "      <th></th>\n",
       "      <th>enroll_cnt</th>\n",
       "      <th>grad_cnt</th>\n",
       "      <th>local_cnt</th>\n",
       "      <th>reg_cnt</th>\n",
       "      <th>reg_adv_cnt</th>\n",
       "      <th>non_diploma_credential_cnt</th>\n",
       "      <th>still_enr_cnt</th>\n",
       "      <th>ged_cnt</th>\n",
       "    </tr>\n",
       "  </thead>\n",
       "  <tbody>\n",
       "    <tr>\n",
       "      <th>9304</th>\n",
       "      <td>-0.181720</td>\n",
       "      <td>-0.117928</td>\n",
       "      <td>-0.793012</td>\n",
       "      <td>-0.198965</td>\n",
       "      <td>0.232076</td>\n",
       "      <td>-0.886937</td>\n",
       "      <td>0.395586</td>\n",
       "      <td>-0.588644</td>\n",
       "    </tr>\n",
       "    <tr>\n",
       "      <th>6022</th>\n",
       "      <td>1.542812</td>\n",
       "      <td>1.597574</td>\n",
       "      <td>1.169226</td>\n",
       "      <td>1.391992</td>\n",
       "      <td>1.783571</td>\n",
       "      <td>1.419519</td>\n",
       "      <td>0.977049</td>\n",
       "      <td>-0.588644</td>\n",
       "    </tr>\n",
       "    <tr>\n",
       "      <th>17255</th>\n",
       "      <td>1.762418</td>\n",
       "      <td>1.682077</td>\n",
       "      <td>2.023242</td>\n",
       "      <td>1.951746</td>\n",
       "      <td>0.350720</td>\n",
       "      <td>1.881906</td>\n",
       "      <td>1.648242</td>\n",
       "      <td>1.914182</td>\n",
       "    </tr>\n",
       "    <tr>\n",
       "      <th>23819</th>\n",
       "      <td>-1.726201</td>\n",
       "      <td>-1.438117</td>\n",
       "      <td>-1.596883</td>\n",
       "      <td>-1.308779</td>\n",
       "      <td>-0.880875</td>\n",
       "      <td>-0.886937</td>\n",
       "      <td>-1.205229</td>\n",
       "      <td>-0.588644</td>\n",
       "    </tr>\n",
       "    <tr>\n",
       "      <th>25727</th>\n",
       "      <td>-0.010131</td>\n",
       "      <td>-0.060884</td>\n",
       "      <td>0.847962</td>\n",
       "      <td>0.210669</td>\n",
       "      <td>-0.880875</td>\n",
       "      <td>1.419519</td>\n",
       "      <td>0.711312</td>\n",
       "      <td>-0.588644</td>\n",
       "    </tr>\n",
       "  </tbody>\n",
       "</table>\n",
       "</div>"
      ],
      "text/plain": [
       "       enroll_cnt  grad_cnt  local_cnt   reg_cnt  reg_adv_cnt  \\\n",
       "9304    -0.181720 -0.117928  -0.793012 -0.198965     0.232076   \n",
       "6022     1.542812  1.597574   1.169226  1.391992     1.783571   \n",
       "17255    1.762418  1.682077   2.023242  1.951746     0.350720   \n",
       "23819   -1.726201 -1.438117  -1.596883 -1.308779    -0.880875   \n",
       "25727   -0.010131 -0.060884   0.847962  0.210669    -0.880875   \n",
       "\n",
       "       non_diploma_credential_cnt  still_enr_cnt   ged_cnt  \n",
       "9304                    -0.886937       0.395586 -0.588644  \n",
       "6022                     1.419519       0.977049 -0.588644  \n",
       "17255                    1.881906       1.648242  1.914182  \n",
       "23819                   -0.886937      -1.205229 -0.588644  \n",
       "25727                    1.419519       0.711312 -0.588644  "
      ]
     },
     "execution_count": 60,
     "metadata": {},
     "output_type": "execute_result"
    }
   ],
   "source": [
    "X_train.head()"
   ]
  },
  {
   "cell_type": "code",
   "execution_count": 61,
   "id": "b8f75428",
   "metadata": {},
   "outputs": [
    {
     "data": {
      "text/html": [
       "<div>\n",
       "<style scoped>\n",
       "    .dataframe tbody tr th:only-of-type {\n",
       "        vertical-align: middle;\n",
       "    }\n",
       "\n",
       "    .dataframe tbody tr th {\n",
       "        vertical-align: top;\n",
       "    }\n",
       "\n",
       "    .dataframe thead th {\n",
       "        text-align: right;\n",
       "    }\n",
       "</style>\n",
       "<table border=\"1\" class=\"dataframe\">\n",
       "  <thead>\n",
       "    <tr style=\"text-align: right;\">\n",
       "      <th></th>\n",
       "      <th>dropout_cnt</th>\n",
       "    </tr>\n",
       "  </thead>\n",
       "  <tbody>\n",
       "    <tr>\n",
       "      <th>9304</th>\n",
       "      <td>-1.473244</td>\n",
       "    </tr>\n",
       "    <tr>\n",
       "      <th>6022</th>\n",
       "      <td>1.482036</td>\n",
       "    </tr>\n",
       "    <tr>\n",
       "      <th>17255</th>\n",
       "      <td>2.024350</td>\n",
       "    </tr>\n",
       "    <tr>\n",
       "      <th>23819</th>\n",
       "      <td>-1.473244</td>\n",
       "    </tr>\n",
       "    <tr>\n",
       "      <th>25727</th>\n",
       "      <td>0.016472</td>\n",
       "    </tr>\n",
       "  </tbody>\n",
       "</table>\n",
       "</div>"
      ],
      "text/plain": [
       "       dropout_cnt\n",
       "9304     -1.473244\n",
       "6022      1.482036\n",
       "17255     2.024350\n",
       "23819    -1.473244\n",
       "25727     0.016472"
      ]
     },
     "execution_count": 61,
     "metadata": {},
     "output_type": "execute_result"
    }
   ],
   "source": [
    "y_train.head()"
   ]
  },
  {
   "cell_type": "code",
   "execution_count": 62,
   "id": "ca276116",
   "metadata": {},
   "outputs": [],
   "source": [
    "# load the LinearRegression() function from sklearn's 'linear_model' sub-library\n",
    "from sklearn.linear_model import LinearRegression\n",
    "\n",
    "# load the cross_val_score function from the sklearn.model_selection module\n",
    "from sklearn.model_selection import cross_val_score"
   ]
  },
  {
   "cell_type": "markdown",
   "id": "742d039f",
   "metadata": {},
   "source": [
    "1st multiple linear regression model"
   ]
  },
  {
   "cell_type": "code",
   "execution_count": 63,
   "id": "dda6895b",
   "metadata": {},
   "outputs": [
    {
     "data": {
      "text/html": [
       "<div>\n",
       "<style scoped>\n",
       "    .dataframe tbody tr th:only-of-type {\n",
       "        vertical-align: middle;\n",
       "    }\n",
       "\n",
       "    .dataframe tbody tr th {\n",
       "        vertical-align: top;\n",
       "    }\n",
       "\n",
       "    .dataframe thead th {\n",
       "        text-align: right;\n",
       "    }\n",
       "</style>\n",
       "<table border=\"1\" class=\"dataframe\">\n",
       "  <thead>\n",
       "    <tr style=\"text-align: right;\">\n",
       "      <th></th>\n",
       "      <th>enroll_cnt</th>\n",
       "      <th>local_cnt</th>\n",
       "      <th>reg_cnt</th>\n",
       "      <th>grad_cnt</th>\n",
       "    </tr>\n",
       "  </thead>\n",
       "  <tbody>\n",
       "    <tr>\n",
       "      <th>9304</th>\n",
       "      <td>-0.181720</td>\n",
       "      <td>-0.793012</td>\n",
       "      <td>-0.198965</td>\n",
       "      <td>-0.117928</td>\n",
       "    </tr>\n",
       "    <tr>\n",
       "      <th>6022</th>\n",
       "      <td>1.542812</td>\n",
       "      <td>1.169226</td>\n",
       "      <td>1.391992</td>\n",
       "      <td>1.597574</td>\n",
       "    </tr>\n",
       "    <tr>\n",
       "      <th>17255</th>\n",
       "      <td>1.762418</td>\n",
       "      <td>2.023242</td>\n",
       "      <td>1.951746</td>\n",
       "      <td>1.682077</td>\n",
       "    </tr>\n",
       "    <tr>\n",
       "      <th>23819</th>\n",
       "      <td>-1.726201</td>\n",
       "      <td>-1.596883</td>\n",
       "      <td>-1.308779</td>\n",
       "      <td>-1.438117</td>\n",
       "    </tr>\n",
       "    <tr>\n",
       "      <th>25727</th>\n",
       "      <td>-0.010131</td>\n",
       "      <td>0.847962</td>\n",
       "      <td>0.210669</td>\n",
       "      <td>-0.060884</td>\n",
       "    </tr>\n",
       "  </tbody>\n",
       "</table>\n",
       "</div>"
      ],
      "text/plain": [
       "       enroll_cnt  local_cnt   reg_cnt  grad_cnt\n",
       "9304    -0.181720  -0.793012 -0.198965 -0.117928\n",
       "6022     1.542812   1.169226  1.391992  1.597574\n",
       "17255    1.762418   2.023242  1.951746  1.682077\n",
       "23819   -1.726201  -1.596883 -1.308779 -1.438117\n",
       "25727   -0.010131   0.847962  0.210669 -0.060884"
      ]
     },
     "execution_count": 63,
     "metadata": {},
     "output_type": "execute_result"
    }
   ],
   "source": [
    "# create a new dataframe containing only selected explanatory variables\n",
    "newX_train = X_train[['enroll_cnt','local_cnt','reg_cnt','grad_cnt']].copy()\n",
    "\n",
    "# sanity check\n",
    "newX_train.head()"
   ]
  },
  {
   "cell_type": "code",
   "execution_count": 64,
   "id": "d7379a92",
   "metadata": {},
   "outputs": [
    {
     "name": "stdout",
     "output_type": "stream",
     "text": [
      "[0.67809464 0.65888331 0.65511703 0.65656209 0.66058692]\n"
     ]
    }
   ],
   "source": [
    "model = LinearRegression() #parameter for cross validation model\n",
    "\n",
    "# fit the model using 5-fold cross validation \n",
    "\n",
    "scores = cross_val_score(model, newX_train, y_train, cv=5)\n",
    "\n",
    "# printing the R^2 metrics derived from the K-fold cross validation of this linear regression model\n",
    "print (scores)"
   ]
  },
  {
   "cell_type": "code",
   "execution_count": 65,
   "id": "2b120e8f",
   "metadata": {},
   "outputs": [
    {
     "data": {
      "text/plain": [
       "0.6618487979328193"
      ]
     },
     "execution_count": 65,
     "metadata": {},
     "output_type": "execute_result"
    }
   ],
   "source": [
    "# calculating the average R^2 across all 5 folds\n",
    "np.mean(scores)"
   ]
  },
  {
   "cell_type": "markdown",
   "id": "2ff97c80",
   "metadata": {},
   "source": [
    "1st model has 66.2% accuracy"
   ]
  },
  {
   "cell_type": "markdown",
   "id": "ae4fdc3d",
   "metadata": {},
   "source": [
    " 2nd model "
   ]
  },
  {
   "cell_type": "code",
   "execution_count": 66,
   "id": "995a9b81",
   "metadata": {},
   "outputs": [
    {
     "data": {
      "text/html": [
       "<div>\n",
       "<style scoped>\n",
       "    .dataframe tbody tr th:only-of-type {\n",
       "        vertical-align: middle;\n",
       "    }\n",
       "\n",
       "    .dataframe tbody tr th {\n",
       "        vertical-align: top;\n",
       "    }\n",
       "\n",
       "    .dataframe thead th {\n",
       "        text-align: right;\n",
       "    }\n",
       "</style>\n",
       "<table border=\"1\" class=\"dataframe\">\n",
       "  <thead>\n",
       "    <tr style=\"text-align: right;\">\n",
       "      <th></th>\n",
       "      <th>local_cnt</th>\n",
       "      <th>reg_cnt</th>\n",
       "      <th>grad_cnt</th>\n",
       "      <th>ged_cnt</th>\n",
       "    </tr>\n",
       "  </thead>\n",
       "  <tbody>\n",
       "    <tr>\n",
       "      <th>9304</th>\n",
       "      <td>-0.793012</td>\n",
       "      <td>-0.198965</td>\n",
       "      <td>-0.117928</td>\n",
       "      <td>-0.588644</td>\n",
       "    </tr>\n",
       "    <tr>\n",
       "      <th>6022</th>\n",
       "      <td>1.169226</td>\n",
       "      <td>1.391992</td>\n",
       "      <td>1.597574</td>\n",
       "      <td>-0.588644</td>\n",
       "    </tr>\n",
       "    <tr>\n",
       "      <th>17255</th>\n",
       "      <td>2.023242</td>\n",
       "      <td>1.951746</td>\n",
       "      <td>1.682077</td>\n",
       "      <td>1.914182</td>\n",
       "    </tr>\n",
       "    <tr>\n",
       "      <th>23819</th>\n",
       "      <td>-1.596883</td>\n",
       "      <td>-1.308779</td>\n",
       "      <td>-1.438117</td>\n",
       "      <td>-0.588644</td>\n",
       "    </tr>\n",
       "    <tr>\n",
       "      <th>25727</th>\n",
       "      <td>0.847962</td>\n",
       "      <td>0.210669</td>\n",
       "      <td>-0.060884</td>\n",
       "      <td>-0.588644</td>\n",
       "    </tr>\n",
       "  </tbody>\n",
       "</table>\n",
       "</div>"
      ],
      "text/plain": [
       "       local_cnt   reg_cnt  grad_cnt   ged_cnt\n",
       "9304   -0.793012 -0.198965 -0.117928 -0.588644\n",
       "6022    1.169226  1.391992  1.597574 -0.588644\n",
       "17255   2.023242  1.951746  1.682077  1.914182\n",
       "23819  -1.596883 -1.308779 -1.438117 -0.588644\n",
       "25727   0.847962  0.210669 -0.060884 -0.588644"
      ]
     },
     "execution_count": 66,
     "metadata": {},
     "output_type": "execute_result"
    }
   ],
   "source": [
    "newX_train1 = X_train[['local_cnt', 'reg_cnt', 'grad_cnt', 'ged_cnt']].copy()\n",
    "\n",
    "# sanity check\n",
    "newX_train1.head()"
   ]
  },
  {
   "cell_type": "code",
   "execution_count": 67,
   "id": "437308f3",
   "metadata": {},
   "outputs": [
    {
     "name": "stdout",
     "output_type": "stream",
     "text": [
      "[0.57015696 0.57572871 0.56880234 0.56003222 0.57403506]\n"
     ]
    }
   ],
   "source": [
    "model1 = LinearRegression()\n",
    "\n",
    "scores1 = cross_val_score(model1, newX_train1, y_train, cv=5)\n",
    "\n",
    "# printing the R^2 metrics derived from the K-fold cross validation of our linear regression model\n",
    "print (scores1)"
   ]
  },
  {
   "cell_type": "code",
   "execution_count": 68,
   "id": "93deb96e",
   "metadata": {},
   "outputs": [
    {
     "data": {
      "text/plain": [
       "0.5697510586363552"
      ]
     },
     "execution_count": 68,
     "metadata": {},
     "output_type": "execute_result"
    }
   ],
   "source": [
    "# calculating the average R^2 across all 5 folds\n",
    "np.mean(scores1)"
   ]
  },
  {
   "cell_type": "markdown",
   "id": "6ff633cc",
   "metadata": {},
   "source": [
    "2nd model as accuracy of 57%"
   ]
  },
  {
   "cell_type": "markdown",
   "id": "65f63a32",
   "metadata": {},
   "source": [
    "#### Poisson and negative binomial models"
   ]
  },
  {
   "cell_type": "code",
   "execution_count": 69,
   "id": "edbc6c6a",
   "metadata": {},
   "outputs": [],
   "source": [
    "#importing required libraries\n",
    "import statsmodels.api as sm\n",
    "import statsmodels.formula.api as smf\n",
    "from statsmodels.formula.api import glm\n",
    "from patsy import dmatrices\n",
    "from sklearn.metrics import mean_squared_error\n",
    "from sklearn.metrics import r2_score\n",
    "from math import sqrt"
   ]
  },
  {
   "cell_type": "code",
   "execution_count": 70,
   "id": "e5fdf0ef",
   "metadata": {},
   "outputs": [
    {
     "data": {
      "text/html": [
       "<div>\n",
       "<style scoped>\n",
       "    .dataframe tbody tr th:only-of-type {\n",
       "        vertical-align: middle;\n",
       "    }\n",
       "\n",
       "    .dataframe tbody tr th {\n",
       "        vertical-align: top;\n",
       "    }\n",
       "\n",
       "    .dataframe thead th {\n",
       "        text-align: right;\n",
       "    }\n",
       "</style>\n",
       "<table border=\"1\" class=\"dataframe\">\n",
       "  <thead>\n",
       "    <tr style=\"text-align: right;\">\n",
       "      <th></th>\n",
       "      <th>enroll_cnt</th>\n",
       "      <th>grad_cnt</th>\n",
       "      <th>local_cnt</th>\n",
       "      <th>reg_cnt</th>\n",
       "      <th>reg_adv_cnt</th>\n",
       "      <th>non_diploma_credential_cnt</th>\n",
       "      <th>still_enr_cnt</th>\n",
       "      <th>ged_cnt</th>\n",
       "      <th>dropout_cnt</th>\n",
       "    </tr>\n",
       "  </thead>\n",
       "  <tbody>\n",
       "    <tr>\n",
       "      <th>0</th>\n",
       "      <td>658</td>\n",
       "      <td>464</td>\n",
       "      <td>63</td>\n",
       "      <td>310</td>\n",
       "      <td>91</td>\n",
       "      <td>16</td>\n",
       "      <td>30</td>\n",
       "      <td>0</td>\n",
       "      <td>148</td>\n",
       "    </tr>\n",
       "    <tr>\n",
       "      <th>1</th>\n",
       "      <td>324</td>\n",
       "      <td>246</td>\n",
       "      <td>30</td>\n",
       "      <td>169</td>\n",
       "      <td>47</td>\n",
       "      <td>2</td>\n",
       "      <td>11</td>\n",
       "      <td>0</td>\n",
       "      <td>65</td>\n",
       "    </tr>\n",
       "    <tr>\n",
       "      <th>2</th>\n",
       "      <td>334</td>\n",
       "      <td>218</td>\n",
       "      <td>33</td>\n",
       "      <td>141</td>\n",
       "      <td>44</td>\n",
       "      <td>14</td>\n",
       "      <td>19</td>\n",
       "      <td>0</td>\n",
       "      <td>83</td>\n",
       "    </tr>\n",
       "    <tr>\n",
       "      <th>3</th>\n",
       "      <td>367</td>\n",
       "      <td>248</td>\n",
       "      <td>42</td>\n",
       "      <td>183</td>\n",
       "      <td>23</td>\n",
       "      <td>10</td>\n",
       "      <td>18</td>\n",
       "      <td>0</td>\n",
       "      <td>91</td>\n",
       "    </tr>\n",
       "    <tr>\n",
       "      <th>4</th>\n",
       "      <td>98</td>\n",
       "      <td>58</td>\n",
       "      <td>13</td>\n",
       "      <td>40</td>\n",
       "      <td>5</td>\n",
       "      <td>4</td>\n",
       "      <td>8</td>\n",
       "      <td>0</td>\n",
       "      <td>28</td>\n",
       "    </tr>\n",
       "    <tr>\n",
       "      <th>...</th>\n",
       "      <td>...</td>\n",
       "      <td>...</td>\n",
       "      <td>...</td>\n",
       "      <td>...</td>\n",
       "      <td>...</td>\n",
       "      <td>...</td>\n",
       "      <td>...</td>\n",
       "      <td>...</td>\n",
       "      <td>...</td>\n",
       "    </tr>\n",
       "    <tr>\n",
       "      <th>39669</th>\n",
       "      <td>36</td>\n",
       "      <td>25</td>\n",
       "      <td>2</td>\n",
       "      <td>20</td>\n",
       "      <td>3</td>\n",
       "      <td>1</td>\n",
       "      <td>1</td>\n",
       "      <td>0</td>\n",
       "      <td>9</td>\n",
       "    </tr>\n",
       "    <tr>\n",
       "      <th>39670</th>\n",
       "      <td>48</td>\n",
       "      <td>43</td>\n",
       "      <td>3</td>\n",
       "      <td>32</td>\n",
       "      <td>8</td>\n",
       "      <td>0</td>\n",
       "      <td>0</td>\n",
       "      <td>0</td>\n",
       "      <td>5</td>\n",
       "    </tr>\n",
       "    <tr>\n",
       "      <th>39671</th>\n",
       "      <td>13</td>\n",
       "      <td>2</td>\n",
       "      <td>0</td>\n",
       "      <td>2</td>\n",
       "      <td>0</td>\n",
       "      <td>3</td>\n",
       "      <td>2</td>\n",
       "      <td>0</td>\n",
       "      <td>6</td>\n",
       "    </tr>\n",
       "    <tr>\n",
       "      <th>39672</th>\n",
       "      <td>33</td>\n",
       "      <td>23</td>\n",
       "      <td>0</td>\n",
       "      <td>20</td>\n",
       "      <td>3</td>\n",
       "      <td>3</td>\n",
       "      <td>0</td>\n",
       "      <td>0</td>\n",
       "      <td>7</td>\n",
       "    </tr>\n",
       "    <tr>\n",
       "      <th>39673</th>\n",
       "      <td>28</td>\n",
       "      <td>22</td>\n",
       "      <td>3</td>\n",
       "      <td>14</td>\n",
       "      <td>5</td>\n",
       "      <td>0</td>\n",
       "      <td>2</td>\n",
       "      <td>0</td>\n",
       "      <td>4</td>\n",
       "    </tr>\n",
       "  </tbody>\n",
       "</table>\n",
       "<p>39674 rows × 9 columns</p>\n",
       "</div>"
      ],
      "text/plain": [
       "       enroll_cnt  grad_cnt  local_cnt  reg_cnt  reg_adv_cnt  \\\n",
       "0             658       464         63      310           91   \n",
       "1             324       246         30      169           47   \n",
       "2             334       218         33      141           44   \n",
       "3             367       248         42      183           23   \n",
       "4              98        58         13       40            5   \n",
       "...           ...       ...        ...      ...          ...   \n",
       "39669          36        25          2       20            3   \n",
       "39670          48        43          3       32            8   \n",
       "39671          13         2          0        2            0   \n",
       "39672          33        23          0       20            3   \n",
       "39673          28        22          3       14            5   \n",
       "\n",
       "       non_diploma_credential_cnt  still_enr_cnt  ged_cnt  dropout_cnt  \n",
       "0                              16             30        0          148  \n",
       "1                               2             11        0           65  \n",
       "2                              14             19        0           83  \n",
       "3                              10             18        0           91  \n",
       "4                               4              8        0           28  \n",
       "...                           ...            ...      ...          ...  \n",
       "39669                           1              1        0            9  \n",
       "39670                           0              0        0            5  \n",
       "39671                           3              2        0            6  \n",
       "39672                           3              0        0            7  \n",
       "39673                           0              2        0            4  \n",
       "\n",
       "[39674 rows x 9 columns]"
      ]
     },
     "execution_count": 70,
     "metadata": {},
     "output_type": "execute_result"
    }
   ],
   "source": [
    "#new dataframe with the numerical columns(count variables) and response variable \n",
    "new_df = df[['enroll_cnt', 'grad_cnt','local_cnt','reg_cnt', 'reg_adv_cnt', 'non_diploma_credential_cnt','still_enr_cnt' , 'ged_cnt', 'dropout_cnt']].copy()\n",
    "new_df"
   ]
  },
  {
   "cell_type": "code",
   "execution_count": 71,
   "id": "7847ac1e",
   "metadata": {},
   "outputs": [
    {
     "name": "stdout",
     "output_type": "stream",
     "text": [
      "Training data set length=31726\n",
      "Testing data set length=7948\n"
     ]
    }
   ],
   "source": [
    "#create the training and testing data sets\n",
    "mask = np.random.rand(len(new_df)) < 0.8\n",
    "df_train = new_df[mask]\n",
    "df_test = new_df[~mask]\n",
    "print('Training data set length='+str(len(df_train)))\n",
    "print('Testing data set length='+str(len(df_test)))"
   ]
  },
  {
   "cell_type": "code",
   "execution_count": 72,
   "id": "11da9f0d",
   "metadata": {},
   "outputs": [],
   "source": [
    "#Setup the regression expression in patsy notation. \n",
    "#We are telling patsy that dropout_cnt is our dependent variable and it depends on the regression variables: enroll_cnt , local_cnt , reg_cnt , grad_cnt\n",
    "expr = \"\"\" dropout_cnt ~  enroll_cnt + local_cnt + reg_cnt + grad_cnt \"\"\""
   ]
  },
  {
   "cell_type": "code",
   "execution_count": 73,
   "id": "8aa3abc0",
   "metadata": {},
   "outputs": [],
   "source": [
    "#Set up the X and y matrices for the training and testing data sets\n",
    "y_train1, X_train1 = dmatrices(expr, df_train, return_type = 'dataframe')\n",
    "y_test1, X_test1 = dmatrices(expr, df_test, return_type = 'dataframe')"
   ]
  },
  {
   "cell_type": "markdown",
   "id": "c12ef5ef",
   "metadata": {},
   "source": [
    "#### Poisson model"
   ]
  },
  {
   "cell_type": "code",
   "execution_count": 74,
   "id": "a29aee32",
   "metadata": {},
   "outputs": [],
   "source": [
    "#Using the statsmodels GLM class for training the Poisson regression model on the training data set\n",
    "poisson_training_results = sm.GLM(y_train1, X_train1, family=sm.families.Poisson()).fit()"
   ]
  },
  {
   "cell_type": "code",
   "execution_count": 75,
   "id": "3aed37ef",
   "metadata": {},
   "outputs": [
    {
     "name": "stdout",
     "output_type": "stream",
     "text": [
      "                 Generalized Linear Model Regression Results                  \n",
      "==============================================================================\n",
      "Dep. Variable:            dropout_cnt   No. Observations:                31726\n",
      "Model:                            GLM   Df Residuals:                    31721\n",
      "Model Family:                 Poisson   Df Model:                            4\n",
      "Link Function:                    log   Scale:                          1.0000\n",
      "Method:                          IRLS   Log-Likelihood:            -4.0786e+05\n",
      "Date:                Sun, 26 Feb 2023   Deviance:                   7.2338e+05\n",
      "Time:                        21:49:55   Pearson chi2:                 1.12e+06\n",
      "No. Iterations:                     9                                         \n",
      "Covariance Type:            nonrobust                                         \n",
      "==============================================================================\n",
      "                 coef    std err          z      P>|z|      [0.025      0.975]\n",
      "------------------------------------------------------------------------------\n",
      "Intercept      2.3667      0.002   1404.687      0.000       2.363       2.370\n",
      "enroll_cnt     0.0028   1.11e-05    248.181      0.000       0.003       0.003\n",
      "local_cnt      0.0082   2.52e-05    324.009      0.000       0.008       0.008\n",
      "reg_cnt        0.0032   1.69e-05    191.506      0.000       0.003       0.003\n",
      "grad_cnt      -0.0052   1.41e-05   -367.896      0.000      -0.005      -0.005\n",
      "==============================================================================\n"
     ]
    }
   ],
   "source": [
    "#print out the training summary\n",
    "print(poisson_training_results.summary())"
   ]
  },
  {
   "cell_type": "code",
   "execution_count": 76,
   "id": "43dcc4a1",
   "metadata": {},
   "outputs": [
    {
     "name": "stdout",
     "output_type": "stream",
     "text": [
      "[27.07794775 16.11155557 17.91878347 ... 11.00790893 11.06027013\n",
      " 11.02201635]\n"
     ]
    }
   ],
   "source": [
    "#print out the fitted rate vector\n",
    "print(poisson_training_results.mu)"
   ]
  },
  {
   "cell_type": "code",
   "execution_count": 77,
   "id": "b7cb3c50",
   "metadata": {},
   "outputs": [
    {
     "name": "stderr",
     "output_type": "stream",
     "text": [
      "<ipython-input-77-6860e5c3b4a4>:2: SettingWithCopyWarning: \n",
      "A value is trying to be set on a copy of a slice from a DataFrame.\n",
      "Try using .loc[row_indexer,col_indexer] = value instead\n",
      "\n",
      "See the caveats in the documentation: https://pandas.pydata.org/pandas-docs/stable/user_guide/indexing.html#returning-a-view-versus-a-copy\n",
      "  df_train['BB_LAMBDA'] = poisson_training_results.mu\n"
     ]
    }
   ],
   "source": [
    "#Add the λ vector as a new column called 'BB_LAMBDA' to the Data Frame of the training data set\n",
    "df_train['BB_LAMBDA'] = poisson_training_results.mu"
   ]
  },
  {
   "cell_type": "code",
   "execution_count": 78,
   "id": "2ba540af",
   "metadata": {},
   "outputs": [
    {
     "name": "stderr",
     "output_type": "stream",
     "text": [
      "<ipython-input-78-c53502e0c316>:2: SettingWithCopyWarning: \n",
      "A value is trying to be set on a copy of a slice from a DataFrame.\n",
      "Try using .loc[row_indexer,col_indexer] = value instead\n",
      "\n",
      "See the caveats in the documentation: https://pandas.pydata.org/pandas-docs/stable/user_guide/indexing.html#returning-a-view-versus-a-copy\n",
      "  df_train['AUX_OLS_DEP'] = df_train.apply(lambda x: ((x['dropout_cnt'] - x['BB_LAMBDA'])**2 - x['BB_LAMBDA']) / x['BB_LAMBDA'], axis=1)\n"
     ]
    }
   ],
   "source": [
    "#add a derived column called 'AUX_OLS_DEP' to the pandas Data Frame. This new column will store the values of the dependent variable of the OLS regression\n",
    "df_train['AUX_OLS_DEP'] = df_train.apply(lambda x: ((x['dropout_cnt'] - x['BB_LAMBDA'])**2 - x['BB_LAMBDA']) / x['BB_LAMBDA'], axis=1)"
   ]
  },
  {
   "cell_type": "code",
   "execution_count": 79,
   "id": "8f33f89b",
   "metadata": {},
   "outputs": [],
   "source": [
    "#use patsy to form the model specification for the OLSR\n",
    "ols_expr = \"\"\"AUX_OLS_DEP ~ BB_LAMBDA - 1\"\"\"\n",
    "\n",
    "#Configure and fit the OLSR model\n",
    "aux_olsr_results = smf.ols(ols_expr, df_train).fit()"
   ]
  },
  {
   "cell_type": "code",
   "execution_count": 80,
   "id": "666ae83e",
   "metadata": {},
   "outputs": [
    {
     "name": "stdout",
     "output_type": "stream",
     "text": [
      "BB_LAMBDA    0.65902\n",
      "dtype: float64\n"
     ]
    }
   ],
   "source": [
    "#Print the regression params\n",
    "print(aux_olsr_results.params)"
   ]
  },
  {
   "cell_type": "markdown",
   "id": "64231486",
   "metadata": {},
   "source": [
    "#### Negative binomial model "
   ]
  },
  {
   "cell_type": "code",
   "execution_count": 81,
   "id": "1ec376c0",
   "metadata": {},
   "outputs": [],
   "source": [
    "#train the Negative binomial model on the training data set\n",
    "nb2_training_results = sm.GLM(y_train1, X_train1,family=sm.families.NegativeBinomial(alpha=aux_olsr_results.params[0])).fit()"
   ]
  },
  {
   "cell_type": "code",
   "execution_count": 82,
   "id": "ff06ab1a",
   "metadata": {},
   "outputs": [
    {
     "name": "stdout",
     "output_type": "stream",
     "text": [
      "                 Generalized Linear Model Regression Results                  \n",
      "==============================================================================\n",
      "Dep. Variable:            dropout_cnt   No. Observations:                31726\n",
      "Model:                            GLM   Df Residuals:                    31721\n",
      "Model Family:        NegativeBinomial   Df Model:                            4\n",
      "Link Function:                    log   Scale:                          1.0000\n",
      "Method:                          IRLS   Log-Likelihood:                -94638.\n",
      "Date:                Sun, 26 Feb 2023   Deviance:                       52213.\n",
      "Time:                        21:50:14   Pearson chi2:                 4.19e+04\n",
      "No. Iterations:                    57                                         \n",
      "Covariance Type:            nonrobust                                         \n",
      "==============================================================================\n",
      "                 coef    std err          z      P>|z|      [0.025      0.975]\n",
      "------------------------------------------------------------------------------\n",
      "Intercept      1.2944      0.006    220.891      0.000       1.283       1.306\n",
      "enroll_cnt     0.0150      0.000    107.335      0.000       0.015       0.015\n",
      "local_cnt      0.0039      0.000     12.656      0.000       0.003       0.005\n",
      "reg_cnt       -0.0013      0.000    -12.044      0.000      -0.001      -0.001\n",
      "grad_cnt      -0.0140      0.000   -101.728      0.000      -0.014      -0.014\n",
      "==============================================================================\n"
     ]
    }
   ],
   "source": [
    "#print the training summary\n",
    "print(nb2_training_results.summary())"
   ]
  },
  {
   "cell_type": "code",
   "execution_count": 83,
   "id": "46df44fe",
   "metadata": {},
   "outputs": [],
   "source": [
    "#make some predictions using our trained NB2 model\n",
    "nb2_predictions = nb2_training_results.get_prediction(X_test1)"
   ]
  },
  {
   "cell_type": "code",
   "execution_count": 84,
   "id": "988d80d9",
   "metadata": {},
   "outputs": [
    {
     "name": "stdout",
     "output_type": "stream",
     "text": [
      "            mean   mean_se  mean_ci_lower  mean_ci_upper\n",
      "7      28.997647  0.262443      28.487803      29.516616\n",
      "9      63.599959  0.630211      62.376685      64.847223\n",
      "12     20.024784  0.170897      19.692617      20.362553\n",
      "24     73.427717  0.769736      71.934455      74.951977\n",
      "26      3.665963  0.021370       3.624317       3.708089\n",
      "...          ...       ...            ...            ...\n",
      "39614   5.087080  0.027329       5.033798       5.140927\n",
      "39616   4.638403  0.026067       4.587592       4.689777\n",
      "39619   4.237253  0.024503       4.189500       4.285550\n",
      "39621   4.093450  0.022961       4.048694       4.138701\n",
      "39652   3.741053  0.022385       3.697435       3.785185\n",
      "\n",
      "[7948 rows x 4 columns]\n"
     ]
    }
   ],
   "source": [
    "#print out the predictions\n",
    "predictions_summary_frame = nb2_predictions.summary_frame()\n",
    "print(predictions_summary_frame)"
   ]
  },
  {
   "cell_type": "code",
   "execution_count": 85,
   "id": "c276208e",
   "metadata": {},
   "outputs": [
    {
     "data": {
      "image/png": "[encoded data removed]",
      "text/plain": [
       "<Figure size 432x288 with 1 Axes>"
      ]
     },
     "metadata": {
      "needs_background": "light"
     },
     "output_type": "display_data"
    }
   ],
   "source": [
    "#plot the predicted counts versus the actual counts for the test data\n",
    "predicted_counts=predictions_summary_frame['mean']\n",
    "actual_counts = y_test1['dropout_cnt']\n",
    "fig = plt.figure()\n",
    "fig.suptitle('Predicted versus actual dropout_cnt')\n",
    "predicted, = plt.plot(X_test1.index, predicted_counts, 'go-', label='Predicted counts')\n",
    "actual, = plt.plot(X_test1.index, actual_counts, 'ro-', label='Actual counts')\n",
    "plt.legend(handles=[predicted, actual])\n",
    "plt.show()"
   ]
  },
  {
   "cell_type": "markdown",
   "id": "8fec52ad",
   "metadata": {},
   "source": [
    "### Conclusion: "
   ]
  },
  {
   "cell_type": "markdown",
   "id": "4d3be6b0",
   "metadata": {},
   "source": [
    "- The “best” regression model from those we have constructed here, first multiple regression model works best here with 66% accuracy which we got after 5 fold cross validation.\n",
    "- We will apply that to the evaluation data set and assess how well it performs on that previously unseen data."
   ]
  },
  {
   "cell_type": "code",
   "execution_count": 86,
   "id": "2166add5",
   "metadata": {},
   "outputs": [
    {
     "name": "stdout",
     "output_type": "stream",
     "text": [
      "[0.66027659 0.68243378 0.68609429 0.65907689 0.67384137]\n"
     ]
    }
   ],
   "source": [
    "model = LinearRegression() #parameter for cross validation model\n",
    "\n",
    "# fit the model using 5-fold cross validation \n",
    "\n",
    "scoresfinal = cross_val_score(model, X_test, y_test, cv=5)\n",
    "\n",
    "# printing the R^2 metrics derived from the K-fold cross validation of this linear regression model\n",
    "print (scoresfinal)"
   ]
  },
  {
   "cell_type": "code",
   "execution_count": 87,
   "id": "a5e4b86f",
   "metadata": {},
   "outputs": [
    {
     "data": {
      "text/plain": [
       "0.6723445840062737"
      ]
     },
     "execution_count": 87,
     "metadata": {},
     "output_type": "execute_result"
    }
   ],
   "source": [
    "# calculating the average R^2 across all 5 folds\n",
    "np.mean(scoresfinal)"
   ]
  },
  {
   "cell_type": "markdown",
   "id": "c3d32677",
   "metadata": {},
   "source": [
    " - We can see that evaluation dataset also has similar result of arounf 67% accuracy"
   ]
  },
  {
   "cell_type": "markdown",
   "id": "235a81f1",
   "metadata": {},
   "source": [
    "References:\n",
    "1. Prof. Topor's Notebook\n",
    "2. https://www.youtube.com/watch?v=PzXb7dpgPFk\n",
    "3. https://gist.github.com/farid-mammadaliyev/775588d371316b25de3b62186b5898ec\n",
    "4. https://gist.github.com/sachinsdate/7c4bb6b82009a130466c48e0957ffb52\n",
    "5. https://www.pymc.io/projects/docs/en/v3/pymc-examples/examples/generalized_linear_models/GLM-negative-binomial-regression.html\n",
    "6. https://anton-granik.medium.com/fitting-and-visualizing-a-negative-binomial-distribution-in-python-3cc27fbc7ecf"
   ]
  },
  {
   "cell_type": "code",
   "execution_count": null,
   "id": "bac5b8cc",
   "metadata": {},
   "outputs": [],
   "source": []
  }
 ],
 "metadata": {
  "kernelspec": {
   "display_name": "Python 3",
   "language": "python",
   "name": "python3"
  },
  "language_info": {
   "codemirror_mode": {
    "name": "ipython",
    "version": 3
   },
   "file_extension": ".py",
   "mimetype": "text/x-python",
   "name": "python",
   "nbconvert_exporter": "python",
   "pygments_lexer": "ipython3",
   "version": "3.8.8"
  }
 },
 "nbformat": 4,
 "nbformat_minor": 5
}
