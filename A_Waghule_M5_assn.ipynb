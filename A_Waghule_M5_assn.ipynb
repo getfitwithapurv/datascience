{
 "cells": [
  {
   "cell_type": "markdown",
   "id": "b661eeab",
   "metadata": {},
   "source": [
    "#### Introduction: \n",
    "\n",
    "Calculating a suite of classification model performance metrics via Python code functions that we create and then comparing our results to those of pre-built Python functions that automatically calculate those same metrics. We will also be creating graphical output via Python code that can be used to evaluate the performance of classification models.\n",
    "\n",
    "Goal - Understanding Classification Model Performance Metrics\n",
    "Dataset - The data set for this work is comprised of approximately 180 labeled binary observations. The classifications are either ‘0’ or ‘1’. \n",
    "1. class: the actual classification for the observation\n",
    "2. scored.class: the predicted classification for the observation (can only be ‘0’ or ‘1’; identified by\n",
    "   comparing the classification model’s probability score (i.e., the likelihood that the correct classification\n",
    "   for an observation is a ‘1’) for the observation against a 0.50 threshold))\n",
    "3. scored.probability: the classification model’s probability score (i.e., the likelihood that the correct\n",
    "   classification for an observation is a ‘1’) for the observation\n",
    "\n",
    "Steps:\n",
    "1. Import dataset\n",
    "2. Use Pandas’ crosstab() function to calculate the contents of a confusion matrix for the data\n",
    "3. Extract the individual confusion matrix values from the output of crosstab()\n",
    "4. Define Python function for accuracy, precision, sensitivity, specificity, F1 Score and function to plot a ROC curve and also calculate AUC.\n",
    "5. Compare the output of your functions against the output of the pre-built functions available within the scikit-learn library."
   ]
  },
  {
   "cell_type": "code",
   "execution_count": 1,
   "id": "fc24e292",
   "metadata": {},
   "outputs": [
    {
     "data": {
      "text/html": [
       "<div>\n",
       "<style scoped>\n",
       "    .dataframe tbody tr th:only-of-type {\n",
       "        vertical-align: middle;\n",
       "    }\n",
       "\n",
       "    .dataframe tbody tr th {\n",
       "        vertical-align: top;\n",
       "    }\n",
       "\n",
       "    .dataframe thead th {\n",
       "        text-align: right;\n",
       "    }\n",
       "</style>\n",
       "<table border=\"1\" class=\"dataframe\">\n",
       "  <thead>\n",
       "    <tr style=\"text-align: right;\">\n",
       "      <th></th>\n",
       "      <th>pregnant</th>\n",
       "      <th>glucose</th>\n",
       "      <th>diastolic</th>\n",
       "      <th>skinfold</th>\n",
       "      <th>insulin</th>\n",
       "      <th>bmi</th>\n",
       "      <th>pedigree</th>\n",
       "      <th>age</th>\n",
       "      <th>class</th>\n",
       "      <th>scored.class</th>\n",
       "      <th>scored.probability</th>\n",
       "    </tr>\n",
       "  </thead>\n",
       "  <tbody>\n",
       "    <tr>\n",
       "      <th>0</th>\n",
       "      <td>7</td>\n",
       "      <td>124</td>\n",
       "      <td>70</td>\n",
       "      <td>33</td>\n",
       "      <td>215</td>\n",
       "      <td>25.5</td>\n",
       "      <td>0.161</td>\n",
       "      <td>37</td>\n",
       "      <td>0</td>\n",
       "      <td>0</td>\n",
       "      <td>0.328452</td>\n",
       "    </tr>\n",
       "    <tr>\n",
       "      <th>1</th>\n",
       "      <td>2</td>\n",
       "      <td>122</td>\n",
       "      <td>76</td>\n",
       "      <td>27</td>\n",
       "      <td>200</td>\n",
       "      <td>35.9</td>\n",
       "      <td>0.483</td>\n",
       "      <td>26</td>\n",
       "      <td>0</td>\n",
       "      <td>0</td>\n",
       "      <td>0.273190</td>\n",
       "    </tr>\n",
       "    <tr>\n",
       "      <th>2</th>\n",
       "      <td>3</td>\n",
       "      <td>107</td>\n",
       "      <td>62</td>\n",
       "      <td>13</td>\n",
       "      <td>48</td>\n",
       "      <td>22.9</td>\n",
       "      <td>0.678</td>\n",
       "      <td>23</td>\n",
       "      <td>1</td>\n",
       "      <td>0</td>\n",
       "      <td>0.109660</td>\n",
       "    </tr>\n",
       "    <tr>\n",
       "      <th>3</th>\n",
       "      <td>1</td>\n",
       "      <td>91</td>\n",
       "      <td>64</td>\n",
       "      <td>24</td>\n",
       "      <td>0</td>\n",
       "      <td>29.2</td>\n",
       "      <td>0.192</td>\n",
       "      <td>21</td>\n",
       "      <td>0</td>\n",
       "      <td>0</td>\n",
       "      <td>0.055998</td>\n",
       "    </tr>\n",
       "    <tr>\n",
       "      <th>4</th>\n",
       "      <td>4</td>\n",
       "      <td>83</td>\n",
       "      <td>86</td>\n",
       "      <td>19</td>\n",
       "      <td>0</td>\n",
       "      <td>29.3</td>\n",
       "      <td>0.317</td>\n",
       "      <td>34</td>\n",
       "      <td>0</td>\n",
       "      <td>0</td>\n",
       "      <td>0.100491</td>\n",
       "    </tr>\n",
       "  </tbody>\n",
       "</table>\n",
       "</div>"
      ],
      "text/plain": [
       "   pregnant  glucose  diastolic  skinfold  insulin   bmi  pedigree  age  \\\n",
       "0         7      124         70        33      215  25.5     0.161   37   \n",
       "1         2      122         76        27      200  35.9     0.483   26   \n",
       "2         3      107         62        13       48  22.9     0.678   23   \n",
       "3         1       91         64        24        0  29.2     0.192   21   \n",
       "4         4       83         86        19        0  29.3     0.317   34   \n",
       "\n",
       "   class  scored.class  scored.probability  \n",
       "0      0             0            0.328452  \n",
       "1      0             0            0.273190  \n",
       "2      1             0            0.109660  \n",
       "3      0             0            0.055998  \n",
       "4      0             0            0.100491  "
      ]
     },
     "execution_count": 1,
     "metadata": {},
     "output_type": "execute_result"
    }
   ],
   "source": [
    "# load the pandas library\n",
    "import pandas as pd\n",
    "import numpy as np\n",
    "# importing dataset from github.\n",
    "filename = \"https://raw.githubusercontent.com/getfitwithapurv/datascience/main/M5_Data%20(1).csv\"\n",
    "df = pd.read_csv(filename)\n",
    "df.head()"
   ]
  },
  {
   "cell_type": "code",
   "execution_count": 2,
   "id": "a4b7ae17",
   "metadata": {},
   "outputs": [
    {
     "name": "stdout",
     "output_type": "stream",
     "text": [
      "<class 'pandas.core.frame.DataFrame'>\n",
      "RangeIndex: 181 entries, 0 to 180\n",
      "Data columns (total 11 columns):\n",
      " #   Column              Non-Null Count  Dtype  \n",
      "---  ------              --------------  -----  \n",
      " 0   pregnant            181 non-null    int64  \n",
      " 1   glucose             181 non-null    int64  \n",
      " 2   diastolic           181 non-null    int64  \n",
      " 3   skinfold            181 non-null    int64  \n",
      " 4   insulin             181 non-null    int64  \n",
      " 5   bmi                 181 non-null    float64\n",
      " 6   pedigree            181 non-null    float64\n",
      " 7   age                 181 non-null    int64  \n",
      " 8   class               181 non-null    int64  \n",
      " 9   scored.class        181 non-null    int64  \n",
      " 10  scored.probability  181 non-null    float64\n",
      "dtypes: float64(3), int64(8)\n",
      "memory usage: 15.7 KB\n"
     ]
    }
   ],
   "source": [
    "df.info() # checking datatype and null values of data set"
   ]
  },
  {
   "cell_type": "code",
   "execution_count": 3,
   "id": "fd6a1a40",
   "metadata": {
    "scrolled": true
   },
   "outputs": [
    {
     "data": {
      "text/html": [
       "<div>\n",
       "<style scoped>\n",
       "    .dataframe tbody tr th:only-of-type {\n",
       "        vertical-align: middle;\n",
       "    }\n",
       "\n",
       "    .dataframe tbody tr th {\n",
       "        vertical-align: top;\n",
       "    }\n",
       "\n",
       "    .dataframe thead th {\n",
       "        text-align: right;\n",
       "    }\n",
       "</style>\n",
       "<table border=\"1\" class=\"dataframe\">\n",
       "  <thead>\n",
       "    <tr style=\"text-align: right;\">\n",
       "      <th>scored.class</th>\n",
       "      <th>0</th>\n",
       "      <th>1</th>\n",
       "    </tr>\n",
       "    <tr>\n",
       "      <th>class</th>\n",
       "      <th></th>\n",
       "      <th></th>\n",
       "    </tr>\n",
       "  </thead>\n",
       "  <tbody>\n",
       "    <tr>\n",
       "      <th>0</th>\n",
       "      <td>119</td>\n",
       "      <td>5</td>\n",
       "    </tr>\n",
       "    <tr>\n",
       "      <th>1</th>\n",
       "      <td>30</td>\n",
       "      <td>27</td>\n",
       "    </tr>\n",
       "  </tbody>\n",
       "</table>\n",
       "</div>"
      ],
      "text/plain": [
       "scored.class    0   1\n",
       "class                \n",
       "0             119   5\n",
       "1              30  27"
      ]
     },
     "execution_count": 3,
     "metadata": {},
     "output_type": "execute_result"
    }
   ],
   "source": [
    "# Using Pandas’ crosstab() function to calculate the contents of a confusion matrix for the data\n",
    "cm1 = pd.crosstab(df['class'],df['scored.class'],rownames=['class'], colnames=['scored.class']) \n",
    "cm1 "
   ]
  },
  {
   "cell_type": "markdown",
   "id": "5fea8e79",
   "metadata": {},
   "source": [
    "the rows represent the actual classification and the columns represent the predicted classification"
   ]
  },
  {
   "cell_type": "code",
   "execution_count": 4,
   "id": "35022bc8",
   "metadata": {},
   "outputs": [
    {
     "data": {
      "text/plain": [
       "class\n",
       "0    124\n",
       "1     57\n",
       "dtype: int64"
      ]
     },
     "execution_count": 4,
     "metadata": {},
     "output_type": "execute_result"
    }
   ],
   "source": [
    "df.value_counts('class')  # calculate the contents of a confusion matrix"
   ]
  },
  {
   "cell_type": "code",
   "execution_count": 5,
   "id": "b43087b9",
   "metadata": {},
   "outputs": [
    {
     "data": {
      "text/plain": [
       "scored.class\n",
       "0    149\n",
       "1     32\n",
       "dtype: int64"
      ]
     },
     "execution_count": 5,
     "metadata": {},
     "output_type": "execute_result"
    }
   ],
   "source": [
    "df.value_counts('scored.class') # calculate the contents of a confusion matrix for the data"
   ]
  },
  {
   "cell_type": "markdown",
   "id": "e39d4978",
   "metadata": {},
   "source": [
    "Observing the value_counts(), we see that the rows and columns in the crosstab() output sum to the respective value_counts(). "
   ]
  },
  {
   "cell_type": "code",
   "execution_count": 7,
   "id": "90367488",
   "metadata": {},
   "outputs": [],
   "source": [
    "# Now extracting the individual confusion matrix values i.e. (True Positive, False Positive,\n",
    "#True Negative, False Negative) from the output of crosstab()\n",
    "tp= []  #true positive\n",
    "tn =[] #true negative\n",
    "fp =[] #false positive\n",
    "fn =[] #false negative\n",
    "tp = cm1[1][1]\n",
    "tn = cm1[0][0]\n",
    "fp = cm1[0][1]\n",
    "fn = cm1[1][0]"
   ]
  },
  {
   "cell_type": "code",
   "execution_count": 8,
   "id": "3f191b40",
   "metadata": {},
   "outputs": [
    {
     "name": "stdout",
     "output_type": "stream",
     "text": [
      "27 119 30 5\n"
     ]
    }
   ],
   "source": [
    "print(tp,tn,fp,fn)"
   ]
  },
  {
   "cell_type": "markdown",
   "id": "a6b7fd67",
   "metadata": {},
   "source": [
    "#### Defining Python function for accuracy, precision, sensitivity, specificity, F1 Score and function to plot a ROC curve and also calculate AUC."
   ]
  },
  {
   "cell_type": "code",
   "execution_count": 9,
   "id": "21f354c7",
   "metadata": {},
   "outputs": [],
   "source": [
    "#Accuracy\n",
    "def acc(x1,x2):\n",
    "    cm = pd.crosstab(x1,x2,rownames=['x1'], colnames=['x2'])\n",
    "    tp = cm[1][1]\n",
    "    tn = cm[0][0]\n",
    "    fp = cm[0][1]\n",
    "    fn = cm[1][0]\n",
    "    accuracy = (tp+tn)/(tp+tn+fp+fn)\n",
    "    print(f'Accuracy is {accuracy}')"
   ]
  },
  {
   "cell_type": "code",
   "execution_count": 10,
   "id": "e66f2f56",
   "metadata": {},
   "outputs": [],
   "source": [
    "#Precision\n",
    "def prec(x1,x2):\n",
    "    cm = pd.crosstab(x1,x2,rownames=['x1'], colnames=['x2'])\n",
    "    tp = cm[1][1]\n",
    "    tn = cm[0][0]\n",
    "    fp = cm[0][1]\n",
    "    fn = cm[1][0]\n",
    "    precision = (tp)/(tp+fp)\n",
    "    print(f'Precision is {precision}')"
   ]
  },
  {
   "cell_type": "code",
   "execution_count": 11,
   "id": "509d2fe6",
   "metadata": {},
   "outputs": [],
   "source": [
    "#Sensitivity\n",
    "def sens(x1,x2):\n",
    "    cm = pd.crosstab(x1,x2,rownames=['x1'], colnames=['x2'])\n",
    "    tp = cm[1][1]\n",
    "    tn = cm[0][0]\n",
    "    fp = cm[0][1]\n",
    "    fn = cm[1][0]\n",
    "    sensitivity = (tp)/(tp+fn)\n",
    "    print(f'Sensitivity is {sensitivity}')"
   ]
  },
  {
   "cell_type": "code",
   "execution_count": 12,
   "id": "c5a3e478",
   "metadata": {},
   "outputs": [],
   "source": [
    "#Specificity\n",
    "def speci(x1,x2):\n",
    "    cm = pd.crosstab(x1,x2,rownames=['x1'], colnames=['x2'])\n",
    "    tp = cm[1][1]\n",
    "    tn = cm[0][0]\n",
    "    fp = cm[0][1]\n",
    "    fn = cm[1][0]\n",
    "    specificity = (tn)/(tn+fp)\n",
    "    print(f'Specificity is {specificity}')"
   ]
  },
  {
   "cell_type": "code",
   "execution_count": 13,
   "id": "4ebf2bb4",
   "metadata": {},
   "outputs": [],
   "source": [
    "#F1 Score\n",
    "def F1S(x1,x2):\n",
    "    cm = pd.crosstab(x1,x2,rownames=['x1'], colnames=['x2'])\n",
    "    tp = cm[1][1]\n",
    "    tn = cm[0][0]\n",
    "    fp = cm[0][1]\n",
    "    fn = cm[1][0]\n",
    "    sensitivity = (tp)/(tp+fn)\n",
    "    recall = sensitivity\n",
    "    precision = (tp)/(tp+fp)\n",
    "    F1_score = 2*((recall*precision)/(recall+precision))\n",
    "    print(f'F1 Score is {F1_score}')"
   ]
  },
  {
   "cell_type": "markdown",
   "id": "5c395549",
   "metadata": {},
   "source": [
    "Applying the Python functions you’ve created to the relevant columns of the provided data set to produce the classification metrics."
   ]
  },
  {
   "cell_type": "code",
   "execution_count": 14,
   "id": "88f693b8",
   "metadata": {},
   "outputs": [
    {
     "name": "stdout",
     "output_type": "stream",
     "text": [
      "Accuracy is 0.8066298342541437\n",
      "Precision is 0.47368421052631576\n",
      "Sensitivity is 0.84375\n",
      "Specificity is 0.7986577181208053\n",
      "F1 Score is 0.6067415730337079\n"
     ]
    }
   ],
   "source": [
    "acc(df['class'],df['scored.class'])\n",
    "prec(df['class'],df['scored.class'])\n",
    "sens(df['class'],df['scored.class'])\n",
    "speci(df['class'],df['scored.class'])\n",
    "F1S(df['class'],df['scored.class'])"
   ]
  },
  {
   "cell_type": "code",
   "execution_count": 24,
   "id": "5a57eb2f",
   "metadata": {},
   "outputs": [],
   "source": [
    "import matplotlib.pyplot as plt"
   ]
  },
  {
   "cell_type": "markdown",
   "id": "a683f708",
   "metadata": {},
   "source": [
    "User defined function for ROC "
   ]
  },
  {
   "cell_type": "code",
   "execution_count": 27,
   "id": "d8084508",
   "metadata": {},
   "outputs": [],
   "source": [
    "def tp_fp(x1,x2):\n",
    "    cm = pd.crosstab(x1,x2,rownames=['x1'], colnames=['x2'])\n",
    "    tp = cm[1][1]\n",
    "    tn = cm[0][0]\n",
    "    fp = cm[0][1]\n",
    "    fn = cm[1][0]\n",
    "    tpr = (tp / (tp + fn)) #tpr is true positive rate \n",
    "    fpr = (fp / (fp + tn)) #fpr is false positive rate\n",
    "    # Plot ROC curves\n",
    "    plt.plot(fpr,tpr)\n",
    "    plt.title(\"Between actual and predicted classifications\")\n",
    "    plt.ylabel('True Positive Rate')\n",
    "    plt.xlabel('False Positive Rate')\n",
    "    plt.show()"
   ]
  },
  {
   "cell_type": "markdown",
   "id": "261368c9",
   "metadata": {},
   "source": [
    "####  Output of the pre-built functions available within the scikit-learn library"
   ]
  },
  {
   "cell_type": "code",
   "execution_count": 34,
   "id": "6320527a",
   "metadata": {},
   "outputs": [],
   "source": [
    "from sklearn import metrics #importing required library"
   ]
  },
  {
   "cell_type": "code",
   "execution_count": 35,
   "id": "6b4d6979",
   "metadata": {},
   "outputs": [
    {
     "data": {
      "text/plain": [
       "array([[119,   5],\n",
       "       [ 30,  27]])"
      ]
     },
     "execution_count": 35,
     "metadata": {},
     "output_type": "execute_result"
    }
   ],
   "source": [
    "confusion_matrix = metrics.confusion_matrix(df['class'],df['scored.class'])\n",
    "confusion_matrix"
   ]
  },
  {
   "cell_type": "code",
   "execution_count": 36,
   "id": "6eed92f9",
   "metadata": {},
   "outputs": [
    {
     "name": "stdout",
     "output_type": "stream",
     "text": [
      "Accuracy is 0.8066298342541437\n",
      "Precision is 0.84375\n",
      "Sensitivity is 0.47368421052631576\n",
      "Specificity is 0.9596774193548387\n",
      "F1 Score is 0.6067415730337079\n"
     ]
    }
   ],
   "source": [
    "#pre built function\n",
    "Accuracy1 = metrics.accuracy_score(df['class'],df['scored.class'])\n",
    "Precision1 = metrics.precision_score(df['class'],df['scored.class'])\n",
    "Sensitivity_recall1 = metrics.recall_score(df['class'],df['scored.class'])\n",
    "Specificity1 = metrics.recall_score(df['class'],df['scored.class'], pos_label=0)\n",
    "F1_score1 = metrics.f1_score(df['class'],df['scored.class'])\n",
    "print( f'Accuracy is {Accuracy1}')\n",
    "print(f'Precision is {Precision1}')\n",
    "print(f'Sensitivity is {Sensitivity_recall1}')\n",
    "print(f'Specificity is {Specificity1}')\n",
    "print(f'F1 Score is {F1_score1}')"
   ]
  },
  {
   "cell_type": "code",
   "execution_count": 37,
   "id": "1018cf8d",
   "metadata": {},
   "outputs": [
    {
     "name": "stdout",
     "output_type": "stream",
     "text": [
      "              precision    recall  f1-score   support\n",
      "\n",
      "           0       0.80      0.96      0.87       124\n",
      "           1       0.84      0.47      0.61        57\n",
      "\n",
      "    accuracy                           0.81       181\n",
      "   macro avg       0.82      0.72      0.74       181\n",
      "weighted avg       0.81      0.81      0.79       181\n",
      "\n"
     ]
    }
   ],
   "source": [
    "X = metrics.classification_report(df['class'],df['scored.class'])\n",
    "print(X)"
   ]
  },
  {
   "cell_type": "code",
   "execution_count": 38,
   "id": "db78f0ab",
   "metadata": {},
   "outputs": [],
   "source": [
    "from sklearn.metrics import roc_curve, plot_roc_curve"
   ]
  },
  {
   "cell_type": "code",
   "execution_count": 39,
   "id": "0c0209bc",
   "metadata": {},
   "outputs": [],
   "source": [
    "fpr, tpr, _ = metrics.roc_curve(df['class'],df['scored.class']) "
   ]
  },
  {
   "cell_type": "code",
   "execution_count": 40,
   "id": "72e76951",
   "metadata": {},
   "outputs": [],
   "source": [
    "fpr1, tpr1, _ = metrics.roc_curve(df['class'],df['scored.probability'])"
   ]
  },
  {
   "cell_type": "code",
   "execution_count": 41,
   "id": "8290f88a",
   "metadata": {},
   "outputs": [
    {
     "data": {
      "image/png": "[encoded data removed]",
      "text/plain": [
       "<Figure size 432x288 with 1 Axes>"
      ]
     },
     "metadata": {
      "needs_background": "light"
     },
     "output_type": "display_data"
    }
   ],
   "source": [
    "#plotting receiver operating characteristic (ROC) curve\n",
    "plt.plot(fpr,tpr)\n",
    "plt.title(\"Between actual and predicted classifications\")\n",
    "plt.ylabel('True Positive Rate')\n",
    "plt.xlabel('False Positive Rate')\n",
    "plt.show()"
   ]
  },
  {
   "cell_type": "code",
   "execution_count": 42,
   "id": "992edabb",
   "metadata": {},
   "outputs": [
    {
     "data": {
      "image/png": "[encoded data removed]",
      "text/plain": [
       "<Figure size 432x288 with 1 Axes>"
      ]
     },
     "metadata": {
      "needs_background": "light"
     },
     "output_type": "display_data"
    }
   ],
   "source": [
    "#plotting receiver operating characteristic (ROC) curve\n",
    "plt.plot(fpr1,tpr1)\n",
    "plt.title(\"Between actual classification and associated scored probabilities \")\n",
    "plt.ylabel('True Positive Rate')\n",
    "plt.xlabel('False Positive Rate')\n",
    "plt.show()"
   ]
  },
  {
   "cell_type": "code",
   "execution_count": 43,
   "id": "c002518a",
   "metadata": {},
   "outputs": [
    {
     "name": "stdout",
     "output_type": "stream",
     "text": [
      "AUC value for class and scored class is 0.7166808149405772\n"
     ]
    }
   ],
   "source": [
    "#Calculating area under the (ROC) curve value\n",
    "auc1 = metrics.auc(fpr, tpr)\n",
    "print(f'AUC value for class and scored class is {auc1}')"
   ]
  },
  {
   "cell_type": "code",
   "execution_count": 44,
   "id": "7d941639",
   "metadata": {},
   "outputs": [
    {
     "name": "stdout",
     "output_type": "stream",
     "text": [
      "AUC value for class and scored probability is 0.8503112620260327\n"
     ]
    }
   ],
   "source": [
    "#Calculating area under the (ROC) curve value\n",
    "auc2 = metrics.auc(fpr1, tpr1)\n",
    "print(f'AUC value for class and scored probability is {auc2}')"
   ]
  },
  {
   "cell_type": "markdown",
   "id": "dca8b90b",
   "metadata": {},
   "source": [
    "#### Conclusion:"
   ]
  },
  {
   "cell_type": "markdown",
   "id": "46610154",
   "metadata": {},
   "source": [
    "- After observing the outputs of both the pre-built as well as user defined functions it is concluded that the pre-built functions in  scikit-learn library has exact same results to those of the user defined functions that we have created. \n",
    "- Result for ROC plot and calculate AUC is also same for both pre-built and user defined functions."
   ]
  },
  {
   "cell_type": "markdown",
   "id": "280595e4",
   "metadata": {},
   "source": [
    "References: \n",
    "1. https://www.analyticsvidhya.com/blog/2020/04/confusion-matrix-machine-learning/\n",
    "2. https://towardsdatascience.com/confusion-matrix-and-class-statistics-68b79f4f510b\n",
    "3. https://towardsdatascience.com/understanding-the-roc-curve-and-auc-dd4f9a192ecb"
   ]
  }
 ],
 "metadata": {
  "kernelspec": {
   "display_name": "Python 3",
   "language": "python",
   "name": "python3"
  },
  "language_info": {
   "codemirror_mode": {
    "name": "ipython",
    "version": 3
   },
   "file_extension": ".py",
   "mimetype": "text/x-python",
   "name": "python",
   "nbconvert_exporter": "python",
   "pygments_lexer": "ipython3",
   "version": "3.8.8"
  }
 },
 "nbformat": 4,
 "nbformat_minor": 5
}
